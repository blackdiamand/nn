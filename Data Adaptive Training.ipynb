{
 "cells": [
  {
   "cell_type": "markdown",
   "metadata": {
    "id": "z7BHYFAgeOP7"
   },
   "source": [
    "Source: [D2L section 3.2](https://d2l.ai/chapter_linear-networks/linear-regression-scratch.html)\n"
   ]
  },
  {
   "cell_type": "code",
   "execution_count": 92,
   "metadata": {
    "id": "MajaGLjBdDgM"
   },
   "outputs": [],
   "source": [
    "#!pip install d2l==0.17.0\n",
    "%matplotlib inline\n",
    "import random\n",
    "import numpy as np\n",
    "import tensorflow as tf\n",
    "# from d2l import tensorflow as d2l\n",
    "# for easier reading np\n",
    "np.set_printoptions(precision=4,suppress=True)"
   ]
  },
  {
   "cell_type": "markdown",
   "metadata": {
    "id": "I0Vjhrzydmh2"
   },
   "source": [
    "**Generating the Dataset**"
   ]
  },
  {
   "cell_type": "code",
   "execution_count": 93,
   "metadata": {
    "id": "84uWuOV9dWH7"
   },
   "outputs": [],
   "source": [
    "with open('iris.csv', 'r', encoding='utf-8-sig') as f:\n",
    "    temp = np.genfromtxt(f,delimiter=',')\n",
    "temp = np.array(temp, dtype=np.float32)\n",
    "features = temp[:,:3]\n",
    "labels = temp[:,3]"
   ]
  },
  {
   "cell_type": "code",
   "execution_count": 94,
   "metadata": {
    "colab": {
     "base_uri": "https://localhost:8080/"
    },
    "executionInfo": {
     "elapsed": 231,
     "status": "ok",
     "timestamp": 1676741948062,
     "user": {
      "displayName": "YU HEN HU",
      "userId": "04083449072545068296"
     },
     "user_tz": 360
    },
    "id": "m5t7ECQNdbgd",
    "outputId": "4d6b3780-21d0-44d1-e302-769710edb49d"
   },
   "outputs": [
    {
     "name": "stdout",
     "output_type": "stream",
     "text": [
      "features: [5.1 3.5 1.4] \n",
      "label: 0.2\n"
     ]
    }
   ],
   "source": [
    "print('features:', features[0], '\\nlabel:', labels[0])\n",
    "# d2l.set_figsize()\n",
    "# The semicolon is for displaying the plot only\n",
    "# d2l.plt.scatter(features[:, (1)].numpy(), labels.numpy(), 1);"
   ]
  },
  {
   "cell_type": "markdown",
   "metadata": {
    "id": "7-wRRhtjdi48"
   },
   "source": [
    "**Reading the Dataset**"
   ]
  },
  {
   "cell_type": "code",
   "execution_count": 95,
   "metadata": {
    "id": "MGmYZ7CzdfJM"
   },
   "outputs": [],
   "source": [
    "def data_iter(batch_size, features, labels):\n",
    "    num_examples = len(features)\n",
    "    indices = list(range(num_examples))\n",
    "    # The examples are read at random, in no particular order\n",
    "    random.shuffle(indices)\n",
    "    for i in range(0, num_examples, batch_size):\n",
    "        j = tf.constant(indices[i:min(i + batch_size, num_examples)])\n",
    "        yield tf.gather(features, j), tf.gather(labels, j)"
   ]
  },
  {
   "cell_type": "code",
   "execution_count": 96,
   "metadata": {
    "colab": {
     "base_uri": "https://localhost:8080/"
    },
    "executionInfo": {
     "elapsed": 5,
     "status": "ok",
     "timestamp": 1676741948062,
     "user": {
      "displayName": "YU HEN HU",
      "userId": "04083449072545068296"
     },
     "user_tz": 360
    },
    "id": "vh6YPIbHdgxl",
    "outputId": "7c6d8cae-7829-4838-ab64-742679e43223"
   },
   "outputs": [
    {
     "name": "stdout",
     "output_type": "stream",
     "text": [
      "tf.Tensor(\n",
      "[[5.8 2.8 5.1]\n",
      " [5.8 2.6 4. ]\n",
      " [6.3 2.8 5.1]\n",
      " [6.6 3.  4.4]\n",
      " [5.4 3.9 1.7]\n",
      " [6.4 3.2 5.3]\n",
      " [4.6 3.1 1.5]\n",
      " [4.9 3.1 1.5]\n",
      " [7.6 3.  6.6]\n",
      " [6.7 3.1 4.4]], shape=(10, 3), dtype=float32) \n",
      " tf.Tensor([2.4 1.2 1.5 1.4 0.4 2.3 0.2 0.1 2.1 1.4], shape=(10,), dtype=float32)\n"
     ]
    }
   ],
   "source": [
    "batch_size = 10\n",
    "\n",
    "for X, y in data_iter(batch_size, features, labels):\n",
    "    print(X, '\\n', y)\n",
    "    break"
   ]
  },
  {
   "cell_type": "markdown",
   "metadata": {
    "id": "DGBh5YNPdu4z"
   },
   "source": [
    "**Initializing Model Parameters**"
   ]
  },
  {
   "cell_type": "code",
   "execution_count": 97,
   "metadata": {
    "id": "8gOc3GnEdyIv"
   },
   "outputs": [],
   "source": [
    "w = tf.Variable(tf.random.normal(shape=(3, 1), mean=0, stddev=0.01),\n",
    "                trainable=True)\n",
    "b = tf.Variable(tf.zeros(1), trainable=True)"
   ]
  },
  {
   "cell_type": "markdown",
   "metadata": {
    "id": "p4MaIBe0d0-Y"
   },
   "source": [
    "**Defining the Model**"
   ]
  },
  {
   "cell_type": "code",
   "execution_count": 98,
   "metadata": {
    "id": "GWN7--ZAd3eS"
   },
   "outputs": [],
   "source": [
    "def linreg(X, w, b): \n",
    "    \"\"\"The linear regression model.\"\"\"\n",
    "    return tf.matmul(X, w) + b"
   ]
  },
  {
   "cell_type": "markdown",
   "metadata": {
    "id": "4aTsLk7yd6Rw"
   },
   "source": [
    "**Defining the Loss Function**"
   ]
  },
  {
   "cell_type": "code",
   "execution_count": 99,
   "metadata": {
    "id": "Q3MoZB-0d64m"
   },
   "outputs": [],
   "source": [
    "def squared_loss(y_hat, y):\n",
    "    \"\"\"Squared loss.\"\"\"\n",
    "    return (y_hat - tf.reshape(y, y_hat.shape))**2 / 2"
   ]
  },
  {
   "cell_type": "markdown",
   "metadata": {
    "id": "9t51DqNMd_UJ"
   },
   "source": [
    "**Defining the Optimization Algorithm**"
   ]
  },
  {
   "cell_type": "code",
   "execution_count": 100,
   "metadata": {
    "id": "siaLaTWwd-tT"
   },
   "outputs": [],
   "source": [
    "def sgd(params, grads, lr, batch_size):\n",
    "    \"\"\"Minibatch stochastic gradient descent.\"\"\"\n",
    "    for param, grad in zip(params, grads):\n",
    "        param.assign_sub(lr * grad / batch_size)"
   ]
  },
  {
   "cell_type": "markdown",
   "metadata": {
    "id": "Am64FhNQeHjJ"
   },
   "source": [
    "**Training**"
   ]
  },
  {
   "cell_type": "code",
   "execution_count": 101,
   "metadata": {
    "id": "v6JmOk7weJ0N"
   },
   "outputs": [],
   "source": [
    "lr = 0.03\n",
    "num_epochs = 5\n",
    "net = linreg\n",
    "loss = squared_loss"
   ]
  },
  {
   "cell_type": "code",
   "execution_count": 102,
   "metadata": {
    "colab": {
     "base_uri": "https://localhost:8080/"
    },
    "executionInfo": {
     "elapsed": 2006,
     "status": "ok",
     "timestamp": 1676741950219,
     "user": {
      "displayName": "YU HEN HU",
      "userId": "04083449072545068296"
     },
     "user_tz": 360
    },
    "id": "NZXVBu91eLav",
    "outputId": "6e106f17-3b50-4970-8ad5-01c3f6083647"
   },
   "outputs": [
    {
     "name": "stdout",
     "output_type": "stream",
     "text": [
      "epoch 1, loss 0.143614\n",
      "epoch 2, loss 0.031784\n",
      "epoch 3, loss 0.047673\n",
      "epoch 4, loss 0.096483\n",
      "epoch 5, loss 0.024490\n"
     ]
    }
   ],
   "source": [
    "for epoch in range(num_epochs):\n",
    "    for X, y in data_iter(batch_size, features, labels):\n",
    "        with tf.GradientTape() as g:\n",
    "            l = loss(net(X, w, b), y)  # Minibatch loss in `X` and `y`\n",
    "        # Compute gradient on l with respect to [`w`, `b`]\n",
    "        dw, db = g.gradient(l, [w, b])\n",
    "        # Update parameters using their gradient\n",
    "        sgd([w, b], [dw, db], lr, batch_size)\n",
    "    train_l = loss(net(features, w, b), labels)\n",
    "    print(f'epoch {epoch + 1}, loss {float(tf.reduce_mean(train_l)):f}')"
   ]
  },
  {
   "cell_type": "code",
   "execution_count": 103,
   "metadata": {
    "colab": {
     "base_uri": "https://localhost:8080/"
    },
    "executionInfo": {
     "elapsed": 5,
     "status": "ok",
     "timestamp": 1676741950219,
     "user": {
      "displayName": "YU HEN HU",
      "userId": "04083449072545068296"
     },
     "user_tz": 360
    },
    "id": "jPOy0pgTeNT8",
    "outputId": "98180fac-51d6-465d-b9af-893036aab67c"
   },
   "outputs": [
    {
     "name": "stdout",
     "output_type": "stream",
     "text": [
      "<tf.Variable 'Variable:0' shape=(3, 1) dtype=float32, numpy=\n",
      "array([[ 0.0149],\n",
      "       [-0.1038],\n",
      "       [ 0.3808]], dtype=float32)>\n",
      "<tf.Variable 'Variable:0' shape=(1,) dtype=float32, numpy=array([-0.0247], dtype=float32)>\n",
      "0.9153366789053365\n"
     ]
    }
   ],
   "source": [
    "print(w)\n",
    "print(b)\n",
    "from sklearn.metrics import r2_score\n",
    "y_hat = [b + w[0]*y_row[0] + w[1]*y_row[1] + w[2]*y_row[2] for y_row in features]\n",
    "print(r2_score(labels, y_hat))"
   ]
  },
  {
   "cell_type": "code",
   "execution_count": 104,
   "metadata": {
    "scrolled": true
   },
   "outputs": [
    {
     "name": "stdout",
     "output_type": "stream",
     "text": [
      "(150, 3)\n",
      "(150,)\n",
      "intercept=  -0.24872482\n",
      "Slope (coefficients)= [-0.2103  0.2288  0.5261]\n",
      "r-squared 0.9380481272962801\n"
     ]
    }
   ],
   "source": [
    "from sklearn.linear_model import LinearRegression\n",
    "print(features.shape)\n",
    "print(labels.shape)\n",
    "\n",
    "reg = LinearRegression().fit(features,labels)\n",
    "\n",
    "print('intercept= ', reg.intercept_)\n",
    "print('Slope (coefficients)=', reg.coef_)\n",
    "print('r-squared', reg.score(features, labels))"
   ]
  }
 ],
 "metadata": {
  "colab": {
   "provenance": []
  },
  "kernelspec": {
   "display_name": "Python 3 (ipykernel)",
   "language": "python",
   "name": "python3"
  },
  "language_info": {
   "codemirror_mode": {
    "name": "ipython",
    "version": 3
   },
   "file_extension": ".py",
   "mimetype": "text/x-python",
   "name": "python",
   "nbconvert_exporter": "python",
   "pygments_lexer": "ipython3",
   "version": "3.9.6"
  }
 },
 "nbformat": 4,
 "nbformat_minor": 4
}
