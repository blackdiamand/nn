{
 "cells": [
  {
   "cell_type": "code",
   "execution_count": 10,
   "id": "initial_id",
   "metadata": {
    "ExecuteTime": {
     "end_time": "2024-03-07T04:22:29.335619Z",
     "start_time": "2024-03-07T04:22:29.085049Z"
    }
   },
   "outputs": [],
   "source": [
    "import numpy as np\n"
   ]
  },
  {
   "cell_type": "code",
   "execution_count": 11,
   "id": "a347399542bd1b75",
   "metadata": {
    "ExecuteTime": {
     "end_time": "2024-03-07T04:22:29.345611Z",
     "start_time": "2024-03-07T04:22:29.335637Z"
    },
    "collapsed": false,
    "jupyter": {
     "outputs_hidden": false
    }
   },
   "outputs": [],
   "source": [
    "X = np.array([[1,2], [2,-1], [3,0]])\n",
    "W_1 = np.array([[0.1, -0.1], [0.2,0], [0,0.3]])\n",
    "W_2 = np.array([[0.05], [-0.1], [0.2]])\n",
    "y = np.array([[0], [1], [0]])"
   ]
  },
  {
   "cell_type": "code",
   "execution_count": 12,
   "id": "c8ab7dbd-ab38-4550-a643-acb8ff591ee1",
   "metadata": {},
   "outputs": [],
   "source": [
    "import math\n",
    "def sigmoid(x):\n",
    "  return 1 / (1 + math.exp(-x))"
   ]
  },
  {
   "cell_type": "code",
   "execution_count": 17,
   "id": "8cad6621c2512d6c",
   "metadata": {
    "ExecuteTime": {
     "end_time": "2024-03-07T04:22:29.349728Z",
     "start_time": "2024-03-07T04:22:29.344123Z"
    },
    "collapsed": false,
    "jupyter": {
     "outputs_hidden": false
    }
   },
   "outputs": [
    {
     "name": "stdout",
     "output_type": "stream",
     "text": [
      "[[ 0.3  0.5]\n",
      " [ 0.5 -0.4]\n",
      " [ 0.7 -0.1]]\n",
      "[[0.57444252 0.62245933]\n",
      " [0.62245933 0.40131234]\n",
      " [0.66818777 0.47502081]]\n",
      "[[0.11704761]\n",
      " [0.06801653]\n",
      " [0.07818539]]\n",
      "[[0.52922854]\n",
      " [0.51699758]\n",
      " [0.5195364 ]]\n"
     ]
    }
   ],
   "source": [
    "Z_0 = X\n",
    "U_1 = np.hstack((np.ones((3,1)), Z_0)) @ W_1\n",
    "print(U_1)\n",
    "\n",
    "Z_1 = np.vectorize(sigmoid)(U_1)\n",
    "print(Z_1)\n",
    "\n",
    "U_2 = np.hstack((np.ones((3,1)), Z_1)) @ W_2\n",
    "print(U_2)\n",
    "\n",
    "Z_2 = np.vectorize(sigmoid)(U_2)\n",
    "print(Z_2)"
   ]
  },
  {
   "cell_type": "code",
   "execution_count": 28,
   "id": "0124bebe-93f9-4ff0-b75e-90327b4e0cc2",
   "metadata": {},
   "outputs": [
    {
     "name": "stdout",
     "output_type": "stream",
     "text": [
      "[[ 0.13185501]\n",
      " [-0.12061106]\n",
      " [ 0.12968581]]\n",
      "[[-0.0131855   0.026371  ]\n",
      " [ 0.01206111 -0.02412221]\n",
      " [-0.01296858  0.02593716]]\n"
     ]
    }
   ],
   "source": [
    "def sigmoid_deriv(x):\n",
    "    return sigmoid(x) * (1 - sigmoid(x))\n",
    "sigma_2 = np.vectorize(sigmoid_deriv)(U_2) * (Z_2 - y)\n",
    "print(sigma_2)\n",
    "\n",
    "sigma_1 = sigma_2 @ W_2[1:, :].T\n",
    "print(sigma_1)"
   ]
  },
  {
   "cell_type": "code",
   "execution_count": 32,
   "id": "e8319cd0-03c3-4d97-bc03-235c46aa92fa",
   "metadata": {},
   "outputs": [
    {
     "name": "stdout",
     "output_type": "stream",
     "text": [
      "[[0.14092976]\n",
      " [0.08732212]\n",
      " [0.09527513]]\n",
      "[[ 0.04295351]\n",
      " [-0.10436611]\n",
      " [ 0.19523624]]\n",
      "[[-0.01409298  0.02818595]\n",
      " [-0.02796903  0.05593806]\n",
      " [-0.03843211  0.07686422]]\n",
      "[[ 0.10070465 -0.1014093 ]\n",
      " [ 0.20139845 -0.0027969 ]\n",
      " [ 0.00192161  0.29615679]]\n"
     ]
    }
   ],
   "source": [
    "alpha = 0.05\n",
    "W_2_grad = np.hstack((np.ones((3,1)), Z_1)).T @ sigma_2\n",
    "W_2_new = W_2 - (alpha * W_2_grad)\n",
    "print(W_2_grad)\n",
    "print(W_2_new)\n",
    "\n",
    "W_1_grad = np.hstack((np.ones((3,1)), Z_0)).T @ sigma_1\n",
    "W_1_new = W_1 - (alpha * W_1_grad)\n",
    "print(W_1_grad)\n",
    "print(W_1_new)"
   ]
  }
 ],
 "metadata": {
  "kernelspec": {
   "display_name": "Python 3 (ipykernel)",
   "language": "python",
   "name": "python3"
  },
  "language_info": {
   "codemirror_mode": {
    "name": "ipython",
    "version": 3
   },
   "file_extension": ".py",
   "mimetype": "text/x-python",
   "name": "python",
   "nbconvert_exporter": "python",
   "pygments_lexer": "ipython3",
   "version": "3.9.6"
  }
 },
 "nbformat": 4,
 "nbformat_minor": 5
}
