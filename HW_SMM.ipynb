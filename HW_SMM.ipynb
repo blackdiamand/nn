{
 "cells": [
  {
   "cell_type": "code",
   "execution_count": 2,
   "id": "initial_id",
   "metadata": {
    "ExecuteTime": {
     "end_time": "2024-03-01T01:06:27.481691Z",
     "start_time": "2024-03-01T01:06:27.166958Z"
    }
   },
   "outputs": [],
   "source": [
    "import numpy as np\n",
    "\n",
    "x = np.array( [[1,1,1,1,1,1,1,1,1,1 ],\n",
    "             [0.84, 0.81, 0.92, 0.19, 0.61, 0.35, 0.58, 0.91, 0.75, 0.38], \n",
    "             [0.25, 0.24, 0.34, 0.25, 0.47, 0.83, 0.54, 0.28, 0.75, 0.56]])\n",
    "y = np.array([1, 1, 1, 0, 0, 0, 0, 1, 0, 0])\n",
    "w = np.array([-1, 10, -11.25]).reshape((-1,1))\n",
    "\n",
    "z = x.T @ w\n"
   ]
  },
  {
   "cell_type": "code",
   "execution_count": 3,
   "id": "a86bfc1e4bbbec6c",
   "metadata": {
    "collapsed": false,
    "jupyter": {
     "outputs_hidden": false
    }
   },
   "outputs": [
    {
     "name": "stdout",
     "output_type": "stream",
     "text": [
      "sigmoid\n",
      " [[0.98992428]\n",
      " [0.98787157]\n",
      " [0.98756835]\n",
      " [0.12870025]\n",
      " [0.45326185]\n",
      " [0.00107163]\n",
      " [0.21840254]\n",
      " [0.99296641]\n",
      " [0.12592276]\n",
      " [0.02931223]]\n"
     ]
    }
   ],
   "source": [
    "import math\n",
    "sigmoid = lambda v:  1 / (1 + math.exp(-v))\n",
    "print(\"sigmoid\\n\", np.vectorize(sigmoid)(z))"
   ]
  },
  {
   "cell_type": "code",
   "execution_count": 4,
   "id": "73374369-6d4e-4ff3-8f51-be63391bab65",
   "metadata": {},
   "outputs": [
    {
     "name": "stdout",
     "output_type": "stream",
     "text": [
      "tanh\n",
      " [[ 0.99979283]\n",
      " [ 0.99969858]\n",
      " [ 0.99968313]\n",
      " [-0.95729489]\n",
      " [-0.1853332 ]\n",
      " [-0.9999977 ]\n",
      " [-0.85514703]\n",
      " [ 0.99989966]\n",
      " [-0.95933529]\n",
      " [-0.9981779 ]]\n"
     ]
    }
   ],
   "source": [
    "print(\"tanh\\n\", np.tanh(z))"
   ]
  },
  {
   "cell_type": "code",
   "execution_count": 5,
   "id": "9ea04768-ef0f-4ebe-bd44-bb5c8e7b0016",
   "metadata": {},
   "outputs": [
    {
     "name": "stdout",
     "output_type": "stream",
     "text": [
      "ReLU\n",
      " [[4.5875]\n",
      " [4.4   ]\n",
      " [4.375 ]\n",
      " [0.    ]\n",
      " [0.    ]\n",
      " [0.    ]\n",
      " [0.    ]\n",
      " [4.95  ]\n",
      " [0.    ]\n",
      " [0.    ]]\n"
     ]
    }
   ],
   "source": [
    "relu = lambda v: max(0,v)\n",
    "print(\"ReLU\\n\", np.vectorize(relu)(z))"
   ]
  },
  {
   "cell_type": "code",
   "execution_count": 6,
   "id": "e97ee29f-08da-4cd5-859b-7eaae4075696",
   "metadata": {},
   "outputs": [
    {
     "name": "stdout",
     "output_type": "stream",
     "text": [
      "threshold\n",
      " [[1]\n",
      " [1]\n",
      " [1]\n",
      " [0]\n",
      " [0]\n",
      " [0]\n",
      " [0]\n",
      " [1]\n",
      " [0]\n",
      " [0]]\n"
     ]
    }
   ],
   "source": [
    "threshold = lambda v: 1 if v >= 0 else 0\n",
    "print(\"threshold\\n\", np.vectorize(threshold)(z))"
   ]
  },
  {
   "cell_type": "code",
   "execution_count": 25,
   "id": "a10dfef1-5469-46e5-b060-983ef557c359",
   "metadata": {},
   "outputs": [
    {
     "name": "stdout",
     "output_type": "stream",
     "text": [
      "[[ -2.83125  ]\n",
      " [  8.4053   ]\n",
      " [-11.7576375]]\n"
     ]
    }
   ],
   "source": [
    "def I():\n",
    "    return np.linalg.norm(z-y)\n",
    "def grad_i():\n",
    "    relu_derivative = lambda v: 0 if v < 0 else 1\n",
    "    s = np.zeros(shape=(10, 3))\n",
    "    for i in range(10):\n",
    "        s[i] = ((z[i] * y[i]) * ((relu_derivative((w.T @ x)[0][i])) * x[:,i]))\n",
    "    s1 = np.sum(s, axis=0)\n",
    "    return s1\n",
    "\n",
    "alpha = 0.1\n",
    "w_t1 = w - (alpha * grad_i()).reshape((-1,1))\n",
    "#print(alpha * grad_i())\n",
    "#print(w)\n",
    "print(w_t1)"
   ]
  }
 ],
 "metadata": {
  "kernelspec": {
   "display_name": "Python 3 (ipykernel)",
   "language": "python",
   "name": "python3"
  },
  "language_info": {
   "codemirror_mode": {
    "name": "ipython",
    "version": 3
   },
   "file_extension": ".py",
   "mimetype": "text/x-python",
   "name": "python",
   "nbconvert_exporter": "python",
   "pygments_lexer": "ipython3",
   "version": "3.9.6"
  }
 },
 "nbformat": 4,
 "nbformat_minor": 5
}
