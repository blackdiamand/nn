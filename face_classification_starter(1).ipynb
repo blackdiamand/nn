{
 "cells": [
  {
   "cell_type": "code",
   "execution_count": 4,
   "metadata": {
    "ExecuteTime": {
     "end_time": "2024-04-30T18:58:10.490331Z",
     "start_time": "2024-04-30T18:58:09.327545Z"
    },
    "colab": {
     "base_uri": "https://localhost:8080/",
     "height": 0
    },
    "id": "MOOJbknmDvYn",
    "outputId": "5a69f1ea-f3cf-49c2-a41c-0a354c8c1ef8",
    "scrolled": true
   },
   "outputs": [],
   "source": [
    "import numpy as np\n",
    "import matplotlib.pyplot as plt\n",
    "from scipy.io import loadmat\n",
    "\n",
    "dataset = loadmat('data/face_emotion_data.mat')\n",
    "\n",
    "X, y = dataset['X'], dataset['y']\n",
    "\n",
    "n, features = np.shape(X)\n",
    "p = 128 #num testing samples\n",
    "lam = 0.5 #ridge regression parameter\n"
   ]
  },
  {
   "cell_type": "code",
   "execution_count": 5,
   "metadata": {
    "id": "hBC_yEJ0oeVl"
   },
   "outputs": [],
   "source": [
    "sigmas = np.linspace(0.01, 50, num=50)\n",
    "acc = []\n",
    "predicted = np.zeros((n, features))\n",
    "for sigma in sigmas:\n",
    "  for col in range(features):\n",
    "    X_feat = X[:, [col]]\n",
    "\n",
    "    distsq=np.zeros((n, n),dtype=float)\n",
    "    for i in range(0,n):\n",
    "        for j in range(0,n):\n",
    "          distsq[i,j]=(X_feat[i][0]-X_feat[j][0])**2\n",
    "\n",
    "    K = np.exp(-distsq/(2*sigma**2))\n",
    "    alpha = np.linalg.inv(K+lam*np.identity(n))@y\n",
    "\n",
    "    x_test = np.linspace(np.min(X_feat), np.max(X_feat), p)\n",
    "    distsq_xtest = np.zeros((p,n),dtype=float)\n",
    "    for i in range(0,p):\n",
    "        for j in range(0,n):\n",
    "            distsq_xtest[i,j] = (X_feat[j][0]-x_test[i])**2\n",
    "\n",
    "    dtest = np.exp(-distsq_xtest/(2*sigma**2))@alpha\n",
    "    signTest = np.sign(np.exp(-distsq_xtest/(2*sigma**2))@alpha)\n",
    "\n",
    "    fun = np.zeros((p,n),dtype=float)\n",
    "    for i in range(0,p):\n",
    "        for j in range(0,n):\n",
    "            fun[i,j] = (X_feat[i][0]-X_feat[j][0])**2\n",
    "\n",
    "    predData = np.exp(-fun/(2*sigma**2))@alpha\n",
    "    predicted[:, col] = predData.flatten()\n",
    "    \"\"\"\n",
    "    plt.plot(X_feat,y,'bo',label='Measured data')\n",
    "    plt.plot(x_test,dtest,'r',label='Kernel fit')\n",
    "    plt.plot(x_test,signTest,'orange',label='Sign fit')\n",
    "    plt.plot(X_feat,predData,'go',label='Measured data (predicted)')\n",
    "    plt.title(f'Data and Kernel Fit, Lambda = {lam}, Sigma = {sigma}')\n",
    "    plt.legend(loc='lower right')\n",
    "    plt.xlabel('x')\n",
    "    plt.ylabel('d')\"\"\"\n",
    "    #plt.show()\n",
    "\n",
    "  final_pred = np.sign(np.sum(predicted, axis=1)).reshape((-1,1))\n",
    "  #print(\"Accuracy\")\n",
    "  #print(sigma)\n",
    "  #print(np.sum(final_pred == y) / n)\n",
    "  acc.append(np.sum(final_pred == y) / n)"
   ]
  },
  {
   "cell_type": "code",
   "execution_count": 6,
   "metadata": {
    "colab": {
     "base_uri": "https://localhost:8080/",
     "height": 449
    },
    "id": "LLEKTZsgIQNr",
    "outputId": "f7f699bd-469b-4608-9551-1bc479ec6f59"
   },
   "outputs": [
    {
     "data": {
      "image/png": "[encoded data removed]",
      "text/plain": [
       "<Figure size 640x480 with 1 Axes>"
      ]
     },
     "metadata": {},
     "output_type": "display_data"
    }
   ],
   "source": [
    "plt.plot(sigmas,acc,'o',label='Accuracy as a function of sigma')\n",
    "plt.xlabel('sigma')\n",
    "plt.ylabel('accuracy')\n",
    "plt.show()\n",
    "#this plot is just showing overfitting/the bias variance tradeoff\n",
    "#We can achieve zero error by severely overfitting with sigma = 0.01"
   ]
  },
  {
   "cell_type": "code",
   "execution_count": 7,
   "metadata": {
    "id": "050rrnjlHxmC"
   },
   "outputs": [],
   "source": [
    "sigmas = np.linspace(0.01, 30, num=20)\n",
    "acc = []\n",
    "for sigma in sigmas:\n",
    "  folds = 8\n",
    "  sumAcc = 0\n",
    "  for i in range(folds):\n",
    "    bin_size = int(n/folds)\n",
    "    X_test = X[bin_size*i:bin_size*(i+1)]\n",
    "    X_train = np.vstack((X[0:bin_size*i], X[bin_size*(i+1):]))\n",
    "\n",
    "    y_vertical = y.flatten()\n",
    "    y_test = y_vertical[bin_size*i:bin_size*(i+1)]\n",
    "    y_train = np.hstack((y_vertical[0:bin_size*i], y_vertical[bin_size*(i+1):]))\n",
    "    p = bin_size\n",
    "    n = np.shape(X_train)[0]\n",
    "    predicted = np.zeros((bin_size, features))\n",
    "\n",
    "    for col in range(features):\n",
    "      X_feat = X_train[:, [col]]\n",
    "\n",
    "      distsq=np.zeros((n, n),dtype=float)\n",
    "      for i in range(0,n):\n",
    "          for j in range(0,n):\n",
    "            distsq[i,j]=(X_feat[i][0]-X_feat[j][0])**2\n",
    "\n",
    "      K = np.exp(-distsq/(2*sigma**2))\n",
    "      alpha = np.linalg.inv(K+lam*np.identity(n))@y_train\n",
    "\n",
    "      x_test = np.linspace(np.min(X_feat), np.max(X_feat), p)\n",
    "      distsq_xtest = np.zeros((p,n),dtype=float)\n",
    "      for i in range(0,p):\n",
    "          for j in range(0,n):\n",
    "              distsq_xtest[i,j] = (X_feat[j][0]-x_test[i])**2\n",
    "\n",
    "      dtest = np.exp(-distsq_xtest/(2*sigma**2))@alpha\n",
    "      signTest = np.sign(np.exp(-distsq_xtest/(2*sigma**2))@alpha)\n",
    "\n",
    "      fun = np.zeros((p,n),dtype=float)\n",
    "      for i in range(0,p):\n",
    "          for j in range(0,n):\n",
    "              fun[i,j] = (X_test[i][0]-X_feat[j][0])**2\n",
    "\n",
    "      predData = np.exp(-fun/(2*sigma**2))@alpha\n",
    "      predicted[:, col] = predData.flatten()\n",
    "    final_pred = np.sign(np.sum(predicted, axis=1)).reshape((-1,1))\n",
    "\n",
    "    y_test = y_test.reshape((-1,1))\n",
    "    sumAcc += np.sum(final_pred == y_test)/bin_size\n",
    "  acc.append(sumAcc/(folds))"
   ]
  },
  {
   "cell_type": "code",
   "execution_count": 8,
   "metadata": {
    "colab": {
     "base_uri": "https://localhost:8080/",
     "height": 449
    },
    "id": "XHDbD8lcToBp",
    "outputId": "4eb9980e-7192-42b0-80a0-4fa01a944ec1"
   },
   "outputs": [
    {
     "data": {
      "image/png": "[encoded data removed]",
      "text/plain": [
       "<Figure size 640x480 with 1 Axes>"
      ]
     },
     "metadata": {},
     "output_type": "display_data"
    }
   ],
   "source": [
    "plt.plot(sigmas,acc,'o',label='Accuracy as a function of sigma')\n",
    "plt.xlabel('sigma')\n",
    "plt.ylabel('accuracy')\n",
    "plt.show()\n",
    "#Perfect accuracy is unachievable of course. The accuracy is 0.93 or so."
   ]
  }
 ],
 "metadata": {
  "colab": {
   "provenance": []
  },
  "kernelspec": {
   "display_name": "Python 3 (ipykernel)",
   "language": "python",
   "name": "python3"
  },
  "language_info": {
   "codemirror_mode": {
    "name": "ipython",
    "version": 3
   },
   "file_extension": ".py",
   "mimetype": "text/x-python",
   "name": "python",
   "nbconvert_exporter": "python",
   "pygments_lexer": "ipython3",
   "version": "3.9.6"
  }
 },
 "nbformat": 4,
 "nbformat_minor": 4
}
