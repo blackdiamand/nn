{
 "cells": [
  {
   "cell_type": "code",
   "execution_count": 3,
   "id": "initial_id",
   "metadata": {
    "ExecuteTime": {
     "end_time": "2024-02-29T21:02:59.605858Z",
     "start_time": "2024-02-29T21:02:59.600071Z"
    }
   },
   "outputs": [
    {
     "name": "stdout",
     "output_type": "stream",
     "text": [
      "(1599, 11)\n",
      "(1599,)\n",
      "[3. 4. 5. 6. 7. 8.]\n"
     ]
    }
   ],
   "source": [
    "import numpy as np\n",
    "import pandas as pd\n",
    "import collections\n",
    "\n",
    "\n",
    "with open('winequality-red.csv', 'r', encoding='utf-8-sig') as f:\n",
    "  df = pd.read_csv(f)\n",
    "\n",
    "data = df.to_numpy()\n",
    "\n",
    "X = data[:, :-1]\n",
    "y = data[:, -1]\n",
    "#Print the shapes of X and y\n",
    "print(X.shape)\n",
    "print(y.shape)\n",
    "#list all distinct class labels\n",
    "print(np.unique(y))\n",
    "# split X and y into training and testing sets\n",
    "from sklearn.model_selection import train_test_split\n",
    "X_train, X_test, y_train, y_test = train_test_split(X, y, test_size=0.2, stratify=y)"
   ]
  },
  {
   "cell_type": "code",
   "execution_count": 4,
   "id": "37491b54783683ec",
   "metadata": {
    "collapsed": false
   },
   "outputs": [
    {
     "name": "stdout",
     "output_type": "stream",
     "text": [
      "(1279,)\n",
      "(1279, 11)\n"
     ]
    }
   ],
   "source": [
    "from sklearn.linear_model import LogisticRegression\n",
    "# Create an instance of Logistic Regression Classifier and fit the data.\n",
    "logreg = LogisticRegression(multi_class='auto', max_iter=10000)\n",
    "clf = logreg.fit(X_train, y_train)\n",
    "print(y_train.shape)\n",
    "print(X_train.shape)\n",
    "#print(clf.coef_, clf.intercept_)"
   ]
  },
  {
   "cell_type": "code",
   "execution_count": 5,
   "id": "73278ac9-2bf6-4738-ae3d-b582e860164b",
   "metadata": {},
   "outputs": [
    {
     "name": "stdout",
     "output_type": "stream",
     "text": [
      "Confusion Matrix: \n",
      "[[  0   0   2   0   0   0]\n",
      " [  0   0   9   2   0   0]\n",
      " [  0   0 105  30   1   0]\n",
      " [  0   0  36  84   8   0]\n",
      " [  0   0   2  32   6   0]\n",
      " [  0   0   0   3   0   0]]\n",
      "Accuracy: 60.938%\n"
     ]
    }
   ],
   "source": [
    "# Confusion matrix of the testing dataset\n",
    "y_hat = clf.predict(X_test)\n",
    "from sklearn.metrics import confusion_matrix\n",
    "\n",
    "Cmat = confusion_matrix(y_test, y_hat)\n",
    "acc = clf.score(X_test,y_test)\n",
    "\n",
    "print(\"Confusion Matrix: \")\n",
    "print(Cmat)\n",
    "print(\"Accuracy: \" + str(format(acc*100,'.3f')) + '%')"
   ]
  },
  {
   "cell_type": "code",
   "execution_count": 6,
   "id": "70bc4ab4-13f9-40f6-ac35-801a1b4d430a",
   "metadata": {},
   "outputs": [
    {
     "name": "stdout",
     "output_type": "stream",
     "text": [
      "[[-5.07756683 -3.36291801 -0.7201979  -0.83579531 -3.28286719 -6.55367186]\n",
      " [-3.72411169 -3.58757521 -1.128523   -0.64719156 -2.32588331 -5.66120323]\n",
      " [-5.8308792  -3.58517798 -1.69804738 -0.50521909 -1.74614507 -4.77078852]\n",
      " ...\n",
      " [-4.7261708  -2.77420762 -0.43940825 -1.30343113 -4.42660463 -7.16937077]\n",
      " [-4.13108485 -3.23131612 -0.66947128 -0.90294985 -3.64126005 -7.06032826]\n",
      " [-3.11842695 -4.11490259 -0.69984425 -0.95225316 -2.89296413 -6.50176072]]\n"
     ]
    }
   ],
   "source": [
    "print(clf.predict_log_proba(X_test))"
   ]
  },
  {
   "cell_type": "code",
   "execution_count": 18,
   "id": "18811760-8fb0-4a8a-a484-4da2ee707f2b",
   "metadata": {},
   "outputs": [
    {
     "name": "stdout",
     "output_type": "stream",
     "text": [
      "[5. 6. 6. 7. 6. 6. 5. 7. 6. 4. 6. 5. 5. 5. 3. 6. 6. 6. 6. 5. 5. 6. 6. 6.\n",
      " 6. 4. 5. 6. 7. 5. 5. 7. 6. 6. 5. 6. 6. 6. 7. 5. 7. 5. 6. 6. 5. 5. 6. 5.\n",
      " 7. 7. 6. 5. 6. 5. 6. 6. 5. 5. 4. 6. 5. 6. 5. 6. 6. 6. 6. 5. 6. 7. 7. 6.\n",
      " 7. 5. 5. 5. 5. 5. 6. 6. 6. 5. 6. 6. 5. 5. 6. 5. 6. 5. 6. 5. 6. 4. 5. 6.\n",
      " 6. 5. 6. 6. 6. 5. 5. 6. 5. 6. 6. 6. 6. 7. 5. 6. 6. 6. 8. 6. 5. 5. 6. 6.\n",
      " 6. 5. 6. 7. 6. 7. 6. 7. 7. 5. 5. 5. 5. 6. 5. 6. 7. 7. 5. 6. 6. 4. 5. 5.\n",
      " 5. 7. 6. 5. 6. 8. 6. 6. 5. 7. 5. 7. 5. 5. 5. 5. 5. 6. 5. 6. 5. 5. 5. 6.\n",
      " 5. 6. 7. 6. 5. 7. 6. 5. 6. 5. 5. 5. 5. 6. 6. 5. 5. 6. 6. 7. 5. 5. 6. 6.\n",
      " 5. 5. 5. 7. 6. 5. 5. 7. 4. 5. 6. 5. 6. 6. 6. 6. 5. 5. 6. 5. 7. 5. 6. 5.\n",
      " 6. 5. 6. 5. 5. 7. 3. 6. 5. 5. 5. 5. 6. 8. 7. 5. 6. 6. 5. 6. 6. 4. 5. 5.\n",
      " 5. 5. 6. 6. 5. 5. 6. 5. 6. 6. 6. 5. 7. 5. 6. 5. 5. 5. 7. 5. 6. 4. 6. 5.\n",
      " 7. 4. 5. 7. 7. 7. 5. 7. 6. 6. 6. 5. 5. 6. 5. 5. 6. 5. 5. 7. 7. 5. 6. 6.\n",
      " 5. 5. 5. 6. 5. 5. 5. 5. 6. 4. 6. 7. 6. 6. 7. 5. 5. 5. 5. 5. 5. 6. 5. 6.\n",
      " 4. 6. 5. 6. 6. 5. 5. 6.]\n",
      "[0 0 0 0 0 0 0 0 0 1 0 0 0 0 0 0 0 0 0 0 0 0 0 0 0 1 0 0 0 0 0 0 0 0 0 0 0\n",
      " 0 0 0 0 0 0 0 0 0 0 0 0 0 0 0 0 0 0 0 0 0 1 0 0 0 0 0 0 0 0 0 0 0 0 0 0 0\n",
      " 0 0 0 0 0 0 0 0 0 0 0 0 0 0 0 0 0 0 0 1 0 0 0 0 0 0 0 0 0 0 0 0 0 0 0 0 0\n",
      " 0 0 0 0 0 0 0 0 0 0 0 0 0 0 0 0 0 0 0 0 0 0 0 0 0 0 0 0 0 0 1 0 0 0 0 0 0\n",
      " 0 0 0 0 0 0 0 0 0 0 0 0 0 0 0 0 0 0 0 0 0 0 0 0 0 0 0 0 0 0 0 0 0 0 0 0 0\n",
      " 0 0 0 0 0 0 0 0 0 0 0 0 0 0 0 1 0 0 0 0 0 0 0 0 0 0 0 0 0 0 0 0 0 0 0 0 0\n",
      " 0 0 0 0 0 0 0 0 0 0 0 0 0 0 0 1 0 0 0 0 0 0 0 0 0 0 0 0 0 0 0 0 0 0 0 0 0\n",
      " 0 0 1 0 0 0 1 0 0 0 0 0 0 0 0 0 0 0 0 0 0 0 0 0 0 0 0 0 0 0 0 0 0 0 0 0 0\n",
      " 0 1 0 0 0 0 0 0 0 0 0 0 0 0 0 0 1 0 0 0 0 0 0 0]\n"
     ]
    }
   ],
   "source": [
    "#args\n",
    "print(y_test)\n",
    "y_test_4 = np.array([1 if y == 4. else 0 for y in y_test])\n",
    "print(y_test_4)"
   ]
  },
  {
   "cell_type": "code",
   "execution_count": 1,
   "id": "6a1b2719-9e25-46f9-a9b2-d1823a9f65fb",
   "metadata": {
    "ExecuteTime": {
     "end_time": "2024-03-01T21:26:32.022480Z",
     "start_time": "2024-03-01T21:26:30.479682Z"
    }
   },
   "outputs": [
    {
     "ename": "NameError",
     "evalue": "name 'clf' is not defined",
     "output_type": "error",
     "traceback": [
      "\u001B[0;31m---------------------------------------------------------------------------\u001B[0m",
      "\u001B[0;31mNameError\u001B[0m                                 Traceback (most recent call last)",
      "Cell \u001B[0;32mIn[1], line 2\u001B[0m\n\u001B[1;32m      1\u001B[0m \u001B[38;5;28;01mimport\u001B[39;00m \u001B[38;5;21;01msklearn\u001B[39;00m\u001B[38;5;21;01m.\u001B[39;00m\u001B[38;5;21;01mmetrics\u001B[39;00m \u001B[38;5;28;01mas\u001B[39;00m \u001B[38;5;21;01mmetrics\u001B[39;00m\n\u001B[0;32m----> 2\u001B[0m probs \u001B[38;5;241m=\u001B[39m \u001B[43mclf\u001B[49m\u001B[38;5;241m.\u001B[39mpredict_proba(X_test)\n\u001B[1;32m      3\u001B[0m preds \u001B[38;5;241m=\u001B[39m probs[:,\u001B[38;5;241m1\u001B[39m]\n\u001B[1;32m      4\u001B[0m fpr, tpr, threshold \u001B[38;5;241m=\u001B[39m metrics\u001B[38;5;241m.\u001B[39mroc_curve(y_test_4, preds)\n",
      "\u001B[0;31mNameError\u001B[0m: name 'clf' is not defined"
     ]
    }
   ],
   "source": [
    "import sklearn.metrics as metrics\n",
    "probs = clf.predict_proba(X_test)\n",
    "preds = probs[:,1]\n",
    "fpr, tpr, threshold = metrics.roc_curve(y_test_4, preds)\n",
    "roc_auc = metrics.auc(fpr, tpr)\n",
    "\n",
    "import matplotlib.pyplot as plt\n",
    "plt.plot(fpr,tpr,label=\"label: 4, auc=\"+str(roc_auc))\n",
    "plt.legend(loc=4)\n",
    "plt.show()\n"
   ]
  },
  {
   "cell_type": "code",
   "outputs": [],
   "source": [],
   "metadata": {
    "collapsed": false
   },
   "id": "6cbf2abe88224e94"
  }
 ],
 "metadata": {
  "kernelspec": {
   "display_name": "Python 3 (ipykernel)",
   "language": "python",
   "name": "python3"
  },
  "language_info": {
   "codemirror_mode": {
    "name": "ipython",
    "version": 3
   },
   "file_extension": ".py",
   "mimetype": "text/x-python",
   "name": "python",
   "nbconvert_exporter": "python",
   "pygments_lexer": "ipython3",
   "version": "3.9.6"
  }
 },
 "nbformat": 4,
 "nbformat_minor": 5
}
