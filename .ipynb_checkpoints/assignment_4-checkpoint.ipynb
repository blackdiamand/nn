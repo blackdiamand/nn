{
  "cells": [
    {
      "cell_type": "code",
      "execution_count": 42,
      "metadata": {
        "colab": {
          "base_uri": "https://localhost:8080/",
          "height": 0
        },
        "id": "4e82_9R4aaSc",
        "outputId": "d47099c3-af5c-4a23-a8b0-2c8927edff65"
      },
      "outputs": [
        {
          "output_type": "stream",
          "name": "stdout",
          "text": [
            "Drive already mounted at /content/drive; to attempt to forcibly remount, call drive.mount(\"/content/drive\", force_remount=True).\n"
          ]
        }
      ],
      "source": [
        "import numpy as np\n",
        "from scipy.io import loadmat\n",
        "import matplotlib.pyplot as plt\n",
        "from google.colab import drive\n",
        "\n",
        "drive.mount('/content/drive')\n",
        "\n",
        "in_data = loadmat('/content/drive/My Drive/Colab Notebooks/532/data/face_emotion_data.mat')\n",
        "\n",
        "X = in_data['X']\n",
        "y = in_data['y']"
      ]
    },
    {
      "cell_type": "code",
      "source": [
        "#a\n",
        "w = np.linalg.inv(X.T@X) @ X.T @ y"
      ],
      "metadata": {
        "id": "UsWGUdUAX4EO"
      },
      "execution_count": 8,
      "outputs": []
    },
    {
      "cell_type": "code",
      "source": [
        "#b\n",
        "'''Given a feature vector from the new face image, multiply it by the weights.\n",
        "If the output is -1, then the face is angry. If -1, the face is happy'''"
      ],
      "metadata": {
        "id": "EmaGjtFJZguj"
      },
      "execution_count": null,
      "outputs": []
    },
    {
      "cell_type": "code",
      "source": [
        "#c\n",
        "print(w)\n",
        "#From a quick look features 0, 3, and 2 are the most important, since they are weighted the most in terms of magnitude"
      ],
      "metadata": {
        "colab": {
          "base_uri": "https://localhost:8080/",
          "height": 0
        },
        "id": "joWTJzwkZ-5O",
        "outputId": "29220b52-dbea-4c24-c967-e159f66dd1a4"
      },
      "execution_count": 43,
      "outputs": [
        {
          "output_type": "stream",
          "name": "stdout",
          "text": [
            "(9, 1)\n"
          ]
        }
      ]
    },
    {
      "cell_type": "code",
      "source": [
        "#d\n",
        "#Choose the highest magnitude weights from c\n",
        "w1 = np.zeros((w.shape[0],1))\n",
        "w1[0] = w[0]\n",
        "w1[2] = w[2]\n",
        "w1[3] = w[3]\n",
        "print(w1)"
      ],
      "metadata": {
        "colab": {
          "base_uri": "https://localhost:8080/",
          "height": 0
        },
        "id": "PWBbrSHQdbUy",
        "outputId": "4a4566d3-aa3d-49b4-9036-dd75ac569cc5"
      },
      "execution_count": 51,
      "outputs": [
        {
          "output_type": "stream",
          "name": "stdout",
          "text": [
            "[[ 0.94366942]\n",
            " [ 0.        ]\n",
            " [ 0.26641775]\n",
            " [-0.39221373]\n",
            " [ 0.        ]\n",
            " [ 0.        ]\n",
            " [ 0.        ]\n",
            " [ 0.        ]\n",
            " [ 0.        ]]\n"
          ]
        }
      ]
    },
    {
      "cell_type": "code",
      "source": [
        "#e\n",
        "y_pred_w = X @ w\n",
        "y_pred_w1 = X @ w1\n",
        "y_pred_w = np.vectorize(lambda x : -1 if x <= 0 else 1)(y_pred_w)\n",
        "y_pred_w1 = np.vectorize(lambda x : -1 if x <= 0 else 1)(y_pred_w1)\n",
        "\n",
        "from sklearn.metrics import confusion_matrix\n",
        "Cmat = confusion_matrix(y_pred_w, y)\n",
        "print(\"Confusion Matrix 9 features: \")\n",
        "print(Cmat)\n",
        "print(\"Incorrectly classified: \" + str((np.sum(Cmat) - np.trace(Cmat))/np.sum(Cmat)))\n",
        "\n",
        "Cmat = confusion_matrix(y_pred_w1, y)\n",
        "print(\"Confusion Matrix 3 features: \")\n",
        "print(Cmat)\n",
        "print(\"Incorrectly classified: \" + str((np.sum(Cmat) - np.trace(Cmat))/np.sum(Cmat)))"
      ],
      "metadata": {
        "colab": {
          "base_uri": "https://localhost:8080/",
          "height": 0
        },
        "id": "dROmTmslh2gN",
        "outputId": "fcf2ad4a-7e9e-4884-e1bf-00bc9031ed79"
      },
      "execution_count": 67,
      "outputs": [
        {
          "output_type": "stream",
          "name": "stdout",
          "text": [
            "Confusion Matrix 9 features: \n",
            "[[59  3]\n",
            " [ 0 66]]\n",
            "Incorrectly classified: 0.0234375\n",
            "Confusion Matrix 3 features: \n",
            "[[57  9]\n",
            " [ 2 60]]\n",
            "Incorrectly classified: 0.0859375\n"
          ]
        }
      ]
    },
    {
      "cell_type": "code",
      "source": [
        "#f\n",
        "error_rate_sum = 0.0\n",
        "for i in range(8):\n",
        "  start_i = i*16\n",
        "  end_i = (i+1)*16\n",
        "  X_train = np.vstack((X[0:start_i, :], X[end_i:-1, :]))\n",
        "  y_train = np.vstack((y[0:start_i, :], y[end_i:-1, :]))\n",
        "  X_val = X[start_i:end_i,:]\n",
        "  y_val = y[start_i:end_i,:]\n",
        "\n",
        "  w_cv = np.linalg.inv(X_train.T@X_train) @ X_train.T @ y_train\n",
        "  y_pred = np.vectorize(lambda x : -1 if x <= 0 else 1)(X_val @ w_cv)\n",
        "\n",
        "  misclassifications = 0\n",
        "  #print(y)\n",
        "  for idx, v in enumerate(y_pred):\n",
        "    if y_pred[idx][0] != y_val[idx][0]:\n",
        "      misclassifications += 1\n",
        "  error_rate = misclassifications / 16\n",
        "  print(error_rate)\n",
        "  error_rate_sum += error_rate\n",
        "error_rate_sum /= 16\n",
        "print(\"Total error rate\")\n",
        "print(error_rate_sum)"
      ],
      "metadata": {
        "colab": {
          "base_uri": "https://localhost:8080/",
          "height": 0
        },
        "id": "_iArOjRHkkw8",
        "outputId": "49dceb50-bff4-410e-f48d-1f9b2f59502d"
      },
      "execution_count": 91,
      "outputs": [
        {
          "output_type": "stream",
          "name": "stdout",
          "text": [
            "0.0625\n",
            "0.0625\n",
            "0.125\n",
            "0.0625\n",
            "0.0\n",
            "0.0625\n",
            "0.0\n",
            "0.0\n",
            "Total error rate\n",
            "0.0234375\n"
          ]
        }
      ]
    }
  ],
  "metadata": {
    "kernelspec": {
      "display_name": "Python 3",
      "language": "python",
      "name": "python3"
    },
    "language_info": {
      "codemirror_mode": {
        "name": "ipython",
        "version": 3
      },
      "file_extension": ".py",
      "mimetype": "text/x-python",
      "name": "python",
      "nbconvert_exporter": "python",
      "pygments_lexer": "ipython3",
      "version": "3.7.4"
    },
    "colab": {
      "provenance": []
    }
  },
  "nbformat": 4,
  "nbformat_minor": 0
}