{
 "cells": [
  {
   "cell_type": "code",
   "execution_count": 1,
   "metadata": {
    "ExecuteTime": {
     "end_time": "2024-03-21T22:58:24.264011Z",
     "start_time": "2024-03-21T22:58:24.258710Z"
    },
    "colab": {
     "base_uri": "https://localhost:8080/",
     "height": 0
    },
    "id": "4e82_9R4aaSc",
    "outputId": "61a58d45-42b2-4c96-e8d8-535eed2d6761"
   },
   "outputs": [],
   "source": [
    "import numpy as np\n",
    "from scipy.io import loadmat\n",
    "import matplotlib.pyplot as plt\n",
    "#from google.colab import drive\n",
    "\n",
    "#drive.mount('/content/drive')\n",
    "\n",
    "in_data = loadmat('face_emotion_data.mat')\n",
    "\n",
    "X = in_data['X']\n",
    "y = in_data['y']"
   ]
  },
  {
   "cell_type": "code",
   "execution_count": 2,
   "metadata": {
    "colab": {
     "base_uri": "https://localhost:8080/",
     "height": 0
    },
    "id": "V4lIDPTDjUK0",
    "outputId": "8e2ebc71-1014-4e49-d512-f9921324002d"
   },
   "outputs": [
    {
     "name": "stdout",
     "output_type": "stream",
     "text": [
      "6\n",
      "0.04352678571428571\n"
     ]
    }
   ],
   "source": [
    "#print(X.shape)\n",
    "\n",
    "best_r = -1\n",
    "best_error = 10**32\n",
    "\n",
    "for r in range(1,10):\n",
    "  error_rate_sum = 0.0\n",
    "  for i in range(8):\n",
    "      for j in range(8):\n",
    "          if i == j: continue\n",
    "          test_idx_1 = np.arange(i*16, (i+1)*16)\n",
    "          test_idx_2 = np.arange(j*16, (j+1)*16)\n",
    "          train_idx = np.setdiff1d(np.arange(128), test_idx_1)\n",
    "          train_idx = np.setdiff1d(train_idx, test_idx_2)\n",
    "          X_train, y_train = X[train_idx, :], y[train_idx, :]\n",
    "          X_test_1, y_test_1 = X[test_idx_1, :], y[test_idx_1, :]\n",
    "          X_test_2, y_test_2 = X[test_idx_2, :], y[test_idx_2, :]\n",
    "\n",
    "          U, s, VT = np.linalg.svd(X_train, full_matrices=False)\n",
    "          s_inv = np.vectorize(lambda s: 1/s)(s)\n",
    "          #w = VT.T @ np.diag(s_inv) @ U.T @ y_train\n",
    "          w = VT.T[:,:r] @ np.diag(s_inv)[:r,:r] @ U.T[:r] @ y_train\n",
    "          y_pred = X_test_1 @ w\n",
    "          y_pred_class = np.vectorize(lambda x : -1 if x <= 0 else 1)(y_pred)\n",
    "\n",
    "          error = np.count_nonzero(y_pred_class != y_test_1)\n",
    "          error_rate = error/16.0\n",
    "          error_rate_sum += error_rate\n",
    "\n",
    "  error_rate_avg = error_rate_sum / 56.0\n",
    "  if error_rate_avg < best_error:\n",
    "    best_error = error_rate_avg\n",
    "    best_r = r\n",
    "\n",
    "#Test on holdout, for best r\n",
    "\n",
    "error_rate_sum = 0.0\n",
    "for i in range(8):\n",
    "    for j in range(8):\n",
    "        if i == j: continue\n",
    "        test_idx_1 = np.arange(i*16, (i+1)*16)\n",
    "        test_idx_2 = np.arange(j*16, (j+1)*16)\n",
    "        train_idx = np.setdiff1d(np.arange(128), test_idx_1)\n",
    "        train_idx = np.setdiff1d(train_idx, test_idx_2)\n",
    "        X_train, y_train = X[train_idx, :], y[train_idx, :]\n",
    "        X_test_1, y_test_1 = X[test_idx_1, :], y[test_idx_1, :]\n",
    "        X_test_2, y_test_2 = X[test_idx_2, :], y[test_idx_2, :]\n",
    "\n",
    "        U, s, VT = np.linalg.svd(X_train, full_matrices=False)\n",
    "        s_inv = np.vectorize(lambda s: 1/s)(s)\n",
    "        #w = VT.T @ np.diag(s_inv) @ U.T @ y_train\n",
    "        w = VT.T[:,:best_r] @ np.diag(s_inv)[:best_r,:best_r] @ U.T[:best_r] @ y_train\n",
    "        y_pred = X_test_2 @ w\n",
    "        y_pred_class = np.vectorize(lambda x : -1 if x <= 0 else 1)(y_pred)\n",
    "\n",
    "        error = np.count_nonzero(y_pred_class != y_test_2)\n",
    "        error_rate = error/16.0\n",
    "        error_rate_sum += error_rate\n",
    "\n",
    "error_rate_avg = error_rate_sum / 56.0\n",
    "print(best_r)\n",
    "print(error_rate_avg)"
   ]
  },
  {
   "cell_type": "code",
   "execution_count": 6,
   "metadata": {
    "colab": {
     "base_uri": "https://localhost:8080/",
     "height": 0
    },
    "id": "z666oBiWkFgF",
    "outputId": "c2b2156e-42c2-43f1-cb93-2f958544f238"
   },
   "outputs": [
    {
     "name": "stdout",
     "output_type": "stream",
     "text": [
      "0.04575892857142857\n",
      "0.04352678571428571\n",
      "0.04352678571428571\n",
      "0.04575892857142857\n",
      "0.049107142857142856\n",
      "0.05133928571428571\n",
      "0.05357142857142857\n",
      "\n",
      "-1\n",
      "0.05357142857142857\n"
     ]
    }
   ],
   "source": [
    "#Part b\n",
    "\n",
    "best_lam = -50\n",
    "best_error = 10**32\n",
    "\n",
    "for r in range(-2,5):\n",
    "  error_rate_sum = 0.0\n",
    "  for i in range(8):\n",
    "      for j in range(8):\n",
    "          if i == j: continue\n",
    "          test_idx_1 = np.arange(i*16, (i+1)*16)\n",
    "          test_idx_2 = np.arange(j*16, (j+1)*16)\n",
    "          train_idx = np.setdiff1d(np.arange(128), test_idx_1)\n",
    "          train_idx = np.setdiff1d(train_idx, test_idx_2)\n",
    "          X_train, y_train = X[train_idx, :], y[train_idx, :]\n",
    "          X_test_1, y_test_1 = X[test_idx_1, :], y[test_idx_1, :]\n",
    "          X_test_2, y_test_2 = X[test_idx_2, :], y[test_idx_2, :]\n",
    "\n",
    "          U, s, VT = np.linalg.svd(X_train, full_matrices=False)\n",
    "          s_squared = np.vectorize(lambda s: s*s)(s)\n",
    "          if r != -2:\n",
    "            lam_I = np.diag([2 ** r for _ in range(len(s))])\n",
    "          else:\n",
    "            lam_I = np.diag([0 for _ in range(len(s))])\n",
    "          w = VT.T @ (np.linalg.inv(np.diag(s_squared) + lam_I)) @ np.diag(s) @ U.T @ y_train\n",
    "\n",
    "          y_pred = X_test_1 @ w\n",
    "          y_pred_class = np.vectorize(lambda x : -1 if x <= 0 else 1)(y_pred)\n",
    "\n",
    "          error = np.count_nonzero(y_pred_class != y_test_1)\n",
    "          error_rate = error/16.0\n",
    "          error_rate_sum += error_rate\n",
    "\n",
    "  error_rate_avg = error_rate_sum / 56.0\n",
    "  print(error_rate_avg)\n",
    "  if error_rate_avg < best_error:\n",
    "    best_error = error_rate_avg\n",
    "    best_lam = r\n",
    "\n",
    "#Test on holdout, for best r\n",
    "\n",
    "error_rate_sum = 0.0\n",
    "for i in range(8):\n",
    "      for j in range(8):\n",
    "          if i == j: continue\n",
    "          test_idx_1 = np.arange(i*16, (i+1)*16)\n",
    "          test_idx_2 = np.arange(j*16, (j+1)*16)\n",
    "          train_idx = np.setdiff1d(np.arange(128), test_idx_1)\n",
    "          train_idx = np.setdiff1d(train_idx, test_idx_2)\n",
    "          X_train, y_train = X[train_idx, :], y[train_idx, :]\n",
    "          X_test_1, y_test_1 = X[test_idx_1, :], y[test_idx_1, :]\n",
    "          X_test_2, y_test_2 = X[test_idx_2, :], y[test_idx_2, :]\n",
    "\n",
    "          U, s, VT = np.linalg.svd(X_train, full_matrices=False)\n",
    "          s_squared = np.vectorize(lambda s: s*s)(s)\n",
    "          if r != -2:\n",
    "            lam_I = np.diag([2 ** r for _ in range(len(s))])\n",
    "          else:\n",
    "            lam_I = np.diag([0 for _ in range(len(s))])\n",
    "          w = VT.T @ (np.linalg.inv(np.diag(s_squared) + lam_I)) @ np.diag(s) @ U.T @ y_train\n",
    "\n",
    "          y_pred = X_test_1 @ w\n",
    "          y_pred_class = np.vectorize(lambda x : -1 if x <= 0 else 1)(y_pred)\n",
    "\n",
    "          error = np.count_nonzero(y_pred_class != y_test_1)\n",
    "          error_rate = error/16.0\n",
    "          error_rate_sum += error_rate\n",
    "\n",
    "error_rate_avg = error_rate_sum / 56.0\n",
    "print()\n",
    "print(best_r)\n",
    "print(error_rate_avg)"
   ]
  }
 ],
 "metadata": {
  "colab": {
   "provenance": []
  },
  "kernelspec": {
   "display_name": "Python 3 (ipykernel)",
   "language": "python",
   "name": "python3"
  },
  "language_info": {
   "codemirror_mode": {
    "name": "ipython",
    "version": 3
   },
   "file_extension": ".py",
   "mimetype": "text/x-python",
   "name": "python",
   "nbconvert_exporter": "python",
   "pygments_lexer": "ipython3",
   "version": "3.9.6"
  }
 },
 "nbformat": 4,
 "nbformat_minor": 4
}
