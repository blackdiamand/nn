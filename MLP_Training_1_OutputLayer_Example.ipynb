{
 "cells": [
  {
   "cell_type": "code",
   "execution_count": 98,
   "metadata": {
    "executionInfo": {
     "elapsed": 253,
     "status": "ok",
     "timestamp": 1708283007433,
     "user": {
      "displayName": "YU HEN HU",
      "userId": "04083449072545068296"
     },
     "user_tz": 360
    },
    "id": "36wZV4G372WT"
   },
   "outputs": [],
   "source": [
    "import tensorflow as tf\n",
    "import numpy as np\n",
    "import random\n",
    "#from google.colab import drive\n",
    "from sklearn.model_selection import train_test_split"
   ]
  },
  {
   "cell_type": "code",
   "execution_count": 99,
   "metadata": {
    "colab": {
     "base_uri": "https://localhost:8080/"
    },
    "executionInfo": {
     "elapsed": 1368,
     "status": "ok",
     "timestamp": 1708283010081,
     "user": {
      "displayName": "YU HEN HU",
      "userId": "04083449072545068296"
     },
     "user_tz": 360
    },
    "id": "UBPzbcsME_ei",
    "outputId": "0b4a8033-12df-413e-a85a-00961d3810c7"
   },
   "outputs": [],
   "source": [
    "with open('iris.csv', 'r') as f:\n",
    "  temp = np.genfromtxt(f, dtype='f4', delimiter=',')\n",
    "for i in range(temp.shape[0]):\n",
    "    if temp[i][-1] == 1.0:\n",
    "        temp[i][-1] = 0.0\n",
    "    else:\n",
    "        temp[i][-1] = 1.0"
   ]
  },
  {
   "cell_type": "code",
   "execution_count": 100,
   "metadata": {
    "executionInfo": {
     "elapsed": 268,
     "status": "ok",
     "timestamp": 1708283014184,
     "user": {
      "displayName": "YU HEN HU",
      "userId": "04083449072545068296"
     },
     "user_tz": 360
    },
    "id": "41FxqWjuDVcm"
   },
   "outputs": [],
   "source": [
    "def data_iter(batch_size, features, labels):\n",
    "    num_examples = len(features)\n",
    "    indices = list(range(num_examples))\n",
    "    # The examples are read at random, in no particular order\n",
    "    random.shuffle(indices)\n",
    "    for i in range(0, num_examples, batch_size):\n",
    "        j = tf.constant(indices[i:min(i + batch_size, num_examples)])\n",
    "        yield tf.gather(features, j), tf.gather(labels, j)"
   ]
  },
  {
   "cell_type": "code",
   "execution_count": 101,
   "metadata": {
    "executionInfo": {
     "elapsed": 215,
     "status": "ok",
     "timestamp": 1708283024844,
     "user": {
      "displayName": "YU HEN HU",
      "userId": "04083449072545068296"
     },
     "user_tz": 360
    },
    "id": "XSCNT519s7xF"
   },
   "outputs": [],
   "source": [
    "# Optimization algorithm Stochastic Gradient Descent\n",
    "def sgd(param, grad, lr, batch_size):\n",
    "  param.assign_sub(lr * grad)"
   ]
  },
  {
   "cell_type": "code",
   "execution_count": 102,
   "metadata": {
    "executionInfo": {
     "elapsed": 219,
     "status": "ok",
     "timestamp": 1708283027585,
     "user": {
      "displayName": "YU HEN HU",
      "userId": "04083449072545068296"
     },
     "user_tz": 360
    },
    "id": "oplV28fQ0ZTy"
   },
   "outputs": [],
   "source": [
    "# Loss Function\n",
    "def cross_entropy(z, t):\n",
    "  return tf.keras.losses.CategoricalCrossentropy()(t,z)\n",
    "  #return  -(1/len(z))*tf.reduce_sum(tf.math.log(z)*t)\n"
   ]
  },
  {
   "cell_type": "code",
   "execution_count": 103,
   "metadata": {
    "executionInfo": {
     "elapsed": 229,
     "status": "ok",
     "timestamp": 1708283030082,
     "user": {
      "displayName": "YU HEN HU",
      "userId": "04083449072545068296"
     },
     "user_tz": 360
    },
    "id": "WVKNCTXuBB9A"
   },
   "outputs": [],
   "source": [
    "def model(x,w):\n",
    "  # layer with softmax function\n",
    "  u = np.hstack((np.ones((x.shape[0],1)), x))@w\n",
    "  u_exp = tf.math.exp(u)\n",
    "  z = u_exp/tf.reduce_sum(u_exp,axis=1,keepdims=True)\n",
    "  # if softmax activation is to be used,\n",
    "  # z = tf.nn.softmax(u)\n",
    "  return z"
   ]
  },
  {
   "cell_type": "code",
   "execution_count": 104,
   "metadata": {
    "colab": {
     "base_uri": "https://localhost:8080/"
    },
    "executionInfo": {
     "elapsed": 226,
     "status": "ok",
     "timestamp": 1708286689017,
     "user": {
      "displayName": "YU HEN HU",
      "userId": "04083449072545068296"
     },
     "user_tz": 360
    },
    "id": "ViCDki3gFPVg",
    "outputId": "c4d04b43-ef9a-4bc4-bf5b-446007a91cc6"
   },
   "outputs": [
    {
     "name": "stdout",
     "output_type": "stream",
     "text": [
      "(150, 1)\n"
     ]
    }
   ],
   "source": [
    "# Data Prep\n",
    "\n",
    "X = temp[:,0:-1]\n",
    "# One-hot output layer encodding\n",
    "from sklearn.preprocessing import LabelBinarizer\n",
    "LB = LabelBinarizer()\n",
    "labels = LB.fit_transform(temp[:,-1])\n",
    "print(labels.shape)\n",
    "\n",
    "# K: Nsamples, d: featureDimension, N: Nclasses\n",
    "K,d = X.shape\n",
    "N = labels.shape[1]\n",
    "\n",
    "# partition into 80/20% training/testing datasets\n",
    "X_train, X_test, y_train, y_test = train_test_split(X, labels, train_size=0.8, shuffle=True, random_state=3, stratify=labels)"
   ]
  },
  {
   "cell_type": "code",
   "execution_count": 105,
   "metadata": {
    "colab": {
     "base_uri": "https://localhost:8080/"
    },
    "executionInfo": {
     "elapsed": 228,
     "status": "ok",
     "timestamp": 1708286666374,
     "user": {
      "displayName": "YU HEN HU",
      "userId": "04083449072545068296"
     },
     "user_tz": 360
    },
    "id": "jiiqopWNmo8u",
    "outputId": "723ac42c-649c-4c24-bdeb-c1577d78640e"
   },
   "outputs": [
    {
     "name": "stdout",
     "output_type": "stream",
     "text": [
      "(150, 1)\n"
     ]
    }
   ],
   "source": [
    "from sklearn.preprocessing import LabelBinarizer\n",
    "LB = LabelBinarizer()\n",
    "labels = LB.fit_transform(temp[:,-1])\n",
    "print(labels.shape)"
   ]
  },
  {
   "cell_type": "code",
   "execution_count": 106,
   "metadata": {
    "executionInfo": {
     "elapsed": 11,
     "status": "ok",
     "timestamp": 1708272602082,
     "user": {
      "displayName": "YU HEN HU",
      "userId": "04083449072545068296"
     },
     "user_tz": 360
    },
    "id": "g0jpjWjTGP51"
   },
   "outputs": [],
   "source": [
    "# Hyperparameters\n",
    "\n",
    "batch_size = 10\n",
    "lr = 0.03 # learning rate\n",
    "num_epochs = 100"
   ]
  },
  {
   "cell_type": "code",
   "execution_count": 107,
   "metadata": {
    "colab": {
     "base_uri": "https://localhost:8080/"
    },
    "executionInfo": {
     "elapsed": 2913,
     "status": "ok",
     "timestamp": 1708272604984,
     "user": {
      "displayName": "YU HEN HU",
      "userId": "04083449072545068296"
     },
     "user_tz": 360
    },
    "id": "VYKa1O-iFDrK",
    "outputId": "6f4d4aa6-32b5-48b4-ab7e-d784a423b164"
   },
   "outputs": [
    {
     "ename": "TypeError",
     "evalue": "Missing required positional argument",
     "output_type": "error",
     "traceback": [
      "\u001b[0;31m---------------------------------------------------------------------------\u001b[0m",
      "\u001b[0;31mTypeError\u001b[0m                                 Traceback (most recent call last)",
      "Cell \u001b[0;32mIn[107], line 8\u001b[0m\n\u001b[1;32m      5\u001b[0m \u001b[38;5;28;01mfor\u001b[39;00m x, y \u001b[38;5;129;01min\u001b[39;00m data_iter(batch_size, X_train, y_train):\n\u001b[1;32m      6\u001b[0m   \u001b[38;5;66;03m# Feed-forward model\u001b[39;00m\n\u001b[1;32m      7\u001b[0m   \u001b[38;5;28;01mwith\u001b[39;00m tf\u001b[38;5;241m.\u001b[39mGradientTape() \u001b[38;5;28;01mas\u001b[39;00m g:\n\u001b[0;32m----> 8\u001b[0m     l \u001b[38;5;241m=\u001b[39m \u001b[43mcross_entropy\u001b[49m\u001b[43m(\u001b[49m\u001b[43mmodel\u001b[49m\u001b[43m(\u001b[49m\u001b[43mx\u001b[49m\u001b[43m,\u001b[49m\u001b[43m \u001b[49m\u001b[43mw\u001b[49m\u001b[43m)\u001b[49m\u001b[43m,\u001b[49m\u001b[43my\u001b[49m\u001b[43m)\u001b[49m\n\u001b[1;32m      9\u001b[0m   \u001b[38;5;66;03m# Compute gradient on l with respect to w\u001b[39;00m\n\u001b[1;32m     10\u001b[0m   dw \u001b[38;5;241m=\u001b[39m g\u001b[38;5;241m.\u001b[39mgradient(l, w)\n",
      "Cell \u001b[0;32mIn[102], line 3\u001b[0m, in \u001b[0;36mcross_entropy\u001b[0;34m(z, t)\u001b[0m\n\u001b[1;32m      2\u001b[0m \u001b[38;5;28;01mdef\u001b[39;00m \u001b[38;5;21mcross_entropy\u001b[39m(z, t):\n\u001b[0;32m----> 3\u001b[0m   \u001b[38;5;28;01mreturn\u001b[39;00m \u001b[43mtf\u001b[49m\u001b[38;5;241;43m.\u001b[39;49m\u001b[43mkeras\u001b[49m\u001b[38;5;241;43m.\u001b[39;49m\u001b[43mlosses\u001b[49m\u001b[38;5;241;43m.\u001b[39;49m\u001b[43mbinary_crossentropy\u001b[49m\u001b[43m(\u001b[49m\u001b[43m)\u001b[49m(t,z)\n",
      "File \u001b[0;32m~/GitHub/nn/.venv/lib/python3.9/site-packages/tensorflow/python/util/traceback_utils.py:153\u001b[0m, in \u001b[0;36mfilter_traceback.<locals>.error_handler\u001b[0;34m(*args, **kwargs)\u001b[0m\n\u001b[1;32m    151\u001b[0m \u001b[38;5;28;01mexcept\u001b[39;00m \u001b[38;5;167;01mException\u001b[39;00m \u001b[38;5;28;01mas\u001b[39;00m e:\n\u001b[1;32m    152\u001b[0m   filtered_tb \u001b[38;5;241m=\u001b[39m _process_traceback_frames(e\u001b[38;5;241m.\u001b[39m__traceback__)\n\u001b[0;32m--> 153\u001b[0m   \u001b[38;5;28;01mraise\u001b[39;00m e\u001b[38;5;241m.\u001b[39mwith_traceback(filtered_tb) \u001b[38;5;28;01mfrom\u001b[39;00m \u001b[38;5;28;01mNone\u001b[39;00m\n\u001b[1;32m    154\u001b[0m \u001b[38;5;28;01mfinally\u001b[39;00m:\n\u001b[1;32m    155\u001b[0m   \u001b[38;5;28;01mdel\u001b[39;00m filtered_tb\n",
      "File \u001b[0;32m~/GitHub/nn/.venv/lib/python3.9/site-packages/tensorflow/python/util/dispatch.py:1254\u001b[0m, in \u001b[0;36madd_dispatch_support.<locals>.decorator.<locals>.op_dispatch_handler\u001b[0;34m(*args, **kwargs)\u001b[0m\n\u001b[1;32m   1252\u001b[0m \u001b[38;5;28;01mif\u001b[39;00m iterable_params \u001b[38;5;129;01mis\u001b[39;00m \u001b[38;5;129;01mnot\u001b[39;00m \u001b[38;5;28;01mNone\u001b[39;00m:\n\u001b[1;32m   1253\u001b[0m   args, kwargs \u001b[38;5;241m=\u001b[39m replace_iterable_params(args, kwargs, iterable_params)\n\u001b[0;32m-> 1254\u001b[0m result \u001b[38;5;241m=\u001b[39m \u001b[43mapi_dispatcher\u001b[49m\u001b[38;5;241;43m.\u001b[39;49m\u001b[43mDispatch\u001b[49m\u001b[43m(\u001b[49m\u001b[43margs\u001b[49m\u001b[43m,\u001b[49m\u001b[43m \u001b[49m\u001b[43mkwargs\u001b[49m\u001b[43m)\u001b[49m\n\u001b[1;32m   1255\u001b[0m \u001b[38;5;28;01mif\u001b[39;00m result \u001b[38;5;129;01mis\u001b[39;00m \u001b[38;5;129;01mnot\u001b[39;00m \u001b[38;5;28mNotImplemented\u001b[39m:\n\u001b[1;32m   1256\u001b[0m   \u001b[38;5;28;01mreturn\u001b[39;00m result\n",
      "\u001b[0;31mTypeError\u001b[0m: Missing required positional argument"
     ]
    }
   ],
   "source": [
    "# Learning\n",
    "\n",
    "w = tf.Variable(tf.random.normal(shape=(d+1,N)), trainable=True)\n",
    "for epoch in range(num_epochs):\n",
    "  for x, y in data_iter(batch_size, X_train, y_train):\n",
    "    # Feed-forward model\n",
    "    with tf.GradientTape() as g:\n",
    "      l = cross_entropy(model(x, w),y)\n",
    "    # Compute gradient on l with respect to w\n",
    "    dw = g.gradient(l, w)\n",
    "    # Update parameters using their gradient\n",
    "    sgd(w, dw, lr, batch_size)\n",
    "  # After one epoch, Evaluate resubstitution loss\n",
    "  train_loss = cross_entropy(model(tf.constant(X_train), w),y_train)\n",
    "  print(f'epoch {epoch + 1}, loss {float(tf.reduce_mean(train_loss)):f}')"
   ]
  },
  {
   "cell_type": "code",
   "execution_count": null,
   "metadata": {
    "colab": {
     "base_uri": "https://localhost:8080/"
    },
    "executionInfo": {
     "elapsed": 217,
     "status": "ok",
     "timestamp": 1708287710188,
     "user": {
      "displayName": "YU HEN HU",
      "userId": "04083449072545068296"
     },
     "user_tz": 360
    },
    "id": "THNnf8ERXqE7",
    "outputId": "385ab1ed-9218-43bb-9d36-ebef562647ea"
   },
   "outputs": [],
   "source": [
    "# Performance Evaluation\n",
    "# Z_test is the linear model output (real #)\n",
    "Z_test = model(X_test,w)\n",
    "# idx is an array consisting of the index of largest output of each sample\n",
    "idx = np.argmax(Z_test,axis=1)\n",
    "# y_pred is one hot encoding of the predicted output\n",
    "y_pred = np.zeros((idx.size, N))\n",
    "y_pred[np.arange(idx.size),idx] = 1\n",
    "# Cmat is the confusion matrix\n",
    "Cmat = y_test.T@y_pred\n",
    "Accuracy = np.round(100*np.sum(np.diagonal(Cmat))/np.sum(Cmat),2)\n",
    "print('Confusion Matrix= \\n', Cmat)\n",
    "print('Accuracy = ', Accuracy, '%' )"
   ]
  }
 ],
 "metadata": {
  "colab": {
   "provenance": []
  },
  "kernelspec": {
   "display_name": "Python 3 (ipykernel)",
   "language": "python",
   "name": "python3"
  },
  "language_info": {
   "codemirror_mode": {
    "name": "ipython",
    "version": 3
   },
   "file_extension": ".py",
   "mimetype": "text/x-python",
   "name": "python",
   "nbconvert_exporter": "python",
   "pygments_lexer": "ipython3",
   "version": "3.9.6"
  }
 },
 "nbformat": 4,
 "nbformat_minor": 4
}
