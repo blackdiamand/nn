{
 "cells": [
  {
   "cell_type": "code",
   "execution_count": 2,
   "metadata": {
    "executionInfo": {
     "elapsed": 458,
     "status": "ok",
     "timestamp": 1708297151734,
     "user": {
      "displayName": "YU HEN HU",
      "userId": "04083449072545068296"
     },
     "user_tz": 360
    },
    "id": "36wZV4G372WT"
   },
   "outputs": [],
   "source": [
    "import tensorflow as tf\n",
    "from tensorflow.keras.utils import to_categorical\n",
    "from tensorflow import keras\n",
    "from tensorflow.keras import layers\n",
    "from keras.models import Sequential\n",
    "\n",
    "import numpy as np\n",
    "import random\n",
    "from sklearn.model_selection import train_test_split"
   ]
  },
  {
   "cell_type": "code",
   "execution_count": 3,
   "metadata": {
    "ExecuteTime": {
     "end_time": "2024-03-04T16:44:41.354289Z",
     "start_time": "2024-03-04T16:44:41.225449Z"
    },
    "colab": {
     "base_uri": "https://localhost:8080/"
    },
    "executionInfo": {
     "elapsed": 1416,
     "status": "ok",
     "timestamp": 1708297155927,
     "user": {
      "displayName": "YU HEN HU",
      "userId": "04083449072545068296"
     },
     "user_tz": 360
    },
    "id": "UBPzbcsME_ei",
    "outputId": "8d45d3d6-a5f4-4257-d890-d42bc3da115a"
   },
   "outputs": [],
   "source": [
    "with open('iris.csv', 'r') as f:\n",
    "  temp = np.genfromtxt(f, dtype='f4', delimiter=',')\n"
   ]
  },
  {
   "cell_type": "code",
   "execution_count": 4,
   "metadata": {
    "colab": {
     "base_uri": "https://localhost:8080/"
    },
    "executionInfo": {
     "elapsed": 291,
     "status": "ok",
     "timestamp": 1708297158686,
     "user": {
      "displayName": "YU HEN HU",
      "userId": "04083449072545068296"
     },
     "user_tz": 360
    },
    "id": "ViCDki3gFPVg",
    "outputId": "f805f88e-c598-4a35-896c-998c27798670"
   },
   "outputs": [
    {
     "name": "stdout",
     "output_type": "stream",
     "text": [
      "Shape of training features:  (120, 4)\n",
      "Shape of training labels:  (120, 3)\n",
      "Shape of testing features:  (30, 4)\n",
      "Shape of testing labels:  (30, 3)\n"
     ]
    }
   ],
   "source": [
    "# Data Prep\n",
    "X = temp[:,0:-1]   # features\n",
    "y = temp[:,-1]     # labels are in the last column\n",
    "\n",
    "# partition into 80/20% training/testing datasets\n",
    "X_train, X_test, y_train, y_test = train_test_split(X, y, train_size=0.8, shuffle=True, random_state=3, stratify=y)\n",
    "\n",
    "# to_categorical starts with 0. converting {1,2, 3} to {0, 1, 2}\n",
    "y_train = to_categorical(y_train-1)\n",
    "y_test = to_categorical(y_test-1)\n",
    "print('Shape of training features: ', X_train.shape)\n",
    "print('Shape of training labels: ', y_train.shape)\n",
    "print('Shape of testing features: ', X_test.shape)\n",
    "print('Shape of testing labels: ', y_test.shape)"
   ]
  },
  {
   "cell_type": "code",
   "execution_count": 5,
   "metadata": {
    "executionInfo": {
     "elapsed": 256,
     "status": "ok",
     "timestamp": 1708297636810,
     "user": {
      "displayName": "YU HEN HU",
      "userId": "04083449072545068296"
     },
     "user_tz": 360
    },
    "id": "kuNrj4k1T3DR"
   },
   "outputs": [],
   "source": [
    "from keras.models import Sequential\n",
    "from keras.layers import Activation,Dense\n",
    "# NOTE: you can play around with normalization before or after ReLU activation\n",
    "net = Sequential()\n",
    "# Only one dense layer, with softmax activation\n",
    "net.add(Dense(3, input_shape=(4,), activation='softmax'))"
   ]
  },
  {
   "cell_type": "code",
   "execution_count": 6,
   "metadata": {
    "executionInfo": {
     "elapsed": 285,
     "status": "ok",
     "timestamp": 1708297645525,
     "user": {
      "displayName": "YU HEN HU",
      "userId": "04083449072545068296"
     },
     "user_tz": 360
    },
    "id": "g0jpjWjTGP51"
   },
   "outputs": [],
   "source": [
    "# Hyperparameters\n",
    "batch_size = 10\n",
    "lr = 0.03 # learning rate\n",
    "num_epochs = 50"
   ]
  },
  {
   "cell_type": "code",
   "execution_count": 7,
   "metadata": {
    "executionInfo": {
     "elapsed": 301,
     "status": "ok",
     "timestamp": 1708297647562,
     "user": {
      "displayName": "YU HEN HU",
      "userId": "04083449072545068296"
     },
     "user_tz": 360
    },
    "id": "Wnv-M3vLbWYR"
   },
   "outputs": [
    {
     "name": "stderr",
     "output_type": "stream",
     "text": [
      "WARNING:absl:At this time, the v2.11+ optimizer `tf.keras.optimizers.SGD` runs slowly on M1/M2 Macs, please use the legacy Keras optimizer instead, located at `tf.keras.optimizers.legacy.SGD`.\n"
     ]
    }
   ],
   "source": [
    "# compile and fit the keras model\n",
    "opt = tf.keras.optimizers.SGD(learning_rate=lr)\n",
    "net.compile(optimizer=opt, loss='categorical_crossentropy', metrics=['accuracy'])"
   ]
  },
  {
   "cell_type": "code",
   "execution_count": 8,
   "metadata": {
    "colab": {
     "base_uri": "https://localhost:8080/"
    },
    "executionInfo": {
     "elapsed": 578,
     "status": "ok",
     "timestamp": 1708304242116,
     "user": {
      "displayName": "YU HEN HU",
      "userId": "04083449072545068296"
     },
     "user_tz": 360
    },
    "id": "tYOEV8Tk3TPv",
    "outputId": "bcf7560d-a289-4a12-a677-99c3bbf2a417"
   },
   "outputs": [
    {
     "name": "stdout",
     "output_type": "stream",
     "text": [
      "1/1 [==============================] - 0s 115ms/step - loss: 2.3519 - accuracy: 0.3000\n",
      "Test loss: 2.352\n",
      "Test accuracy: 0.3\n"
     ]
    }
   ],
   "source": [
    "score = net.evaluate(X_test, y_test, verbose=1)\n",
    "print(\"Test loss:\", np.round(score[0],3))\n",
    "print(\"Test accuracy:\", np.round(score[1],3))"
   ]
  },
  {
   "cell_type": "code",
   "execution_count": 9,
   "metadata": {
    "colab": {
     "base_uri": "https://localhost:8080/"
    },
    "executionInfo": {
     "elapsed": 5,
     "status": "ok",
     "timestamp": 1708297659404,
     "user": {
      "displayName": "YU HEN HU",
      "userId": "04083449072545068296"
     },
     "user_tz": 360
    },
    "id": "rIK4ubTNeYS5",
    "outputId": "9a8e8130-ee60-4609-fdac-9bc309aba627"
   },
   "outputs": [
    {
     "name": "stdout",
     "output_type": "stream",
     "text": [
      "Model: \"sequential\"\n",
      "_________________________________________________________________\n",
      " Layer (type)                Output Shape              Param #   \n",
      "=================================================================\n",
      " dense (Dense)               (None, 3)                 15        \n",
      "                                                                 \n",
      "=================================================================\n",
      "Total params: 15 (60.00 Byte)\n",
      "Trainable params: 15 (60.00 Byte)\n",
      "Non-trainable params: 0 (0.00 Byte)\n",
      "_________________________________________________________________\n"
     ]
    }
   ],
   "source": [
    "net.summary()"
   ]
  },
  {
   "cell_type": "code",
   "execution_count": 10,
   "metadata": {
    "colab": {
     "base_uri": "https://localhost:8080/"
    },
    "executionInfo": {
     "elapsed": 2132,
     "status": "ok",
     "timestamp": 1708302252908,
     "user": {
      "displayName": "YU HEN HU",
      "userId": "04083449072545068296"
     },
     "user_tz": 360
    },
    "id": "VYKa1O-iFDrK",
    "outputId": "faed94ad-20cc-4a90-b692-370b9f85e332"
   },
   "outputs": [
    {
     "name": "stdout",
     "output_type": "stream",
     "text": [
      "Epoch 1/50\n",
      "4/4 [==============================] - 0s 962us/step - loss: 1.7025 - accuracy: 0.3250\n",
      "Epoch 2/50\n",
      "4/4 [==============================] - 0s 861us/step - loss: 1.0419 - accuracy: 0.3583\n",
      "Epoch 3/50\n",
      "4/4 [==============================] - 0s 913us/step - loss: 0.9370 - accuracy: 0.4917\n",
      "Epoch 4/50\n",
      "4/4 [==============================] - 0s 940us/step - loss: 0.8765 - accuracy: 0.5583\n",
      "Epoch 5/50\n",
      "4/4 [==============================] - 0s 1ms/step - loss: 0.8523 - accuracy: 0.5750\n",
      "Epoch 6/50\n",
      "4/4 [==============================] - 0s 1ms/step - loss: 0.7913 - accuracy: 0.7000\n",
      "Epoch 7/50\n",
      "4/4 [==============================] - 0s 1ms/step - loss: 0.7716 - accuracy: 0.6083\n",
      "Epoch 8/50\n",
      "4/4 [==============================] - 0s 1ms/step - loss: 0.7275 - accuracy: 0.6667\n",
      "Epoch 9/50\n",
      "4/4 [==============================] - 0s 1ms/step - loss: 0.7138 - accuracy: 0.6917\n",
      "Epoch 10/50\n",
      "4/4 [==============================] - 0s 1ms/step - loss: 0.6956 - accuracy: 0.6917\n",
      "Epoch 11/50\n",
      "4/4 [==============================] - 0s 934us/step - loss: 0.6828 - accuracy: 0.6833\n",
      "Epoch 12/50\n",
      "4/4 [==============================] - 0s 984us/step - loss: 0.6616 - accuracy: 0.7333\n",
      "Epoch 13/50\n",
      "4/4 [==============================] - 0s 1ms/step - loss: 0.6345 - accuracy: 0.6917\n",
      "Epoch 14/50\n",
      "4/4 [==============================] - 0s 1ms/step - loss: 0.6228 - accuracy: 0.7583\n",
      "Epoch 15/50\n",
      "4/4 [==============================] - 0s 922us/step - loss: 0.6189 - accuracy: 0.7083\n",
      "Epoch 16/50\n",
      "4/4 [==============================] - 0s 952us/step - loss: 0.6115 - accuracy: 0.7167\n",
      "Epoch 17/50\n",
      "4/4 [==============================] - 0s 1ms/step - loss: 0.6004 - accuracy: 0.6917\n",
      "Epoch 18/50\n",
      "4/4 [==============================] - 0s 866us/step - loss: 0.5847 - accuracy: 0.7667\n",
      "Epoch 19/50\n",
      "4/4 [==============================] - 0s 1ms/step - loss: 0.5874 - accuracy: 0.6833\n",
      "Epoch 20/50\n",
      "4/4 [==============================] - 0s 907us/step - loss: 0.5760 - accuracy: 0.7333\n",
      "Epoch 21/50\n",
      "4/4 [==============================] - 0s 949us/step - loss: 0.5645 - accuracy: 0.7833\n",
      "Epoch 22/50\n",
      "4/4 [==============================] - 0s 1ms/step - loss: 0.5398 - accuracy: 0.8583\n",
      "Epoch 23/50\n",
      "4/4 [==============================] - 0s 904us/step - loss: 0.5404 - accuracy: 0.7500\n",
      "Epoch 24/50\n",
      "4/4 [==============================] - 0s 1ms/step - loss: 0.5322 - accuracy: 0.8250\n",
      "Epoch 25/50\n",
      "4/4 [==============================] - 0s 955us/step - loss: 0.5375 - accuracy: 0.7083\n",
      "Epoch 26/50\n",
      "4/4 [==============================] - 0s 938us/step - loss: 0.5378 - accuracy: 0.7583\n",
      "Epoch 27/50\n",
      "4/4 [==============================] - 0s 1ms/step - loss: 0.5134 - accuracy: 0.8000\n",
      "Epoch 28/50\n",
      "4/4 [==============================] - 0s 902us/step - loss: 0.5042 - accuracy: 0.8000\n",
      "Epoch 29/50\n",
      "4/4 [==============================] - 0s 890us/step - loss: 0.4978 - accuracy: 0.8917\n",
      "Epoch 30/50\n",
      "4/4 [==============================] - 0s 989us/step - loss: 0.4927 - accuracy: 0.8667\n",
      "Epoch 31/50\n",
      "4/4 [==============================] - 0s 885us/step - loss: 0.4953 - accuracy: 0.8667\n",
      "Epoch 32/50\n",
      "4/4 [==============================] - 0s 971us/step - loss: 0.4870 - accuracy: 0.8833\n",
      "Epoch 33/50\n",
      "4/4 [==============================] - 0s 867us/step - loss: 0.4836 - accuracy: 0.9250\n",
      "Epoch 34/50\n",
      "4/4 [==============================] - 0s 970us/step - loss: 0.4771 - accuracy: 0.8333\n",
      "Epoch 35/50\n",
      "4/4 [==============================] - 0s 897us/step - loss: 0.4707 - accuracy: 0.9167\n",
      "Epoch 36/50\n",
      "4/4 [==============================] - 0s 990us/step - loss: 0.4883 - accuracy: 0.8417\n",
      "Epoch 37/50\n",
      "4/4 [==============================] - 0s 985us/step - loss: 0.4655 - accuracy: 0.8083\n",
      "Epoch 38/50\n",
      "4/4 [==============================] - 0s 859us/step - loss: 0.4732 - accuracy: 0.8250\n",
      "Epoch 39/50\n",
      "4/4 [==============================] - 0s 965us/step - loss: 0.4602 - accuracy: 0.9083\n",
      "Epoch 40/50\n",
      "4/4 [==============================] - 0s 853us/step - loss: 0.4616 - accuracy: 0.8250\n",
      "Epoch 41/50\n",
      "4/4 [==============================] - 0s 996us/step - loss: 0.4542 - accuracy: 0.8750\n",
      "Epoch 42/50\n",
      "4/4 [==============================] - 0s 908us/step - loss: 0.4717 - accuracy: 0.8333\n",
      "Epoch 43/50\n",
      "4/4 [==============================] - 0s 988us/step - loss: 0.4522 - accuracy: 0.8000\n",
      "Epoch 44/50\n",
      "4/4 [==============================] - 0s 1ms/step - loss: 0.4545 - accuracy: 0.8500\n",
      "Epoch 45/50\n",
      "4/4 [==============================] - 0s 945us/step - loss: 0.4467 - accuracy: 0.9167\n",
      "Epoch 46/50\n",
      "4/4 [==============================] - 0s 891us/step - loss: 0.4385 - accuracy: 0.8667\n",
      "Epoch 47/50\n",
      "4/4 [==============================] - 0s 959us/step - loss: 0.4297 - accuracy: 0.8833\n",
      "Epoch 48/50\n",
      "4/4 [==============================] - 0s 997us/step - loss: 0.4334 - accuracy: 0.9250\n",
      "Epoch 49/50\n",
      "4/4 [==============================] - 0s 1ms/step - loss: 0.4558 - accuracy: 0.7333\n",
      "Epoch 50/50\n",
      "4/4 [==============================] - 0s 948us/step - loss: 0.4218 - accuracy: 0.9583\n"
     ]
    }
   ],
   "source": [
    "# Training\n",
    "history = net.fit(X_train, y_train, epochs=num_epochs)"
   ]
  },
  {
   "cell_type": "code",
   "execution_count": 11,
   "metadata": {
    "colab": {
     "base_uri": "https://localhost:8080/"
    },
    "executionInfo": {
     "elapsed": 415,
     "status": "ok",
     "timestamp": 1708306552251,
     "user": {
      "displayName": "YU HEN HU",
      "userId": "04083449072545068296"
     },
     "user_tz": 360
    },
    "id": "THNnf8ERXqE7",
    "outputId": "bddf3cd7-9bd4-497d-9f4f-e363919e376e"
   },
   "outputs": [
    {
     "name": "stdout",
     "output_type": "stream",
     "text": [
      "1/1 [==============================] - 0s 28ms/step\n",
      "Confusion matrix:\n",
      "[[10  0  0]\n",
      " [ 0  5  5]\n",
      " [ 0  0 10]]\n",
      "\n",
      "Accuracy =  83.33 %\n"
     ]
    }
   ],
   "source": [
    "# Performance Evaluation\n",
    "from sklearn.metrics import confusion_matrix, accuracy_score\n",
    "# y_pred is the softmax output that is posterior prob for each class/sample\n",
    "y_pred = net.predict(X_test)\n",
    "# convert to one-hot encoded format\n",
    "y_pred_1hot =  np.argmax(y_pred, axis=1)\n",
    "y_test_1hot = np.argmax(y_test, axis =1)\n",
    "Cmat = confusion_matrix(y_test_1hot,y_pred_1hot)\n",
    "Accuracy = round(100*np.sum(np.matrix.diagonal(Cmat))/np.sum(Cmat),2)\n",
    "print(\"Confusion matrix:\")\n",
    "print(Cmat)\n",
    "print(\"\\nAccuracy = \", Accuracy, '%')"
   ]
  }
 ],
 "metadata": {
  "colab": {
   "provenance": [
    {
     "file_id": "1uGdCYO3p2mgd3OmvPTbUOE0ewWwBX7Wu",
     "timestamp": 1708290135141
    }
   ]
  },
  "kernelspec": {
   "display_name": "Python 3 (ipykernel)",
   "language": "python",
   "name": "python3"
  },
  "language_info": {
   "codemirror_mode": {
    "name": "ipython",
    "version": 3
   },
   "file_extension": ".py",
   "mimetype": "text/x-python",
   "name": "python",
   "nbconvert_exporter": "python",
   "pygments_lexer": "ipython3",
   "version": "3.9.6"
  }
 },
 "nbformat": 4,
 "nbformat_minor": 4
}
