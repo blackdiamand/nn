{
  "cells": [
    {
      "cell_type": "code",
      "execution_count": 1,
      "id": "initial_id",
      "metadata": {
        "ExecuteTime": {
          "start_time": "2024-03-14T00:51:27.098672Z"
        },
        "is_executing": true,
        "colab": {
          "base_uri": "https://localhost:8080/",
          "height": 0
        },
        "id": "initial_id",
        "outputId": "c9ab6e72-8bbe-4c53-aba0-37dda813791e"
      },
      "outputs": [
        {
          "output_type": "stream",
          "name": "stdout",
          "text": [
            "Mounted at /content/drive\n"
          ]
        }
      ],
      "source": [
        "import numpy as np\n",
        "\n",
        "from google.colab import drive\n",
        "drive.mount('/content/drive')\n",
        "# Load the data\n",
        "\n",
        "with open('/content/drive/My Drive/Colab Notebooks/539/data/mnist_train-1.csv', 'r') as f:\n",
        "  temp = np.genfromtxt(f,delimiter=',')\n",
        "  X_train = temp[:,1:]\n",
        "  y_train = temp[:,0].reshape((-1,1))\n",
        "\n",
        "with open('/content/drive/My Drive/Colab Notebooks/539/data/mnist_test-1.csv', 'r') as f:\n",
        "  temp = np.genfromtxt(f,delimiter=',')\n",
        "  X_test = temp[:,1:]\n",
        "  y_test = temp[:,0].reshape((-1,1))"
      ]
    },
    {
      "cell_type": "code",
      "execution_count": 2,
      "id": "85935c4cfa006582",
      "metadata": {
        "jupyter": {
          "outputs_hidden": false
        },
        "id": "85935c4cfa006582"
      },
      "outputs": [],
      "source": [
        "import tensorflow as tf\n",
        "from tensorflow.keras.models import Sequential\n",
        "from tensorflow.keras.layers import Dense\n",
        "model = Sequential()\n",
        "model.add(Dense(350, activation='ReLU'))\n",
        "model.add(Dense(50, activation='ReLU'))\n",
        "#output layer\n",
        "model.add(Dense(10, activation='softmax'))"
      ]
    },
    {
      "cell_type": "code",
      "execution_count": 3,
      "id": "b111a454-c99a-42da-844d-8440ddfb7397",
      "metadata": {
        "id": "b111a454-c99a-42da-844d-8440ddfb7397"
      },
      "outputs": [],
      "source": [
        "from tensorflow.keras.utils import to_categorical\n",
        "Y_train = to_categorical(y_train)\n",
        "Y_test = to_categorical(y_test)"
      ]
    },
    {
      "cell_type": "code",
      "execution_count": 4,
      "id": "6c66799d-00a3-488d-a29f-2056a13af682",
      "metadata": {
        "id": "6c66799d-00a3-488d-a29f-2056a13af682"
      },
      "outputs": [],
      "source": [
        "#print(X_train.shape)\n",
        "#print(Y_train.shape)\n",
        "#print(Y_train[:20])\n",
        "#print(y_train[:20])"
      ]
    },
    {
      "cell_type": "code",
      "execution_count": 7,
      "id": "68c8fd5f-e47d-4b75-ad0c-0910461b9bc4",
      "metadata": {
        "colab": {
          "base_uri": "https://localhost:8080/",
          "height": 0
        },
        "id": "68c8fd5f-e47d-4b75-ad0c-0910461b9bc4",
        "outputId": "dffd5d32-23fb-4e21-f2e9-9d168cf6b1f8"
      },
      "outputs": [
        {
          "output_type": "stream",
          "name": "stdout",
          "text": [
            "Epoch 1/10\n",
            "1875/1875 [==============================] - 12s 6ms/step - loss: 0.1326 - accuracy: 0.9702\n",
            "Epoch 2/10\n",
            "1875/1875 [==============================] - 11s 6ms/step - loss: 0.1047 - accuracy: 0.9744\n",
            "Epoch 3/10\n",
            "1875/1875 [==============================] - 10s 5ms/step - loss: 0.0960 - accuracy: 0.9771\n",
            "Epoch 4/10\n",
            "1875/1875 [==============================] - 12s 6ms/step - loss: 0.0934 - accuracy: 0.9779\n",
            "Epoch 5/10\n",
            "1875/1875 [==============================] - 11s 6ms/step - loss: 0.0763 - accuracy: 0.9816\n",
            "Epoch 6/10\n",
            "1875/1875 [==============================] - 11s 6ms/step - loss: 0.0711 - accuracy: 0.9829\n",
            "Epoch 7/10\n",
            "1875/1875 [==============================] - 10s 5ms/step - loss: 0.0771 - accuracy: 0.9823\n",
            "Epoch 8/10\n",
            "1875/1875 [==============================] - 10s 6ms/step - loss: 0.0707 - accuracy: 0.9849\n",
            "Epoch 9/10\n",
            "1875/1875 [==============================] - 11s 6ms/step - loss: 0.0648 - accuracy: 0.9856\n",
            "Epoch 10/10\n",
            "1875/1875 [==============================] - 11s 6ms/step - loss: 0.0626 - accuracy: 0.9864\n"
          ]
        },
        {
          "output_type": "execute_result",
          "data": {
            "text/plain": [
              "<keras.src.callbacks.History at 0x795749e628f0>"
            ]
          },
          "metadata": {},
          "execution_count": 7
        }
      ],
      "source": [
        "model.compile(loss='categorical_crossentropy', optimizer='adam', metrics=['accuracy'])\n",
        "model.fit(X_train, Y_train, epochs=10, batch_size=32, verbose=1)"
      ]
    },
    {
      "cell_type": "code",
      "execution_count": 8,
      "id": "006eef84-2dc8-4e98-84c8-c914c8ea081e",
      "metadata": {
        "colab": {
          "base_uri": "https://localhost:8080/",
          "height": 0
        },
        "id": "006eef84-2dc8-4e98-84c8-c914c8ea081e",
        "outputId": "f76832f8-861e-46dc-f22c-62095a118564"
      },
      "outputs": [
        {
          "output_type": "stream",
          "name": "stdout",
          "text": [
            "313/313 [==============================] - 1s 2ms/step - loss: 0.2017 - accuracy: 0.9715\n",
            "Test results - Loss: 0.20167230069637299 - Accuracy: 0.9714999794960022%\n"
          ]
        }
      ],
      "source": [
        "test_results = model.evaluate(X_test, Y_test, verbose=1)\n",
        "print(f'Test results - Loss: {test_results[0]} - Accuracy: {test_results[1]}%')"
      ]
    },
    {
      "cell_type": "code",
      "source": [
        "from sklearn.metrics import confusion_matrix\n",
        "\n",
        "y_pred_weights = model.predict(X_test)\n",
        "y_pred = np.argmax(y_pred_weights, axis=1)\n",
        "\n",
        "print(confusion_matrix(y_test, y_pred))\n"
      ],
      "metadata": {
        "colab": {
          "base_uri": "https://localhost:8080/",
          "height": 0
        },
        "id": "AhqAbuQJhTik",
        "outputId": "6ec27a4b-1806-4162-bf5e-ecf57c940859"
      },
      "id": "AhqAbuQJhTik",
      "execution_count": 10,
      "outputs": [
        {
          "output_type": "stream",
          "name": "stdout",
          "text": [
            "313/313 [==============================] - 1s 2ms/step\n",
            "[[ 972    0    1    0    1    1    1    1    2    1]\n",
            " [   0 1121    1    1    1    1    2    2    6    0]\n",
            " [   6    2  993    4   11    0    2    8    6    0]\n",
            " [   0    1   20  964    0   13    0    6    5    1]\n",
            " [   1    0    0    0  964    0    6    3    2    6]\n",
            " [   3    3    0   11    2  850   12    1    8    2]\n",
            " [   6    2    0    0    2    0  946    0    2    0]\n",
            " [   1    2    3    0    0    0    0 1015    2    5]\n",
            " [  15    0    5    1   10    4    5    3  923    8]\n",
            " [   3    4    1    7   11    1    0   13    2  967]]\n"
          ]
        }
      ]
    }
  ],
  "metadata": {
    "kernelspec": {
      "display_name": "Python 3 (ipykernel)",
      "language": "python",
      "name": "python3"
    },
    "language_info": {
      "codemirror_mode": {
        "name": "ipython",
        "version": 3
      },
      "file_extension": ".py",
      "mimetype": "text/x-python",
      "name": "python",
      "nbconvert_exporter": "python",
      "pygments_lexer": "ipython3",
      "version": "3.9.6"
    },
    "colab": {
      "provenance": []
    }
  },
  "nbformat": 4,
  "nbformat_minor": 5
}