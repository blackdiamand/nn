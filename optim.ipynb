{
 "cells": [
  {
   "cell_type": "code",
   "execution_count": 1,
   "id": "initial_id",
   "metadata": {
    "collapsed": true,
    "ExecuteTime": {
     "end_time": "2024-03-14T00:51:56.874741Z",
     "start_time": "2024-03-14T00:51:27.098672Z"
    }
   },
   "outputs": [],
   "source": [
    "import numpy as np\n",
    "\n",
    "# Load the data\n",
    "with open('mnist_train-1.csv', 'r') as f:\n",
    "  temp = np.genfromtxt(f,delimiter=',')\n",
    "  X_train = temp[:,1:]\n",
    "  y_train = temp[:,0]\n",
    "\n",
    "with open('mnist_test-1.csv', 'r') as f:\n",
    "  temp = np.genfromtxt(f,delimiter=',')\n",
    "  X_test = temp[:,1:]\n",
    "  y_test = temp[:,0]"
   ]
  },
  {
   "cell_type": "code",
   "outputs": [],
   "source": [],
   "metadata": {
    "collapsed": false
   },
   "id": "85935c4cfa006582"
  }
 ],
 "metadata": {
  "kernelspec": {
   "display_name": "Python 3",
   "language": "python",
   "name": "python3"
  },
  "language_info": {
   "codemirror_mode": {
    "name": "ipython",
    "version": 2
   },
   "file_extension": ".py",
   "mimetype": "text/x-python",
   "name": "python",
   "nbconvert_exporter": "python",
   "pygments_lexer": "ipython2",
   "version": "2.7.6"
  }
 },
 "nbformat": 4,
 "nbformat_minor": 5
}
