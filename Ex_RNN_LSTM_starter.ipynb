{
 "cells": [
  {
   "cell_type": "code",
   "execution_count": null,
   "metadata": {
    "id": "focNVcda-S9Q"
   },
   "outputs": [],
   "source": []
  },
  {
   "cell_type": "code",
   "execution_count": 14,
   "metadata": {
    "id": "IWYE6yfbiCu9"
   },
   "outputs": [
    {
     "name": "stdout",
     "output_type": "stream",
     "text": [
      "The Time Traveller (for so it will be convenient to speak of him)\n",
      "was expounding a recondite matter to us. His grey eyes shone and\n",
      "twinkled, and his usually pale face was flushed and animated. The\n",
      "fire burned brightly, and the soft radiance of the incandescent\n",
      "lights in the lilies of silver caught the bubbles that flashed and\n",
      "passed in our glasses. Our chairs, being his patents, embraced and\n",
      "caressed us rather than submitted to be sat upon, and there was that\n",
      "luxurious after-dinner atmosphere when thought roams gracefully\n",
      "free of the trammels of precision. And he put it to us in this\n",
      "way--marking the points with a lean forefinger--as we sat and lazily\n",
      "\n",
      "Random snippet from the corpus.\n",
      "  * Token IDS:\t [  13    1  377   14    4  506  697   85   18   20  855 2616    1    6\n",
      "   36    5  585 2617    6 1632   59    4 1168   85    0 2618    3 2619\n",
      " 2620   17    5  149    5    4  513 2621    0 2622    3   82 1633   39\n",
      " 1633   33 1634  256    7    9  113 1056]\n",
      "  * Words:\t\t as i travelled at a high velocity through time this scarcely mattered i was so to speak attenuated was slipping like a vapour through the interstices of intervening substances but to come to a stop involved the jamming of myself molecule by molecule into whatever lay in my way meant\n"
     ]
    }
   ],
   "source": [
    "import tensorflow as tf\n",
    "from collections import Counter\n",
    "import numpy as np\n",
    "import re\n",
    "\n",
    "# P1) Analyze the dataset\n",
    "corpus = [line.strip() for line in open('data/TheTimeMachine.txt') if line.strip()][2:]\n",
    "print(\"\\n\".join(corpus[:10]))\n",
    "\n",
    "corpus = [re.sub('[^A-Za-z0-9]+', ' ', line).lower() for line in corpus]\n",
    "corpus = [re.sub(' +', ' ', line) for line in corpus]\n",
    "corpus = [word for line in corpus for word in line.split()]\n",
    "\n",
    "vocab_size = 5000\n",
    "tkn_counter = Counter([word for word in corpus])\n",
    "vocab = {word: idx for idx, (word, _) in enumerate(tkn_counter.most_common(vocab_size))}\n",
    "vocab[\"/UNK\"] = len(vocab)\n",
    "\n",
    "class TextCorpusDataset(tf.keras.utils.Sequence):\n",
    "    def __init__(self, corpus, vocab, snippet_len=50):\n",
    "        self.corpus = corpus\n",
    "        self.snippet_len = snippet_len\n",
    "        # Vocabulary (word-to-index mapping)\n",
    "        self.vocab = vocab\n",
    "        # Inverse vocabulary (index-to-word mapping)\n",
    "        self.inv_vocab = {idx: word for word, idx in self.vocab.items()}\n",
    "\n",
    "    def convert2idx(self, word_sequence):\n",
    "        return [self.vocab.get(word, self.vocab[\"/UNK\"]) for word in word_sequence]\n",
    "\n",
    "    def convert2words(self, idx_sequence):\n",
    "        return [self.inv_vocab[idx] for idx in idx_sequence]\n",
    "\n",
    "    def __len__(self):\n",
    "        return (len(self.corpus) - self.snippet_len) // self.snippet_len\n",
    "\n",
    "    def __getitem__(self, idx):\n",
    "        idx = idx * self.snippet_len\n",
    "        snippet = self.corpus[idx:idx+self.snippet_len]\n",
    "        snippet = np.array(self.convert2idx(snippet))\n",
    "        return snippet\n",
    "\n",
    "# Test dataset function\n",
    "dataset = TextCorpusDataset(corpus, vocab, snippet_len=50)\n",
    "snippet = dataset[123]\n",
    "print(\"\\nRandom snippet from the corpus.\")\n",
    "print(\"  * Token IDS:\\t\", snippet)\n",
    "print(\"  * Words:\\t\\t\", \" \".join([dataset.inv_vocab[i] for i in snippet]))"
   ]
  },
  {
   "cell_type": "code",
   "execution_count": 17,
   "metadata": {
    "id": "XTsDElg7-5TW"
   },
   "outputs": [
    {
     "name": "stdout",
     "output_type": "stream",
     "text": [
      "['inquired', 'worms', 'loathed', 'loathed', 'showering']\n"
     ]
    }
   ],
   "source": [
    "from tensorflow.keras.layers import Dense\n",
    "\n",
    "class CustomLSTM(tf.keras.Model):\n",
    "    def __init__(self, input_size, hidden_size, output_size=None):\n",
    "        super(CustomLSTM, self).__init__()\n",
    "\n",
    "        self.input_size = input_size\n",
    "        self.hidden_size = hidden_size\n",
    "\n",
    "        # LSTM Parameters\n",
    "        self.input_gate = Dense(hidden_size, activation='sigmoid', name='input_gate')\n",
    "        self.forget_gate = Dense(hidden_size, activation='sigmoid', name='forget_gate')\n",
    "        self.candidate = Dense(hidden_size, activation='tanh', name='candidate_gate')\n",
    "        self.output_gate = Dense(hidden_size, activation='sigmoid', name='output_gate')\n",
    "\n",
    "        self.predictor = Dense(output_size) if output_size is not None else tf.keras.layers.Activation('linear')\n",
    "\n",
    "        # Initialize weights\n",
    "        for layer in [self.input_gate, self.forget_gate, self.candidate, self.output_gate]:\n",
    "            layer.kernel_initializer = tf.keras.initializers.RandomNormal(mean=0.0, stddev=0.01)\n",
    "\n",
    "    def init_state_cell(self, batch_size):\n",
    "        state = tf.zeros((batch_size, self.hidden_size))\n",
    "        cell = tf.zeros((batch_size, self.hidden_size))\n",
    "        return state, cell\n",
    "\n",
    "    def call(self, x, state=None, cell=None):\n",
    "        # Get sequence length and batch size\n",
    "        seq_len, batch_size = x.shape[:2]\n",
    "\n",
    "        # Initialize hidden and cell states if not provided\n",
    "        if state is None or cell is None:\n",
    "            state, cell = self.init_state_cell(batch_size)\n",
    "\n",
    "        # Lists to store outputs and cell states for each time step\n",
    "        outputs = []\n",
    " \n",
    "        # Iterate through the sequence\n",
    "        for t in range(seq_len):\n",
    "            # Input at time step t\n",
    "            xh_t = tf.concat([x[t], state], axis=1)\n",
    "\n",
    "            # Input gate\n",
    "            inp_t = self.input_gate(xh_t)\n",
    "\n",
    "            # Forget gate\n",
    "            forget_t = self.forget_gate(xh_t)\n",
    "\n",
    "            # Cell state\n",
    "            c_tilda_t = self.candidate(xh_t)\n",
    "            cell = forget_t * cell + (1-forget_t) * c_tilda_t\n",
    "\n",
    "            # Output gate\n",
    "            ot = self.output_gate(xh_t)\n",
    "\n",
    "            # Hidden state update\n",
    "            state = tf.tanh(cell)\n",
    "\n",
    "            # Normally an LSTM simply outputs the hidden state.\n",
    "            # However, here we want our outputs to be the logits for the predicted next word.\n",
    "            output = self.predictor(state)\n",
    "            outputs.append(output)\n",
    "\n",
    "        # Stack outputs along the sequence dimension\n",
    "        outputs = tf.stack(outputs, axis=0)\n",
    "        return outputs, (state, cell)\n",
    "\n",
    "# Example usage\n",
    "hidden_dim, vocab_size = 256, len(dataset.vocab)\n",
    "model = CustomLSTM(vocab_size, hidden_dim, vocab_size)\n",
    "\n",
    "\n",
    "sentence = \"today is too darn cold\".split()\n",
    "inp = tf.constant(dataset.convert2idx(sentence))[:, tf.newaxis]\n",
    "inp = tf.one_hot(inp, len(vocab), dtype=tf.float32)\n",
    "Yhat, new_state = model(inp)\n",
    "Yhat = tf.argmax(Yhat, axis=-1)\n",
    "print(dataset.convert2words(Yhat.numpy().squeeze()))"
   ]
  },
  {
   "cell_type": "code",
   "execution_count": 18,
   "metadata": {
    "colab": {
     "base_uri": "https://localhost:8080/",
     "height": 35
    },
    "id": "tGPj2Wv2966x",
    "outputId": "9138861b-3f2d-426d-fe0b-0f23779b3a3f",
    "pycharm": {
     "name": "#%%\n"
    }
   },
   "outputs": [
    {
     "data": {
      "text/plain": [
       "'i do not mean to ask you to accept anything appetite thinking fed groping prophecy glared wild malachite escape confident'"
      ]
     },
     "execution_count": 18,
     "metadata": {},
     "output_type": "execute_result"
    }
   ],
   "source": [
    "def generate(prefix, num_preds, model, vocab):\n",
    "    prefix = tf.constant(dataset.convert2idx(prefix.split()), dtype=tf.int32).numpy()\n",
    "\n",
    "    state, cell, outputs = None, None, [prefix[0]]\n",
    "    for i in range(1, len(prefix) + num_preds):\n",
    "        # Prepare one token at a time to feed the model\n",
    "        inp = tf.one_hot(outputs[-1], len(vocab), dtype=tf.float32)[tf.newaxis, tf.newaxis]\n",
    "\n",
    "        # Compute the prediction for the next token\n",
    "        yhat, (state, cell) = model(inp, state, cell)\n",
    "\n",
    "        if i < len(prefix):\n",
    "            # During warmup (while parsing the prefix), we ignore the model prediction\n",
    "            outputs.append(prefix[i])\n",
    "        else:\n",
    "            # Otherwise, append the model prediction to the output list\n",
    "            yhat = tf.argmax(yhat[0, 0], axis=-1).numpy()\n",
    "            outputs.append(yhat)\n",
    "    return ' '.join([dataset.inv_vocab[tkn] for tkn in outputs])\n",
    "\n",
    "generate('i do not mean to ask you to accept anything', 10, model, vocab)"
   ]
  },
  {
   "cell_type": "code",
   "execution_count": null,
   "metadata": {
    "id": "7OQx3dYA-5QL"
   },
   "outputs": [
    {
     "name": "stderr",
     "output_type": "stream",
     "text": [
      "WARNING:absl:At this time, the v2.11+ optimizer `tf.keras.optimizers.RMSprop` runs slowly on M1/M2 Macs, please use the legacy Keras optimizer instead, located at `tf.keras.optimizers.legacy.RMSprop`.\n"
     ]
    },
    {
     "name": "stdout",
     "output_type": "stream",
     "text": [
      "WARNING:tensorflow:Gradients do not exist for variables ['custom_lstm_8/input_gate/kernel:0', 'custom_lstm_8/input_gate/bias:0', 'custom_lstm_8/output_gate/kernel:0', 'custom_lstm_8/output_gate/bias:0'] when minimizing the loss. If you're using `model.compile()`, did you forget to provide a `loss` argument?\n"
     ]
    },
    {
     "name": "stderr",
     "output_type": "stream",
     "text": [
      "WARNING:tensorflow:Gradients do not exist for variables ['custom_lstm_8/input_gate/kernel:0', 'custom_lstm_8/input_gate/bias:0', 'custom_lstm_8/output_gate/kernel:0', 'custom_lstm_8/output_gate/bias:0'] when minimizing the loss. If you're using `model.compile()`, did you forget to provide a `loss` argument?\n"
     ]
    },
    {
     "name": "stdout",
     "output_type": "stream",
     "text": [
      "WARNING:tensorflow:Gradients do not exist for variables ['custom_lstm_8/input_gate/kernel:0', 'custom_lstm_8/input_gate/bias:0', 'custom_lstm_8/output_gate/kernel:0', 'custom_lstm_8/output_gate/bias:0'] when minimizing the loss. If you're using `model.compile()`, did you forget to provide a `loss` argument?\n"
     ]
    },
    {
     "name": "stderr",
     "output_type": "stream",
     "text": [
      "WARNING:tensorflow:Gradients do not exist for variables ['custom_lstm_8/input_gate/kernel:0', 'custom_lstm_8/input_gate/bias:0', 'custom_lstm_8/output_gate/kernel:0', 'custom_lstm_8/output_gate/bias:0'] when minimizing the loss. If you're using `model.compile()`, did you forget to provide a `loss` argument?\n"
     ]
    },
    {
     "name": "stdout",
     "output_type": "stream",
     "text": [
      "WARNING:tensorflow:Gradients do not exist for variables ['custom_lstm_8/input_gate/kernel:0', 'custom_lstm_8/input_gate/bias:0', 'custom_lstm_8/output_gate/kernel:0', 'custom_lstm_8/output_gate/bias:0'] when minimizing the loss. If you're using `model.compile()`, did you forget to provide a `loss` argument?\n"
     ]
    },
    {
     "name": "stderr",
     "output_type": "stream",
     "text": [
      "WARNING:tensorflow:Gradients do not exist for variables ['custom_lstm_8/input_gate/kernel:0', 'custom_lstm_8/input_gate/bias:0', 'custom_lstm_8/output_gate/kernel:0', 'custom_lstm_8/output_gate/bias:0'] when minimizing the loss. If you're using `model.compile()`, did you forget to provide a `loss` argument?\n"
     ]
    },
    {
     "name": "stdout",
     "output_type": "stream",
     "text": [
      "WARNING:tensorflow:Gradients do not exist for variables ['custom_lstm_8/input_gate/kernel:0', 'custom_lstm_8/input_gate/bias:0', 'custom_lstm_8/output_gate/kernel:0', 'custom_lstm_8/output_gate/bias:0'] when minimizing the loss. If you're using `model.compile()`, did you forget to provide a `loss` argument?\n"
     ]
    },
    {
     "name": "stderr",
     "output_type": "stream",
     "text": [
      "WARNING:tensorflow:Gradients do not exist for variables ['custom_lstm_8/input_gate/kernel:0', 'custom_lstm_8/input_gate/bias:0', 'custom_lstm_8/output_gate/kernel:0', 'custom_lstm_8/output_gate/bias:0'] when minimizing the loss. If you're using `model.compile()`, did you forget to provide a `loss` argument?\n"
     ]
    },
    {
     "name": "stdout",
     "output_type": "stream",
     "text": [
      "WARNING:tensorflow:Gradients do not exist for variables ['custom_lstm_8/input_gate/kernel:0', 'custom_lstm_8/input_gate/bias:0', 'custom_lstm_8/output_gate/kernel:0', 'custom_lstm_8/output_gate/bias:0'] when minimizing the loss. If you're using `model.compile()`, did you forget to provide a `loss` argument?\n"
     ]
    },
    {
     "name": "stderr",
     "output_type": "stream",
     "text": [
      "WARNING:tensorflow:Gradients do not exist for variables ['custom_lstm_8/input_gate/kernel:0', 'custom_lstm_8/input_gate/bias:0', 'custom_lstm_8/output_gate/kernel:0', 'custom_lstm_8/output_gate/bias:0'] when minimizing the loss. If you're using `model.compile()`, did you forget to provide a `loss` argument?\n"
     ]
    },
    {
     "name": "stdout",
     "output_type": "stream",
     "text": [
      "WARNING:tensorflow:Gradients do not exist for variables ['custom_lstm_8/input_gate/kernel:0', 'custom_lstm_8/input_gate/bias:0', 'custom_lstm_8/output_gate/kernel:0', 'custom_lstm_8/output_gate/bias:0'] when minimizing the loss. If you're using `model.compile()`, did you forget to provide a `loss` argument?\n"
     ]
    },
    {
     "name": "stderr",
     "output_type": "stream",
     "text": [
      "WARNING:tensorflow:Gradients do not exist for variables ['custom_lstm_8/input_gate/kernel:0', 'custom_lstm_8/input_gate/bias:0', 'custom_lstm_8/output_gate/kernel:0', 'custom_lstm_8/output_gate/bias:0'] when minimizing the loss. If you're using `model.compile()`, did you forget to provide a `loss` argument?\n"
     ]
    },
    {
     "name": "stdout",
     "output_type": "stream",
     "text": [
      "WARNING:tensorflow:Gradients do not exist for variables ['custom_lstm_8/input_gate/kernel:0', 'custom_lstm_8/input_gate/bias:0', 'custom_lstm_8/output_gate/kernel:0', 'custom_lstm_8/output_gate/bias:0'] when minimizing the loss. If you're using `model.compile()`, did you forget to provide a `loss` argument?\n"
     ]
    },
    {
     "name": "stderr",
     "output_type": "stream",
     "text": [
      "WARNING:tensorflow:Gradients do not exist for variables ['custom_lstm_8/input_gate/kernel:0', 'custom_lstm_8/input_gate/bias:0', 'custom_lstm_8/output_gate/kernel:0', 'custom_lstm_8/output_gate/bias:0'] when minimizing the loss. If you're using `model.compile()`, did you forget to provide a `loss` argument?\n"
     ]
    },
    {
     "name": "stdout",
     "output_type": "stream",
     "text": [
      "WARNING:tensorflow:Gradients do not exist for variables ['custom_lstm_8/input_gate/kernel:0', 'custom_lstm_8/input_gate/bias:0', 'custom_lstm_8/output_gate/kernel:0', 'custom_lstm_8/output_gate/bias:0'] when minimizing the loss. If you're using `model.compile()`, did you forget to provide a `loss` argument?\n"
     ]
    },
    {
     "name": "stderr",
     "output_type": "stream",
     "text": [
      "WARNING:tensorflow:Gradients do not exist for variables ['custom_lstm_8/input_gate/kernel:0', 'custom_lstm_8/input_gate/bias:0', 'custom_lstm_8/output_gate/kernel:0', 'custom_lstm_8/output_gate/bias:0'] when minimizing the loss. If you're using `model.compile()`, did you forget to provide a `loss` argument?\n"
     ]
    },
    {
     "name": "stdout",
     "output_type": "stream",
     "text": [
      "WARNING:tensorflow:Gradients do not exist for variables ['custom_lstm_8/input_gate/kernel:0', 'custom_lstm_8/input_gate/bias:0', 'custom_lstm_8/output_gate/kernel:0', 'custom_lstm_8/output_gate/bias:0'] when minimizing the loss. If you're using `model.compile()`, did you forget to provide a `loss` argument?\n"
     ]
    },
    {
     "name": "stderr",
     "output_type": "stream",
     "text": [
      "WARNING:tensorflow:Gradients do not exist for variables ['custom_lstm_8/input_gate/kernel:0', 'custom_lstm_8/input_gate/bias:0', 'custom_lstm_8/output_gate/kernel:0', 'custom_lstm_8/output_gate/bias:0'] when minimizing the loss. If you're using `model.compile()`, did you forget to provide a `loss` argument?\n"
     ]
    },
    {
     "name": "stdout",
     "output_type": "stream",
     "text": [
      "WARNING:tensorflow:Gradients do not exist for variables ['custom_lstm_8/input_gate/kernel:0', 'custom_lstm_8/input_gate/bias:0', 'custom_lstm_8/output_gate/kernel:0', 'custom_lstm_8/output_gate/bias:0'] when minimizing the loss. If you're using `model.compile()`, did you forget to provide a `loss` argument?\n"
     ]
    },
    {
     "name": "stderr",
     "output_type": "stream",
     "text": [
      "WARNING:tensorflow:Gradients do not exist for variables ['custom_lstm_8/input_gate/kernel:0', 'custom_lstm_8/input_gate/bias:0', 'custom_lstm_8/output_gate/kernel:0', 'custom_lstm_8/output_gate/bias:0'] when minimizing the loss. If you're using `model.compile()`, did you forget to provide a `loss` argument?\n"
     ]
    },
    {
     "name": "stdout",
     "output_type": "stream",
     "text": [
      "WARNING:tensorflow:Gradients do not exist for variables ['custom_lstm_8/input_gate/kernel:0', 'custom_lstm_8/input_gate/bias:0', 'custom_lstm_8/output_gate/kernel:0', 'custom_lstm_8/output_gate/bias:0'] when minimizing the loss. If you're using `model.compile()`, did you forget to provide a `loss` argument?\n"
     ]
    },
    {
     "name": "stderr",
     "output_type": "stream",
     "text": [
      "WARNING:tensorflow:Gradients do not exist for variables ['custom_lstm_8/input_gate/kernel:0', 'custom_lstm_8/input_gate/bias:0', 'custom_lstm_8/output_gate/kernel:0', 'custom_lstm_8/output_gate/bias:0'] when minimizing the loss. If you're using `model.compile()`, did you forget to provide a `loss` argument?\n"
     ]
    },
    {
     "name": "stdout",
     "output_type": "stream",
     "text": [
      "WARNING:tensorflow:Gradients do not exist for variables ['custom_lstm_8/input_gate/kernel:0', 'custom_lstm_8/input_gate/bias:0', 'custom_lstm_8/output_gate/kernel:0', 'custom_lstm_8/output_gate/bias:0'] when minimizing the loss. If you're using `model.compile()`, did you forget to provide a `loss` argument?\n"
     ]
    },
    {
     "name": "stderr",
     "output_type": "stream",
     "text": [
      "WARNING:tensorflow:Gradients do not exist for variables ['custom_lstm_8/input_gate/kernel:0', 'custom_lstm_8/input_gate/bias:0', 'custom_lstm_8/output_gate/kernel:0', 'custom_lstm_8/output_gate/bias:0'] when minimizing the loss. If you're using `model.compile()`, did you forget to provide a `loss` argument?\n"
     ]
    },
    {
     "name": "stdout",
     "output_type": "stream",
     "text": [
      "WARNING:tensorflow:Gradients do not exist for variables ['custom_lstm_8/input_gate/kernel:0', 'custom_lstm_8/input_gate/bias:0', 'custom_lstm_8/output_gate/kernel:0', 'custom_lstm_8/output_gate/bias:0'] when minimizing the loss. If you're using `model.compile()`, did you forget to provide a `loss` argument?\n"
     ]
    },
    {
     "name": "stderr",
     "output_type": "stream",
     "text": [
      "WARNING:tensorflow:Gradients do not exist for variables ['custom_lstm_8/input_gate/kernel:0', 'custom_lstm_8/input_gate/bias:0', 'custom_lstm_8/output_gate/kernel:0', 'custom_lstm_8/output_gate/bias:0'] when minimizing the loss. If you're using `model.compile()`, did you forget to provide a `loss` argument?\n"
     ]
    },
    {
     "name": "stdout",
     "output_type": "stream",
     "text": [
      "WARNING:tensorflow:Gradients do not exist for variables ['custom_lstm_8/input_gate/kernel:0', 'custom_lstm_8/input_gate/bias:0', 'custom_lstm_8/output_gate/kernel:0', 'custom_lstm_8/output_gate/bias:0'] when minimizing the loss. If you're using `model.compile()`, did you forget to provide a `loss` argument?\n"
     ]
    },
    {
     "name": "stderr",
     "output_type": "stream",
     "text": [
      "WARNING:tensorflow:Gradients do not exist for variables ['custom_lstm_8/input_gate/kernel:0', 'custom_lstm_8/input_gate/bias:0', 'custom_lstm_8/output_gate/kernel:0', 'custom_lstm_8/output_gate/bias:0'] when minimizing the loss. If you're using `model.compile()`, did you forget to provide a `loss` argument?\n"
     ]
    },
    {
     "name": "stdout",
     "output_type": "stream",
     "text": [
      "WARNING:tensorflow:Gradients do not exist for variables ['custom_lstm_8/input_gate/kernel:0', 'custom_lstm_8/input_gate/bias:0', 'custom_lstm_8/output_gate/kernel:0', 'custom_lstm_8/output_gate/bias:0'] when minimizing the loss. If you're using `model.compile()`, did you forget to provide a `loss` argument?\n"
     ]
    },
    {
     "name": "stderr",
     "output_type": "stream",
     "text": [
      "WARNING:tensorflow:Gradients do not exist for variables ['custom_lstm_8/input_gate/kernel:0', 'custom_lstm_8/input_gate/bias:0', 'custom_lstm_8/output_gate/kernel:0', 'custom_lstm_8/output_gate/bias:0'] when minimizing the loss. If you're using `model.compile()`, did you forget to provide a `loss` argument?\n"
     ]
    },
    {
     "name": "stdout",
     "output_type": "stream",
     "text": [
      "WARNING:tensorflow:Gradients do not exist for variables ['custom_lstm_8/input_gate/kernel:0', 'custom_lstm_8/input_gate/bias:0', 'custom_lstm_8/output_gate/kernel:0', 'custom_lstm_8/output_gate/bias:0'] when minimizing the loss. If you're using `model.compile()`, did you forget to provide a `loss` argument?\n"
     ]
    },
    {
     "name": "stderr",
     "output_type": "stream",
     "text": [
      "WARNING:tensorflow:Gradients do not exist for variables ['custom_lstm_8/input_gate/kernel:0', 'custom_lstm_8/input_gate/bias:0', 'custom_lstm_8/output_gate/kernel:0', 'custom_lstm_8/output_gate/bias:0'] when minimizing the loss. If you're using `model.compile()`, did you forget to provide a `loss` argument?\n"
     ]
    },
    {
     "name": "stdout",
     "output_type": "stream",
     "text": [
      "WARNING:tensorflow:Gradients do not exist for variables ['custom_lstm_8/input_gate/kernel:0', 'custom_lstm_8/input_gate/bias:0', 'custom_lstm_8/output_gate/kernel:0', 'custom_lstm_8/output_gate/bias:0'] when minimizing the loss. If you're using `model.compile()`, did you forget to provide a `loss` argument?\n"
     ]
    },
    {
     "name": "stderr",
     "output_type": "stream",
     "text": [
      "WARNING:tensorflow:Gradients do not exist for variables ['custom_lstm_8/input_gate/kernel:0', 'custom_lstm_8/input_gate/bias:0', 'custom_lstm_8/output_gate/kernel:0', 'custom_lstm_8/output_gate/bias:0'] when minimizing the loss. If you're using `model.compile()`, did you forget to provide a `loss` argument?\n"
     ]
    },
    {
     "name": "stdout",
     "output_type": "stream",
     "text": [
      "WARNING:tensorflow:Gradients do not exist for variables ['custom_lstm_8/input_gate/kernel:0', 'custom_lstm_8/input_gate/bias:0', 'custom_lstm_8/output_gate/kernel:0', 'custom_lstm_8/output_gate/bias:0'] when minimizing the loss. If you're using `model.compile()`, did you forget to provide a `loss` argument?\n"
     ]
    },
    {
     "name": "stderr",
     "output_type": "stream",
     "text": [
      "WARNING:tensorflow:Gradients do not exist for variables ['custom_lstm_8/input_gate/kernel:0', 'custom_lstm_8/input_gate/bias:0', 'custom_lstm_8/output_gate/kernel:0', 'custom_lstm_8/output_gate/bias:0'] when minimizing the loss. If you're using `model.compile()`, did you forget to provide a `loss` argument?\n"
     ]
    },
    {
     "name": "stdout",
     "output_type": "stream",
     "text": [
      "WARNING:tensorflow:Gradients do not exist for variables ['custom_lstm_8/input_gate/kernel:0', 'custom_lstm_8/input_gate/bias:0', 'custom_lstm_8/output_gate/kernel:0', 'custom_lstm_8/output_gate/bias:0'] when minimizing the loss. If you're using `model.compile()`, did you forget to provide a `loss` argument?\n"
     ]
    },
    {
     "name": "stderr",
     "output_type": "stream",
     "text": [
      "WARNING:tensorflow:Gradients do not exist for variables ['custom_lstm_8/input_gate/kernel:0', 'custom_lstm_8/input_gate/bias:0', 'custom_lstm_8/output_gate/kernel:0', 'custom_lstm_8/output_gate/bias:0'] when minimizing the loss. If you're using `model.compile()`, did you forget to provide a `loss` argument?\n"
     ]
    },
    {
     "name": "stdout",
     "output_type": "stream",
     "text": [
      "WARNING:tensorflow:Gradients do not exist for variables ['custom_lstm_8/input_gate/kernel:0', 'custom_lstm_8/input_gate/bias:0', 'custom_lstm_8/output_gate/kernel:0', 'custom_lstm_8/output_gate/bias:0'] when minimizing the loss. If you're using `model.compile()`, did you forget to provide a `loss` argument?\n"
     ]
    },
    {
     "name": "stderr",
     "output_type": "stream",
     "text": [
      "WARNING:tensorflow:Gradients do not exist for variables ['custom_lstm_8/input_gate/kernel:0', 'custom_lstm_8/input_gate/bias:0', 'custom_lstm_8/output_gate/kernel:0', 'custom_lstm_8/output_gate/bias:0'] when minimizing the loss. If you're using `model.compile()`, did you forget to provide a `loss` argument?\n"
     ]
    },
    {
     "name": "stdout",
     "output_type": "stream",
     "text": [
      "WARNING:tensorflow:Gradients do not exist for variables ['custom_lstm_8/input_gate/kernel:0', 'custom_lstm_8/input_gate/bias:0', 'custom_lstm_8/output_gate/kernel:0', 'custom_lstm_8/output_gate/bias:0'] when minimizing the loss. If you're using `model.compile()`, did you forget to provide a `loss` argument?\n"
     ]
    },
    {
     "name": "stderr",
     "output_type": "stream",
     "text": [
      "WARNING:tensorflow:Gradients do not exist for variables ['custom_lstm_8/input_gate/kernel:0', 'custom_lstm_8/input_gate/bias:0', 'custom_lstm_8/output_gate/kernel:0', 'custom_lstm_8/output_gate/bias:0'] when minimizing the loss. If you're using `model.compile()`, did you forget to provide a `loss` argument?\n"
     ]
    },
    {
     "name": "stdout",
     "output_type": "stream",
     "text": [
      "WARNING:tensorflow:Gradients do not exist for variables ['custom_lstm_8/input_gate/kernel:0', 'custom_lstm_8/input_gate/bias:0', 'custom_lstm_8/output_gate/kernel:0', 'custom_lstm_8/output_gate/bias:0'] when minimizing the loss. If you're using `model.compile()`, did you forget to provide a `loss` argument?\n"
     ]
    },
    {
     "name": "stderr",
     "output_type": "stream",
     "text": [
      "WARNING:tensorflow:Gradients do not exist for variables ['custom_lstm_8/input_gate/kernel:0', 'custom_lstm_8/input_gate/bias:0', 'custom_lstm_8/output_gate/kernel:0', 'custom_lstm_8/output_gate/bias:0'] when minimizing the loss. If you're using `model.compile()`, did you forget to provide a `loss` argument?\n"
     ]
    },
    {
     "name": "stdout",
     "output_type": "stream",
     "text": [
      "WARNING:tensorflow:Gradients do not exist for variables ['custom_lstm_8/input_gate/kernel:0', 'custom_lstm_8/input_gate/bias:0', 'custom_lstm_8/output_gate/kernel:0', 'custom_lstm_8/output_gate/bias:0'] when minimizing the loss. If you're using `model.compile()`, did you forget to provide a `loss` argument?\n"
     ]
    },
    {
     "name": "stderr",
     "output_type": "stream",
     "text": [
      "WARNING:tensorflow:Gradients do not exist for variables ['custom_lstm_8/input_gate/kernel:0', 'custom_lstm_8/input_gate/bias:0', 'custom_lstm_8/output_gate/kernel:0', 'custom_lstm_8/output_gate/bias:0'] when minimizing the loss. If you're using `model.compile()`, did you forget to provide a `loss` argument?\n"
     ]
    },
    {
     "name": "stdout",
     "output_type": "stream",
     "text": [
      "WARNING:tensorflow:Gradients do not exist for variables ['custom_lstm_8/input_gate/kernel:0', 'custom_lstm_8/input_gate/bias:0', 'custom_lstm_8/output_gate/kernel:0', 'custom_lstm_8/output_gate/bias:0'] when minimizing the loss. If you're using `model.compile()`, did you forget to provide a `loss` argument?\n"
     ]
    },
    {
     "name": "stderr",
     "output_type": "stream",
     "text": [
      "WARNING:tensorflow:Gradients do not exist for variables ['custom_lstm_8/input_gate/kernel:0', 'custom_lstm_8/input_gate/bias:0', 'custom_lstm_8/output_gate/kernel:0', 'custom_lstm_8/output_gate/bias:0'] when minimizing the loss. If you're using `model.compile()`, did you forget to provide a `loss` argument?\n"
     ]
    },
    {
     "name": "stdout",
     "output_type": "stream",
     "text": [
      "WARNING:tensorflow:Gradients do not exist for variables ['custom_lstm_8/input_gate/kernel:0', 'custom_lstm_8/input_gate/bias:0', 'custom_lstm_8/output_gate/kernel:0', 'custom_lstm_8/output_gate/bias:0'] when minimizing the loss. If you're using `model.compile()`, did you forget to provide a `loss` argument?\n"
     ]
    },
    {
     "name": "stderr",
     "output_type": "stream",
     "text": [
      "WARNING:tensorflow:Gradients do not exist for variables ['custom_lstm_8/input_gate/kernel:0', 'custom_lstm_8/input_gate/bias:0', 'custom_lstm_8/output_gate/kernel:0', 'custom_lstm_8/output_gate/bias:0'] when minimizing the loss. If you're using `model.compile()`, did you forget to provide a `loss` argument?\n"
     ]
    },
    {
     "name": "stdout",
     "output_type": "stream",
     "text": [
      "WARNING:tensorflow:Gradients do not exist for variables ['custom_lstm_8/input_gate/kernel:0', 'custom_lstm_8/input_gate/bias:0', 'custom_lstm_8/output_gate/kernel:0', 'custom_lstm_8/output_gate/bias:0'] when minimizing the loss. If you're using `model.compile()`, did you forget to provide a `loss` argument?\n"
     ]
    },
    {
     "name": "stderr",
     "output_type": "stream",
     "text": [
      "WARNING:tensorflow:Gradients do not exist for variables ['custom_lstm_8/input_gate/kernel:0', 'custom_lstm_8/input_gate/bias:0', 'custom_lstm_8/output_gate/kernel:0', 'custom_lstm_8/output_gate/bias:0'] when minimizing the loss. If you're using `model.compile()`, did you forget to provide a `loss` argument?\n"
     ]
    },
    {
     "name": "stdout",
     "output_type": "stream",
     "text": [
      "WARNING:tensorflow:Gradients do not exist for variables ['custom_lstm_8/input_gate/kernel:0', 'custom_lstm_8/input_gate/bias:0', 'custom_lstm_8/output_gate/kernel:0', 'custom_lstm_8/output_gate/bias:0'] when minimizing the loss. If you're using `model.compile()`, did you forget to provide a `loss` argument?\n"
     ]
    },
    {
     "name": "stderr",
     "output_type": "stream",
     "text": [
      "WARNING:tensorflow:Gradients do not exist for variables ['custom_lstm_8/input_gate/kernel:0', 'custom_lstm_8/input_gate/bias:0', 'custom_lstm_8/output_gate/kernel:0', 'custom_lstm_8/output_gate/bias:0'] when minimizing the loss. If you're using `model.compile()`, did you forget to provide a `loss` argument?\n"
     ]
    },
    {
     "name": "stdout",
     "output_type": "stream",
     "text": [
      "WARNING:tensorflow:Gradients do not exist for variables ['custom_lstm_8/input_gate/kernel:0', 'custom_lstm_8/input_gate/bias:0', 'custom_lstm_8/output_gate/kernel:0', 'custom_lstm_8/output_gate/bias:0'] when minimizing the loss. If you're using `model.compile()`, did you forget to provide a `loss` argument?\n"
     ]
    },
    {
     "name": "stderr",
     "output_type": "stream",
     "text": [
      "WARNING:tensorflow:Gradients do not exist for variables ['custom_lstm_8/input_gate/kernel:0', 'custom_lstm_8/input_gate/bias:0', 'custom_lstm_8/output_gate/kernel:0', 'custom_lstm_8/output_gate/bias:0'] when minimizing the loss. If you're using `model.compile()`, did you forget to provide a `loss` argument?\n"
     ]
    },
    {
     "name": "stdout",
     "output_type": "stream",
     "text": [
      "WARNING:tensorflow:Gradients do not exist for variables ['custom_lstm_8/input_gate/kernel:0', 'custom_lstm_8/input_gate/bias:0', 'custom_lstm_8/output_gate/kernel:0', 'custom_lstm_8/output_gate/bias:0'] when minimizing the loss. If you're using `model.compile()`, did you forget to provide a `loss` argument?\n"
     ]
    },
    {
     "name": "stderr",
     "output_type": "stream",
     "text": [
      "WARNING:tensorflow:Gradients do not exist for variables ['custom_lstm_8/input_gate/kernel:0', 'custom_lstm_8/input_gate/bias:0', 'custom_lstm_8/output_gate/kernel:0', 'custom_lstm_8/output_gate/bias:0'] when minimizing the loss. If you're using `model.compile()`, did you forget to provide a `loss` argument?\n"
     ]
    },
    {
     "name": "stdout",
     "output_type": "stream",
     "text": [
      "WARNING:tensorflow:Gradients do not exist for variables ['custom_lstm_8/input_gate/kernel:0', 'custom_lstm_8/input_gate/bias:0', 'custom_lstm_8/output_gate/kernel:0', 'custom_lstm_8/output_gate/bias:0'] when minimizing the loss. If you're using `model.compile()`, did you forget to provide a `loss` argument?\n"
     ]
    },
    {
     "name": "stderr",
     "output_type": "stream",
     "text": [
      "WARNING:tensorflow:Gradients do not exist for variables ['custom_lstm_8/input_gate/kernel:0', 'custom_lstm_8/input_gate/bias:0', 'custom_lstm_8/output_gate/kernel:0', 'custom_lstm_8/output_gate/bias:0'] when minimizing the loss. If you're using `model.compile()`, did you forget to provide a `loss` argument?\n"
     ]
    },
    {
     "name": "stdout",
     "output_type": "stream",
     "text": [
      "WARNING:tensorflow:Gradients do not exist for variables ['custom_lstm_8/input_gate/kernel:0', 'custom_lstm_8/input_gate/bias:0', 'custom_lstm_8/output_gate/kernel:0', 'custom_lstm_8/output_gate/bias:0'] when minimizing the loss. If you're using `model.compile()`, did you forget to provide a `loss` argument?\n"
     ]
    },
    {
     "name": "stderr",
     "output_type": "stream",
     "text": [
      "WARNING:tensorflow:Gradients do not exist for variables ['custom_lstm_8/input_gate/kernel:0', 'custom_lstm_8/input_gate/bias:0', 'custom_lstm_8/output_gate/kernel:0', 'custom_lstm_8/output_gate/bias:0'] when minimizing the loss. If you're using `model.compile()`, did you forget to provide a `loss` argument?\n"
     ]
    },
    {
     "name": "stdout",
     "output_type": "stream",
     "text": [
      "WARNING:tensorflow:Gradients do not exist for variables ['custom_lstm_8/input_gate/kernel:0', 'custom_lstm_8/input_gate/bias:0', 'custom_lstm_8/output_gate/kernel:0', 'custom_lstm_8/output_gate/bias:0'] when minimizing the loss. If you're using `model.compile()`, did you forget to provide a `loss` argument?\n"
     ]
    },
    {
     "name": "stderr",
     "output_type": "stream",
     "text": [
      "WARNING:tensorflow:Gradients do not exist for variables ['custom_lstm_8/input_gate/kernel:0', 'custom_lstm_8/input_gate/bias:0', 'custom_lstm_8/output_gate/kernel:0', 'custom_lstm_8/output_gate/bias:0'] when minimizing the loss. If you're using `model.compile()`, did you forget to provide a `loss` argument?\n"
     ]
    },
    {
     "name": "stdout",
     "output_type": "stream",
     "text": [
      "WARNING:tensorflow:Gradients do not exist for variables ['custom_lstm_8/input_gate/kernel:0', 'custom_lstm_8/input_gate/bias:0', 'custom_lstm_8/output_gate/kernel:0', 'custom_lstm_8/output_gate/bias:0'] when minimizing the loss. If you're using `model.compile()`, did you forget to provide a `loss` argument?\n"
     ]
    },
    {
     "name": "stderr",
     "output_type": "stream",
     "text": [
      "WARNING:tensorflow:Gradients do not exist for variables ['custom_lstm_8/input_gate/kernel:0', 'custom_lstm_8/input_gate/bias:0', 'custom_lstm_8/output_gate/kernel:0', 'custom_lstm_8/output_gate/bias:0'] when minimizing the loss. If you're using `model.compile()`, did you forget to provide a `loss` argument?\n"
     ]
    },
    {
     "name": "stdout",
     "output_type": "stream",
     "text": [
      "WARNING:tensorflow:Gradients do not exist for variables ['custom_lstm_8/input_gate/kernel:0', 'custom_lstm_8/input_gate/bias:0', 'custom_lstm_8/output_gate/kernel:0', 'custom_lstm_8/output_gate/bias:0'] when minimizing the loss. If you're using `model.compile()`, did you forget to provide a `loss` argument?\n"
     ]
    },
    {
     "name": "stderr",
     "output_type": "stream",
     "text": [
      "WARNING:tensorflow:Gradients do not exist for variables ['custom_lstm_8/input_gate/kernel:0', 'custom_lstm_8/input_gate/bias:0', 'custom_lstm_8/output_gate/kernel:0', 'custom_lstm_8/output_gate/bias:0'] when minimizing the loss. If you're using `model.compile()`, did you forget to provide a `loss` argument?\n"
     ]
    },
    {
     "name": "stdout",
     "output_type": "stream",
     "text": [
      "WARNING:tensorflow:Gradients do not exist for variables ['custom_lstm_8/input_gate/kernel:0', 'custom_lstm_8/input_gate/bias:0', 'custom_lstm_8/output_gate/kernel:0', 'custom_lstm_8/output_gate/bias:0'] when minimizing the loss. If you're using `model.compile()`, did you forget to provide a `loss` argument?\n"
     ]
    },
    {
     "name": "stderr",
     "output_type": "stream",
     "text": [
      "WARNING:tensorflow:Gradients do not exist for variables ['custom_lstm_8/input_gate/kernel:0', 'custom_lstm_8/input_gate/bias:0', 'custom_lstm_8/output_gate/kernel:0', 'custom_lstm_8/output_gate/bias:0'] when minimizing the loss. If you're using `model.compile()`, did you forget to provide a `loss` argument?\n"
     ]
    },
    {
     "name": "stdout",
     "output_type": "stream",
     "text": [
      "WARNING:tensorflow:Gradients do not exist for variables ['custom_lstm_8/input_gate/kernel:0', 'custom_lstm_8/input_gate/bias:0', 'custom_lstm_8/output_gate/kernel:0', 'custom_lstm_8/output_gate/bias:0'] when minimizing the loss. If you're using `model.compile()`, did you forget to provide a `loss` argument?\n"
     ]
    },
    {
     "name": "stderr",
     "output_type": "stream",
     "text": [
      "WARNING:tensorflow:Gradients do not exist for variables ['custom_lstm_8/input_gate/kernel:0', 'custom_lstm_8/input_gate/bias:0', 'custom_lstm_8/output_gate/kernel:0', 'custom_lstm_8/output_gate/bias:0'] when minimizing the loss. If you're using `model.compile()`, did you forget to provide a `loss` argument?\n"
     ]
    },
    {
     "name": "stdout",
     "output_type": "stream",
     "text": [
      "WARNING:tensorflow:Gradients do not exist for variables ['custom_lstm_8/input_gate/kernel:0', 'custom_lstm_8/input_gate/bias:0', 'custom_lstm_8/output_gate/kernel:0', 'custom_lstm_8/output_gate/bias:0'] when minimizing the loss. If you're using `model.compile()`, did you forget to provide a `loss` argument?\n"
     ]
    },
    {
     "name": "stderr",
     "output_type": "stream",
     "text": [
      "WARNING:tensorflow:Gradients do not exist for variables ['custom_lstm_8/input_gate/kernel:0', 'custom_lstm_8/input_gate/bias:0', 'custom_lstm_8/output_gate/kernel:0', 'custom_lstm_8/output_gate/bias:0'] when minimizing the loss. If you're using `model.compile()`, did you forget to provide a `loss` argument?\n"
     ]
    },
    {
     "name": "stdout",
     "output_type": "stream",
     "text": [
      "WARNING:tensorflow:Gradients do not exist for variables ['custom_lstm_8/input_gate/kernel:0', 'custom_lstm_8/input_gate/bias:0', 'custom_lstm_8/output_gate/kernel:0', 'custom_lstm_8/output_gate/bias:0'] when minimizing the loss. If you're using `model.compile()`, did you forget to provide a `loss` argument?\n"
     ]
    },
    {
     "name": "stderr",
     "output_type": "stream",
     "text": [
      "WARNING:tensorflow:Gradients do not exist for variables ['custom_lstm_8/input_gate/kernel:0', 'custom_lstm_8/input_gate/bias:0', 'custom_lstm_8/output_gate/kernel:0', 'custom_lstm_8/output_gate/bias:0'] when minimizing the loss. If you're using `model.compile()`, did you forget to provide a `loss` argument?\n"
     ]
    },
    {
     "name": "stdout",
     "output_type": "stream",
     "text": [
      "WARNING:tensorflow:Gradients do not exist for variables ['custom_lstm_8/input_gate/kernel:0', 'custom_lstm_8/input_gate/bias:0', 'custom_lstm_8/output_gate/kernel:0', 'custom_lstm_8/output_gate/bias:0'] when minimizing the loss. If you're using `model.compile()`, did you forget to provide a `loss` argument?\n"
     ]
    },
    {
     "name": "stderr",
     "output_type": "stream",
     "text": [
      "WARNING:tensorflow:Gradients do not exist for variables ['custom_lstm_8/input_gate/kernel:0', 'custom_lstm_8/input_gate/bias:0', 'custom_lstm_8/output_gate/kernel:0', 'custom_lstm_8/output_gate/bias:0'] when minimizing the loss. If you're using `model.compile()`, did you forget to provide a `loss` argument?\n"
     ]
    },
    {
     "name": "stdout",
     "output_type": "stream",
     "text": [
      "WARNING:tensorflow:Gradients do not exist for variables ['custom_lstm_8/input_gate/kernel:0', 'custom_lstm_8/input_gate/bias:0', 'custom_lstm_8/output_gate/kernel:0', 'custom_lstm_8/output_gate/bias:0'] when minimizing the loss. If you're using `model.compile()`, did you forget to provide a `loss` argument?\n"
     ]
    },
    {
     "name": "stderr",
     "output_type": "stream",
     "text": [
      "WARNING:tensorflow:Gradients do not exist for variables ['custom_lstm_8/input_gate/kernel:0', 'custom_lstm_8/input_gate/bias:0', 'custom_lstm_8/output_gate/kernel:0', 'custom_lstm_8/output_gate/bias:0'] when minimizing the loss. If you're using `model.compile()`, did you forget to provide a `loss` argument?\n"
     ]
    },
    {
     "name": "stdout",
     "output_type": "stream",
     "text": [
      "WARNING:tensorflow:Gradients do not exist for variables ['custom_lstm_8/input_gate/kernel:0', 'custom_lstm_8/input_gate/bias:0', 'custom_lstm_8/output_gate/kernel:0', 'custom_lstm_8/output_gate/bias:0'] when minimizing the loss. If you're using `model.compile()`, did you forget to provide a `loss` argument?\n"
     ]
    },
    {
     "name": "stderr",
     "output_type": "stream",
     "text": [
      "WARNING:tensorflow:Gradients do not exist for variables ['custom_lstm_8/input_gate/kernel:0', 'custom_lstm_8/input_gate/bias:0', 'custom_lstm_8/output_gate/kernel:0', 'custom_lstm_8/output_gate/bias:0'] when minimizing the loss. If you're using `model.compile()`, did you forget to provide a `loss` argument?\n"
     ]
    },
    {
     "name": "stdout",
     "output_type": "stream",
     "text": [
      "WARNING:tensorflow:Gradients do not exist for variables ['custom_lstm_8/input_gate/kernel:0', 'custom_lstm_8/input_gate/bias:0', 'custom_lstm_8/output_gate/kernel:0', 'custom_lstm_8/output_gate/bias:0'] when minimizing the loss. If you're using `model.compile()`, did you forget to provide a `loss` argument?\n"
     ]
    },
    {
     "name": "stderr",
     "output_type": "stream",
     "text": [
      "WARNING:tensorflow:Gradients do not exist for variables ['custom_lstm_8/input_gate/kernel:0', 'custom_lstm_8/input_gate/bias:0', 'custom_lstm_8/output_gate/kernel:0', 'custom_lstm_8/output_gate/bias:0'] when minimizing the loss. If you're using `model.compile()`, did you forget to provide a `loss` argument?\n"
     ]
    },
    {
     "name": "stdout",
     "output_type": "stream",
     "text": [
      "WARNING:tensorflow:Gradients do not exist for variables ['custom_lstm_8/input_gate/kernel:0', 'custom_lstm_8/input_gate/bias:0', 'custom_lstm_8/output_gate/kernel:0', 'custom_lstm_8/output_gate/bias:0'] when minimizing the loss. If you're using `model.compile()`, did you forget to provide a `loss` argument?\n"
     ]
    },
    {
     "name": "stderr",
     "output_type": "stream",
     "text": [
      "WARNING:tensorflow:Gradients do not exist for variables ['custom_lstm_8/input_gate/kernel:0', 'custom_lstm_8/input_gate/bias:0', 'custom_lstm_8/output_gate/kernel:0', 'custom_lstm_8/output_gate/bias:0'] when minimizing the loss. If you're using `model.compile()`, did you forget to provide a `loss` argument?\n"
     ]
    },
    {
     "name": "stdout",
     "output_type": "stream",
     "text": [
      "WARNING:tensorflow:Gradients do not exist for variables ['custom_lstm_8/input_gate/kernel:0', 'custom_lstm_8/input_gate/bias:0', 'custom_lstm_8/output_gate/kernel:0', 'custom_lstm_8/output_gate/bias:0'] when minimizing the loss. If you're using `model.compile()`, did you forget to provide a `loss` argument?\n"
     ]
    },
    {
     "name": "stderr",
     "output_type": "stream",
     "text": [
      "WARNING:tensorflow:Gradients do not exist for variables ['custom_lstm_8/input_gate/kernel:0', 'custom_lstm_8/input_gate/bias:0', 'custom_lstm_8/output_gate/kernel:0', 'custom_lstm_8/output_gate/bias:0'] when minimizing the loss. If you're using `model.compile()`, did you forget to provide a `loss` argument?\n"
     ]
    },
    {
     "name": "stdout",
     "output_type": "stream",
     "text": [
      "WARNING:tensorflow:Gradients do not exist for variables ['custom_lstm_8/input_gate/kernel:0', 'custom_lstm_8/input_gate/bias:0', 'custom_lstm_8/output_gate/kernel:0', 'custom_lstm_8/output_gate/bias:0'] when minimizing the loss. If you're using `model.compile()`, did you forget to provide a `loss` argument?\n"
     ]
    },
    {
     "name": "stderr",
     "output_type": "stream",
     "text": [
      "WARNING:tensorflow:Gradients do not exist for variables ['custom_lstm_8/input_gate/kernel:0', 'custom_lstm_8/input_gate/bias:0', 'custom_lstm_8/output_gate/kernel:0', 'custom_lstm_8/output_gate/bias:0'] when minimizing the loss. If you're using `model.compile()`, did you forget to provide a `loss` argument?\n"
     ]
    },
    {
     "name": "stdout",
     "output_type": "stream",
     "text": [
      "WARNING:tensorflow:Gradients do not exist for variables ['custom_lstm_8/input_gate/kernel:0', 'custom_lstm_8/input_gate/bias:0', 'custom_lstm_8/output_gate/kernel:0', 'custom_lstm_8/output_gate/bias:0'] when minimizing the loss. If you're using `model.compile()`, did you forget to provide a `loss` argument?\n"
     ]
    },
    {
     "name": "stderr",
     "output_type": "stream",
     "text": [
      "WARNING:tensorflow:Gradients do not exist for variables ['custom_lstm_8/input_gate/kernel:0', 'custom_lstm_8/input_gate/bias:0', 'custom_lstm_8/output_gate/kernel:0', 'custom_lstm_8/output_gate/bias:0'] when minimizing the loss. If you're using `model.compile()`, did you forget to provide a `loss` argument?\n"
     ]
    },
    {
     "name": "stdout",
     "output_type": "stream",
     "text": [
      "WARNING:tensorflow:Gradients do not exist for variables ['custom_lstm_8/input_gate/kernel:0', 'custom_lstm_8/input_gate/bias:0', 'custom_lstm_8/output_gate/kernel:0', 'custom_lstm_8/output_gate/bias:0'] when minimizing the loss. If you're using `model.compile()`, did you forget to provide a `loss` argument?\n"
     ]
    },
    {
     "name": "stderr",
     "output_type": "stream",
     "text": [
      "WARNING:tensorflow:Gradients do not exist for variables ['custom_lstm_8/input_gate/kernel:0', 'custom_lstm_8/input_gate/bias:0', 'custom_lstm_8/output_gate/kernel:0', 'custom_lstm_8/output_gate/bias:0'] when minimizing the loss. If you're using `model.compile()`, did you forget to provide a `loss` argument?\n"
     ]
    },
    {
     "name": "stdout",
     "output_type": "stream",
     "text": [
      "WARNING:tensorflow:Gradients do not exist for variables ['custom_lstm_8/input_gate/kernel:0', 'custom_lstm_8/input_gate/bias:0', 'custom_lstm_8/output_gate/kernel:0', 'custom_lstm_8/output_gate/bias:0'] when minimizing the loss. If you're using `model.compile()`, did you forget to provide a `loss` argument?\n"
     ]
    },
    {
     "name": "stderr",
     "output_type": "stream",
     "text": [
      "WARNING:tensorflow:Gradients do not exist for variables ['custom_lstm_8/input_gate/kernel:0', 'custom_lstm_8/input_gate/bias:0', 'custom_lstm_8/output_gate/kernel:0', 'custom_lstm_8/output_gate/bias:0'] when minimizing the loss. If you're using `model.compile()`, did you forget to provide a `loss` argument?\n"
     ]
    },
    {
     "name": "stdout",
     "output_type": "stream",
     "text": [
      "WARNING:tensorflow:Gradients do not exist for variables ['custom_lstm_8/input_gate/kernel:0', 'custom_lstm_8/input_gate/bias:0', 'custom_lstm_8/output_gate/kernel:0', 'custom_lstm_8/output_gate/bias:0'] when minimizing the loss. If you're using `model.compile()`, did you forget to provide a `loss` argument?\n"
     ]
    },
    {
     "name": "stderr",
     "output_type": "stream",
     "text": [
      "WARNING:tensorflow:Gradients do not exist for variables ['custom_lstm_8/input_gate/kernel:0', 'custom_lstm_8/input_gate/bias:0', 'custom_lstm_8/output_gate/kernel:0', 'custom_lstm_8/output_gate/bias:0'] when minimizing the loss. If you're using `model.compile()`, did you forget to provide a `loss` argument?\n"
     ]
    },
    {
     "name": "stdout",
     "output_type": "stream",
     "text": [
      "WARNING:tensorflow:Gradients do not exist for variables ['custom_lstm_8/input_gate/kernel:0', 'custom_lstm_8/input_gate/bias:0', 'custom_lstm_8/output_gate/kernel:0', 'custom_lstm_8/output_gate/bias:0'] when minimizing the loss. If you're using `model.compile()`, did you forget to provide a `loss` argument?\n"
     ]
    },
    {
     "name": "stderr",
     "output_type": "stream",
     "text": [
      "WARNING:tensorflow:Gradients do not exist for variables ['custom_lstm_8/input_gate/kernel:0', 'custom_lstm_8/input_gate/bias:0', 'custom_lstm_8/output_gate/kernel:0', 'custom_lstm_8/output_gate/bias:0'] when minimizing the loss. If you're using `model.compile()`, did you forget to provide a `loss` argument?\n"
     ]
    },
    {
     "name": "stdout",
     "output_type": "stream",
     "text": [
      "WARNING:tensorflow:Gradients do not exist for variables ['custom_lstm_8/input_gate/kernel:0', 'custom_lstm_8/input_gate/bias:0', 'custom_lstm_8/output_gate/kernel:0', 'custom_lstm_8/output_gate/bias:0'] when minimizing the loss. If you're using `model.compile()`, did you forget to provide a `loss` argument?\n"
     ]
    },
    {
     "name": "stderr",
     "output_type": "stream",
     "text": [
      "WARNING:tensorflow:Gradients do not exist for variables ['custom_lstm_8/input_gate/kernel:0', 'custom_lstm_8/input_gate/bias:0', 'custom_lstm_8/output_gate/kernel:0', 'custom_lstm_8/output_gate/bias:0'] when minimizing the loss. If you're using `model.compile()`, did you forget to provide a `loss` argument?\n"
     ]
    },
    {
     "name": "stdout",
     "output_type": "stream",
     "text": [
      "WARNING:tensorflow:Gradients do not exist for variables ['custom_lstm_8/input_gate/kernel:0', 'custom_lstm_8/input_gate/bias:0', 'custom_lstm_8/output_gate/kernel:0', 'custom_lstm_8/output_gate/bias:0'] when minimizing the loss. If you're using `model.compile()`, did you forget to provide a `loss` argument?\n"
     ]
    },
    {
     "name": "stderr",
     "output_type": "stream",
     "text": [
      "WARNING:tensorflow:Gradients do not exist for variables ['custom_lstm_8/input_gate/kernel:0', 'custom_lstm_8/input_gate/bias:0', 'custom_lstm_8/output_gate/kernel:0', 'custom_lstm_8/output_gate/bias:0'] when minimizing the loss. If you're using `model.compile()`, did you forget to provide a `loss` argument?\n"
     ]
    },
    {
     "name": "stdout",
     "output_type": "stream",
     "text": [
      "WARNING:tensorflow:Gradients do not exist for variables ['custom_lstm_8/input_gate/kernel:0', 'custom_lstm_8/input_gate/bias:0', 'custom_lstm_8/output_gate/kernel:0', 'custom_lstm_8/output_gate/bias:0'] when minimizing the loss. If you're using `model.compile()`, did you forget to provide a `loss` argument?\n"
     ]
    },
    {
     "name": "stderr",
     "output_type": "stream",
     "text": [
      "WARNING:tensorflow:Gradients do not exist for variables ['custom_lstm_8/input_gate/kernel:0', 'custom_lstm_8/input_gate/bias:0', 'custom_lstm_8/output_gate/kernel:0', 'custom_lstm_8/output_gate/bias:0'] when minimizing the loss. If you're using `model.compile()`, did you forget to provide a `loss` argument?\n"
     ]
    },
    {
     "name": "stdout",
     "output_type": "stream",
     "text": [
      "WARNING:tensorflow:Gradients do not exist for variables ['custom_lstm_8/input_gate/kernel:0', 'custom_lstm_8/input_gate/bias:0', 'custom_lstm_8/output_gate/kernel:0', 'custom_lstm_8/output_gate/bias:0'] when minimizing the loss. If you're using `model.compile()`, did you forget to provide a `loss` argument?\n"
     ]
    },
    {
     "name": "stderr",
     "output_type": "stream",
     "text": [
      "WARNING:tensorflow:Gradients do not exist for variables ['custom_lstm_8/input_gate/kernel:0', 'custom_lstm_8/input_gate/bias:0', 'custom_lstm_8/output_gate/kernel:0', 'custom_lstm_8/output_gate/bias:0'] when minimizing the loss. If you're using `model.compile()`, did you forget to provide a `loss` argument?\n"
     ]
    },
    {
     "name": "stdout",
     "output_type": "stream",
     "text": [
      "WARNING:tensorflow:Gradients do not exist for variables ['custom_lstm_8/input_gate/kernel:0', 'custom_lstm_8/input_gate/bias:0', 'custom_lstm_8/output_gate/kernel:0', 'custom_lstm_8/output_gate/bias:0'] when minimizing the loss. If you're using `model.compile()`, did you forget to provide a `loss` argument?\n"
     ]
    },
    {
     "name": "stderr",
     "output_type": "stream",
     "text": [
      "WARNING:tensorflow:Gradients do not exist for variables ['custom_lstm_8/input_gate/kernel:0', 'custom_lstm_8/input_gate/bias:0', 'custom_lstm_8/output_gate/kernel:0', 'custom_lstm_8/output_gate/bias:0'] when minimizing the loss. If you're using `model.compile()`, did you forget to provide a `loss` argument?\n"
     ]
    },
    {
     "name": "stdout",
     "output_type": "stream",
     "text": [
      "WARNING:tensorflow:Gradients do not exist for variables ['custom_lstm_8/input_gate/kernel:0', 'custom_lstm_8/input_gate/bias:0', 'custom_lstm_8/output_gate/kernel:0', 'custom_lstm_8/output_gate/bias:0'] when minimizing the loss. If you're using `model.compile()`, did you forget to provide a `loss` argument?\n"
     ]
    },
    {
     "name": "stderr",
     "output_type": "stream",
     "text": [
      "WARNING:tensorflow:Gradients do not exist for variables ['custom_lstm_8/input_gate/kernel:0', 'custom_lstm_8/input_gate/bias:0', 'custom_lstm_8/output_gate/kernel:0', 'custom_lstm_8/output_gate/bias:0'] when minimizing the loss. If you're using `model.compile()`, did you forget to provide a `loss` argument?\n"
     ]
    },
    {
     "name": "stdout",
     "output_type": "stream",
     "text": [
      "WARNING:tensorflow:Gradients do not exist for variables ['custom_lstm_8/input_gate/kernel:0', 'custom_lstm_8/input_gate/bias:0', 'custom_lstm_8/output_gate/kernel:0', 'custom_lstm_8/output_gate/bias:0'] when minimizing the loss. If you're using `model.compile()`, did you forget to provide a `loss` argument?\n"
     ]
    },
    {
     "name": "stderr",
     "output_type": "stream",
     "text": [
      "WARNING:tensorflow:Gradients do not exist for variables ['custom_lstm_8/input_gate/kernel:0', 'custom_lstm_8/input_gate/bias:0', 'custom_lstm_8/output_gate/kernel:0', 'custom_lstm_8/output_gate/bias:0'] when minimizing the loss. If you're using `model.compile()`, did you forget to provide a `loss` argument?\n"
     ]
    },
    {
     "name": "stdout",
     "output_type": "stream",
     "text": [
      "WARNING:tensorflow:Gradients do not exist for variables ['custom_lstm_8/input_gate/kernel:0', 'custom_lstm_8/input_gate/bias:0', 'custom_lstm_8/output_gate/kernel:0', 'custom_lstm_8/output_gate/bias:0'] when minimizing the loss. If you're using `model.compile()`, did you forget to provide a `loss` argument?\n"
     ]
    },
    {
     "name": "stderr",
     "output_type": "stream",
     "text": [
      "WARNING:tensorflow:Gradients do not exist for variables ['custom_lstm_8/input_gate/kernel:0', 'custom_lstm_8/input_gate/bias:0', 'custom_lstm_8/output_gate/kernel:0', 'custom_lstm_8/output_gate/bias:0'] when minimizing the loss. If you're using `model.compile()`, did you forget to provide a `loss` argument?\n"
     ]
    },
    {
     "name": "stdout",
     "output_type": "stream",
     "text": [
      "WARNING:tensorflow:Gradients do not exist for variables ['custom_lstm_8/input_gate/kernel:0', 'custom_lstm_8/input_gate/bias:0', 'custom_lstm_8/output_gate/kernel:0', 'custom_lstm_8/output_gate/bias:0'] when minimizing the loss. If you're using `model.compile()`, did you forget to provide a `loss` argument?\n"
     ]
    },
    {
     "name": "stderr",
     "output_type": "stream",
     "text": [
      "WARNING:tensorflow:Gradients do not exist for variables ['custom_lstm_8/input_gate/kernel:0', 'custom_lstm_8/input_gate/bias:0', 'custom_lstm_8/output_gate/kernel:0', 'custom_lstm_8/output_gate/bias:0'] when minimizing the loss. If you're using `model.compile()`, did you forget to provide a `loss` argument?\n"
     ]
    },
    {
     "name": "stdout",
     "output_type": "stream",
     "text": [
      "WARNING:tensorflow:Gradients do not exist for variables ['custom_lstm_8/input_gate/kernel:0', 'custom_lstm_8/input_gate/bias:0', 'custom_lstm_8/output_gate/kernel:0', 'custom_lstm_8/output_gate/bias:0'] when minimizing the loss. If you're using `model.compile()`, did you forget to provide a `loss` argument?\n"
     ]
    },
    {
     "name": "stderr",
     "output_type": "stream",
     "text": [
      "WARNING:tensorflow:Gradients do not exist for variables ['custom_lstm_8/input_gate/kernel:0', 'custom_lstm_8/input_gate/bias:0', 'custom_lstm_8/output_gate/kernel:0', 'custom_lstm_8/output_gate/bias:0'] when minimizing the loss. If you're using `model.compile()`, did you forget to provide a `loss` argument?\n"
     ]
    },
    {
     "name": "stdout",
     "output_type": "stream",
     "text": [
      "WARNING:tensorflow:Gradients do not exist for variables ['custom_lstm_8/input_gate/kernel:0', 'custom_lstm_8/input_gate/bias:0', 'custom_lstm_8/output_gate/kernel:0', 'custom_lstm_8/output_gate/bias:0'] when minimizing the loss. If you're using `model.compile()`, did you forget to provide a `loss` argument?\n"
     ]
    },
    {
     "name": "stderr",
     "output_type": "stream",
     "text": [
      "WARNING:tensorflow:Gradients do not exist for variables ['custom_lstm_8/input_gate/kernel:0', 'custom_lstm_8/input_gate/bias:0', 'custom_lstm_8/output_gate/kernel:0', 'custom_lstm_8/output_gate/bias:0'] when minimizing the loss. If you're using `model.compile()`, did you forget to provide a `loss` argument?\n"
     ]
    },
    {
     "name": "stdout",
     "output_type": "stream",
     "text": [
      "WARNING:tensorflow:Gradients do not exist for variables ['custom_lstm_8/input_gate/kernel:0', 'custom_lstm_8/input_gate/bias:0', 'custom_lstm_8/output_gate/kernel:0', 'custom_lstm_8/output_gate/bias:0'] when minimizing the loss. If you're using `model.compile()`, did you forget to provide a `loss` argument?\n"
     ]
    },
    {
     "name": "stderr",
     "output_type": "stream",
     "text": [
      "WARNING:tensorflow:Gradients do not exist for variables ['custom_lstm_8/input_gate/kernel:0', 'custom_lstm_8/input_gate/bias:0', 'custom_lstm_8/output_gate/kernel:0', 'custom_lstm_8/output_gate/bias:0'] when minimizing the loss. If you're using `model.compile()`, did you forget to provide a `loss` argument?\n"
     ]
    },
    {
     "name": "stdout",
     "output_type": "stream",
     "text": [
      "WARNING:tensorflow:Gradients do not exist for variables ['custom_lstm_8/input_gate/kernel:0', 'custom_lstm_8/input_gate/bias:0', 'custom_lstm_8/output_gate/kernel:0', 'custom_lstm_8/output_gate/bias:0'] when minimizing the loss. If you're using `model.compile()`, did you forget to provide a `loss` argument?\n"
     ]
    },
    {
     "name": "stderr",
     "output_type": "stream",
     "text": [
      "WARNING:tensorflow:Gradients do not exist for variables ['custom_lstm_8/input_gate/kernel:0', 'custom_lstm_8/input_gate/bias:0', 'custom_lstm_8/output_gate/kernel:0', 'custom_lstm_8/output_gate/bias:0'] when minimizing the loss. If you're using `model.compile()`, did you forget to provide a `loss` argument?\n"
     ]
    },
    {
     "name": "stdout",
     "output_type": "stream",
     "text": [
      "WARNING:tensorflow:Gradients do not exist for variables ['custom_lstm_8/input_gate/kernel:0', 'custom_lstm_8/input_gate/bias:0', 'custom_lstm_8/output_gate/kernel:0', 'custom_lstm_8/output_gate/bias:0'] when minimizing the loss. If you're using `model.compile()`, did you forget to provide a `loss` argument?\n"
     ]
    },
    {
     "name": "stderr",
     "output_type": "stream",
     "text": [
      "WARNING:tensorflow:Gradients do not exist for variables ['custom_lstm_8/input_gate/kernel:0', 'custom_lstm_8/input_gate/bias:0', 'custom_lstm_8/output_gate/kernel:0', 'custom_lstm_8/output_gate/bias:0'] when minimizing the loss. If you're using `model.compile()`, did you forget to provide a `loss` argument?\n"
     ]
    },
    {
     "name": "stdout",
     "output_type": "stream",
     "text": [
      "WARNING:tensorflow:Gradients do not exist for variables ['custom_lstm_8/input_gate/kernel:0', 'custom_lstm_8/input_gate/bias:0', 'custom_lstm_8/output_gate/kernel:0', 'custom_lstm_8/output_gate/bias:0'] when minimizing the loss. If you're using `model.compile()`, did you forget to provide a `loss` argument?\n"
     ]
    },
    {
     "name": "stderr",
     "output_type": "stream",
     "text": [
      "WARNING:tensorflow:Gradients do not exist for variables ['custom_lstm_8/input_gate/kernel:0', 'custom_lstm_8/input_gate/bias:0', 'custom_lstm_8/output_gate/kernel:0', 'custom_lstm_8/output_gate/bias:0'] when minimizing the loss. If you're using `model.compile()`, did you forget to provide a `loss` argument?\n"
     ]
    },
    {
     "name": "stdout",
     "output_type": "stream",
     "text": [
      "WARNING:tensorflow:Gradients do not exist for variables ['custom_lstm_8/input_gate/kernel:0', 'custom_lstm_8/input_gate/bias:0', 'custom_lstm_8/output_gate/kernel:0', 'custom_lstm_8/output_gate/bias:0'] when minimizing the loss. If you're using `model.compile()`, did you forget to provide a `loss` argument?\n"
     ]
    },
    {
     "name": "stderr",
     "output_type": "stream",
     "text": [
      "WARNING:tensorflow:Gradients do not exist for variables ['custom_lstm_8/input_gate/kernel:0', 'custom_lstm_8/input_gate/bias:0', 'custom_lstm_8/output_gate/kernel:0', 'custom_lstm_8/output_gate/bias:0'] when minimizing the loss. If you're using `model.compile()`, did you forget to provide a `loss` argument?\n"
     ]
    },
    {
     "name": "stdout",
     "output_type": "stream",
     "text": [
      "WARNING:tensorflow:Gradients do not exist for variables ['custom_lstm_8/input_gate/kernel:0', 'custom_lstm_8/input_gate/bias:0', 'custom_lstm_8/output_gate/kernel:0', 'custom_lstm_8/output_gate/bias:0'] when minimizing the loss. If you're using `model.compile()`, did you forget to provide a `loss` argument?\n"
     ]
    },
    {
     "name": "stderr",
     "output_type": "stream",
     "text": [
      "WARNING:tensorflow:Gradients do not exist for variables ['custom_lstm_8/input_gate/kernel:0', 'custom_lstm_8/input_gate/bias:0', 'custom_lstm_8/output_gate/kernel:0', 'custom_lstm_8/output_gate/bias:0'] when minimizing the loss. If you're using `model.compile()`, did you forget to provide a `loss` argument?\n"
     ]
    },
    {
     "name": "stdout",
     "output_type": "stream",
     "text": [
      "WARNING:tensorflow:Gradients do not exist for variables ['custom_lstm_8/input_gate/kernel:0', 'custom_lstm_8/input_gate/bias:0', 'custom_lstm_8/output_gate/kernel:0', 'custom_lstm_8/output_gate/bias:0'] when minimizing the loss. If you're using `model.compile()`, did you forget to provide a `loss` argument?\n"
     ]
    },
    {
     "name": "stderr",
     "output_type": "stream",
     "text": [
      "WARNING:tensorflow:Gradients do not exist for variables ['custom_lstm_8/input_gate/kernel:0', 'custom_lstm_8/input_gate/bias:0', 'custom_lstm_8/output_gate/kernel:0', 'custom_lstm_8/output_gate/bias:0'] when minimizing the loss. If you're using `model.compile()`, did you forget to provide a `loss` argument?\n"
     ]
    },
    {
     "name": "stdout",
     "output_type": "stream",
     "text": [
      "WARNING:tensorflow:Gradients do not exist for variables ['custom_lstm_8/input_gate/kernel:0', 'custom_lstm_8/input_gate/bias:0', 'custom_lstm_8/output_gate/kernel:0', 'custom_lstm_8/output_gate/bias:0'] when minimizing the loss. If you're using `model.compile()`, did you forget to provide a `loss` argument?\n"
     ]
    },
    {
     "name": "stderr",
     "output_type": "stream",
     "text": [
      "WARNING:tensorflow:Gradients do not exist for variables ['custom_lstm_8/input_gate/kernel:0', 'custom_lstm_8/input_gate/bias:0', 'custom_lstm_8/output_gate/kernel:0', 'custom_lstm_8/output_gate/bias:0'] when minimizing the loss. If you're using `model.compile()`, did you forget to provide a `loss` argument?\n"
     ]
    },
    {
     "name": "stdout",
     "output_type": "stream",
     "text": [
      "WARNING:tensorflow:Gradients do not exist for variables ['custom_lstm_8/input_gate/kernel:0', 'custom_lstm_8/input_gate/bias:0', 'custom_lstm_8/output_gate/kernel:0', 'custom_lstm_8/output_gate/bias:0'] when minimizing the loss. If you're using `model.compile()`, did you forget to provide a `loss` argument?\n"
     ]
    },
    {
     "name": "stderr",
     "output_type": "stream",
     "text": [
      "WARNING:tensorflow:Gradients do not exist for variables ['custom_lstm_8/input_gate/kernel:0', 'custom_lstm_8/input_gate/bias:0', 'custom_lstm_8/output_gate/kernel:0', 'custom_lstm_8/output_gate/bias:0'] when minimizing the loss. If you're using `model.compile()`, did you forget to provide a `loss` argument?\n"
     ]
    },
    {
     "name": "stdout",
     "output_type": "stream",
     "text": [
      "WARNING:tensorflow:Gradients do not exist for variables ['custom_lstm_8/input_gate/kernel:0', 'custom_lstm_8/input_gate/bias:0', 'custom_lstm_8/output_gate/kernel:0', 'custom_lstm_8/output_gate/bias:0'] when minimizing the loss. If you're using `model.compile()`, did you forget to provide a `loss` argument?\n"
     ]
    },
    {
     "name": "stderr",
     "output_type": "stream",
     "text": [
      "WARNING:tensorflow:Gradients do not exist for variables ['custom_lstm_8/input_gate/kernel:0', 'custom_lstm_8/input_gate/bias:0', 'custom_lstm_8/output_gate/kernel:0', 'custom_lstm_8/output_gate/bias:0'] when minimizing the loss. If you're using `model.compile()`, did you forget to provide a `loss` argument?\n"
     ]
    },
    {
     "name": "stdout",
     "output_type": "stream",
     "text": [
      "WARNING:tensorflow:Gradients do not exist for variables ['custom_lstm_8/input_gate/kernel:0', 'custom_lstm_8/input_gate/bias:0', 'custom_lstm_8/output_gate/kernel:0', 'custom_lstm_8/output_gate/bias:0'] when minimizing the loss. If you're using `model.compile()`, did you forget to provide a `loss` argument?\n"
     ]
    },
    {
     "name": "stderr",
     "output_type": "stream",
     "text": [
      "WARNING:tensorflow:Gradients do not exist for variables ['custom_lstm_8/input_gate/kernel:0', 'custom_lstm_8/input_gate/bias:0', 'custom_lstm_8/output_gate/kernel:0', 'custom_lstm_8/output_gate/bias:0'] when minimizing the loss. If you're using `model.compile()`, did you forget to provide a `loss` argument?\n"
     ]
    },
    {
     "name": "stdout",
     "output_type": "stream",
     "text": [
      "WARNING:tensorflow:Gradients do not exist for variables ['custom_lstm_8/input_gate/kernel:0', 'custom_lstm_8/input_gate/bias:0', 'custom_lstm_8/output_gate/kernel:0', 'custom_lstm_8/output_gate/bias:0'] when minimizing the loss. If you're using `model.compile()`, did you forget to provide a `loss` argument?\n"
     ]
    },
    {
     "name": "stderr",
     "output_type": "stream",
     "text": [
      "WARNING:tensorflow:Gradients do not exist for variables ['custom_lstm_8/input_gate/kernel:0', 'custom_lstm_8/input_gate/bias:0', 'custom_lstm_8/output_gate/kernel:0', 'custom_lstm_8/output_gate/bias:0'] when minimizing the loss. If you're using `model.compile()`, did you forget to provide a `loss` argument?\n"
     ]
    },
    {
     "name": "stdout",
     "output_type": "stream",
     "text": [
      "WARNING:tensorflow:Gradients do not exist for variables ['custom_lstm_8/input_gate/kernel:0', 'custom_lstm_8/input_gate/bias:0', 'custom_lstm_8/output_gate/kernel:0', 'custom_lstm_8/output_gate/bias:0'] when minimizing the loss. If you're using `model.compile()`, did you forget to provide a `loss` argument?\n"
     ]
    },
    {
     "name": "stderr",
     "output_type": "stream",
     "text": [
      "WARNING:tensorflow:Gradients do not exist for variables ['custom_lstm_8/input_gate/kernel:0', 'custom_lstm_8/input_gate/bias:0', 'custom_lstm_8/output_gate/kernel:0', 'custom_lstm_8/output_gate/bias:0'] when minimizing the loss. If you're using `model.compile()`, did you forget to provide a `loss` argument?\n"
     ]
    },
    {
     "name": "stdout",
     "output_type": "stream",
     "text": [
      "WARNING:tensorflow:Gradients do not exist for variables ['custom_lstm_8/input_gate/kernel:0', 'custom_lstm_8/input_gate/bias:0', 'custom_lstm_8/output_gate/kernel:0', 'custom_lstm_8/output_gate/bias:0'] when minimizing the loss. If you're using `model.compile()`, did you forget to provide a `loss` argument?\n"
     ]
    },
    {
     "name": "stderr",
     "output_type": "stream",
     "text": [
      "WARNING:tensorflow:Gradients do not exist for variables ['custom_lstm_8/input_gate/kernel:0', 'custom_lstm_8/input_gate/bias:0', 'custom_lstm_8/output_gate/kernel:0', 'custom_lstm_8/output_gate/bias:0'] when minimizing the loss. If you're using `model.compile()`, did you forget to provide a `loss` argument?\n"
     ]
    },
    {
     "name": "stdout",
     "output_type": "stream",
     "text": [
      "WARNING:tensorflow:Gradients do not exist for variables ['custom_lstm_8/input_gate/kernel:0', 'custom_lstm_8/input_gate/bias:0', 'custom_lstm_8/output_gate/kernel:0', 'custom_lstm_8/output_gate/bias:0'] when minimizing the loss. If you're using `model.compile()`, did you forget to provide a `loss` argument?\n"
     ]
    },
    {
     "name": "stderr",
     "output_type": "stream",
     "text": [
      "WARNING:tensorflow:Gradients do not exist for variables ['custom_lstm_8/input_gate/kernel:0', 'custom_lstm_8/input_gate/bias:0', 'custom_lstm_8/output_gate/kernel:0', 'custom_lstm_8/output_gate/bias:0'] when minimizing the loss. If you're using `model.compile()`, did you forget to provide a `loss` argument?\n"
     ]
    }
   ],
   "source": [
    "from tensorflow.keras.optimizers import RMSprop\n",
    "\n",
    "def train_on_sequence(seq, model, optimizer, unroll=5):\n",
    "    \"\"\"Train the model within a batch of long text sequences.\"\"\"\n",
    "    batch_size, num_tokens = seq.shape\n",
    "\n",
    "    total_loss, state, cell = 0., None, None\n",
    "    for i in range(0, num_tokens-unroll-1, unroll):\n",
    "        if state is not None:\n",
    "            state = tf.stop_gradient(state)\n",
    "            cell = tf.stop_gradient(cell)\n",
    "\n",
    "        # Define the input sequence along which we will unroll the RNN\n",
    "        x = tf.transpose(seq[:, i:i+unroll])\n",
    "        y = tf.transpose(seq[:, i+1:i+unroll+1])\n",
    "        # Forward the model and compute the loss\n",
    "        x = tf.one_hot(x, len(vocab))\n",
    "        with tf.GradientTape() as tape:\n",
    "            y_hat, (state, cell) = model(x, state, cell)\n",
    "            loss = tf.reduce_mean(tf.keras.losses.sparse_categorical_crossentropy(y, tf.reshape(y_hat, (-1, len(vocab))),from_logits=True))\n",
    "        total_loss += loss.numpy()\n",
    "\n",
    "        # Backward step\n",
    "        gradients = tape.gradient(loss, model.trainable_variables)\n",
    "        optimizer.apply_gradients(zip(gradients, model.trainable_variables))\n",
    "\n",
    "    n_batches = (num_tokens-unroll-1) // unroll\n",
    "    return total_loss/n_batches\n",
    "\n",
    "def fit(model, loader, vocab, lr, num_epochs=100, unroll=5):\n",
    "    optimizer = RMSprop(learning_rate=lr)\n",
    "    loader_size = len(list(loader))\n",
    "    test_prompt = 'i do not mean to ask you to accept anything'\n",
    "    for epoch in range(num_epochs):\n",
    "        total_loss = 0\n",
    "        for i,sequence in enumerate(loader):\n",
    "            total_loss += train_on_sequence(sequence, model, optimizer, unroll=unroll)\n",
    "        total_loss /= loader_size\n",
    "\n",
    "        print(f'Epoch {epoch} | Perplexity {np.exp(total_loss):.1f}. Loss: {total_loss:.3f}')\n",
    "        print(generate(test_prompt, 50, model, vocab))\n",
    "\n",
    "num_epochs, lr = 100, 0.005\n",
    "dataset = TextCorpusDataset(corpus, vocab, 100)\n",
    "loader = tf.data.Dataset.from_generator(lambda: iter(dataset), output_signature=tf.TensorSpec(shape=(100,), dtype=tf.int32)).batch(32)\n",
    "\n",
    "model = CustomLSTM(len(dataset.vocab), hidden_dim, output_size=len(dataset.vocab))\n",
    "fit(model, loader, dataset.vocab, lr, num_epochs)\n",
    "\n"
   ]
  },
  {
   "cell_type": "code",
   "execution_count": null,
   "metadata": {
    "id": "wb9abK_Vegsk"
   },
   "outputs": [],
   "source": [
    "corpus = [line.strip() for line in open('/content/drive/My Drive/Colab Notebooks/539_ANN/data/TheTimeMachine.txt') if line.strip()][2:]\n",
    "print(\"\\n\".join(corpus[:10]))\n",
    "\n",
    "corpus = [re.sub('[^A-Za-z0-9]+', ' ', line).lower() for line in corpus]\n",
    "corpus = [re.sub(' +', ' ', line) for line in corpus]\n",
    "\n",
    "train_corpus = corpus[:2500]\n",
    "test_corpus = corpus[2500:]\n",
    "train_corpus = [word for line in train_corpus for word in line.split()]\n",
    "train_corpus = [word for line in test_corpus for word in line.split()]\n",
    "\n",
    "vocab_size = 5000\n",
    "tkn_counter = Counter([word for word in train_corpus])\n",
    "vocab = {word: idx for idx, (word, _) in enumerate(tkn_counter.most_common(vocab_size))}\n",
    "vocab[\"/UNK\"] = len(vocab)\n",
    "\n",
    "\n",
    "num_epochs, lr = 100, 0.005\n",
    "train_dataset = TextCorpusDataset(train_corpus, vocab, 100)\n",
    "test_dataset = TextCorpusDataset(test_corpus, vocab, 100)\n",
    "loader = tf.data.Dataset.from_generator(lambda: iter(train_dataset), output_signature=tf.TensorSpec(shape=(100,), dtype=tf.int32)).batch(32)\n",
    "\n",
    "model = CustomLSTM(len(train_dataset.vocab), hidden_dim, output_size=len(train_dataset.vocab))\n",
    "fit(model, loader, train_dataset.vocab, lr, num_epochs)"
   ]
  },
  {
   "cell_type": "code",
   "execution_count": null,
   "metadata": {
    "id": "ME8guGQ-lHlq"
   },
   "outputs": [],
   "source": [
    "def eval(loader, model, unroll=5):\n",
    "    \"\"\"evaluate testset on model\"\"\"\n",
    "    loader_size = len(list(loader))\n",
    "    total_loss_set = 0\n",
    "    for i,sequence in enumerate(loader):\n",
    "        batch_size, num_tokens = sequence.shape\n",
    "        total_loss, state, cell = 0., None, None\n",
    "        for i in range(0, num_tokens-unroll-1, unroll):\n",
    "            # Define the input sequence along which we will unroll the RNN\n",
    "            ??\n",
    "            # Forward the model and compute the loss\n",
    "            ??\n",
    "            total_loss += loss.numpy()\n",
    "        n_batches = (num_tokens-unroll-1) // unroll\n",
    "        total_loss /= n_batches\n",
    "        total_loss_set += total_loss\n",
    "    total_loss_set /= loader_size\n",
    "    return total_loss_set"
   ]
  },
  {
   "cell_type": "code",
   "execution_count": null,
   "metadata": {
    "id": "630WJlDWmqwB"
   },
   "outputs": [],
   "source": [
    "loader = tf.data.Dataset.from_generator(lambda: iter(test_dataset), output_signature=tf.TensorSpec(shape=(100,), dtype=tf.int32)).batch(32)\n",
    "print(f'test loss:{eval(loader, model)}')\n",
    "test_prompt = 'i do not mean to ask you to accept anything'\n",
    "print(generate(test_prompt, 50, model, vocab))"
   ]
  },
  {
   "cell_type": "code",
   "execution_count": null,
   "metadata": {
    "id": "UWpiA1jDrXGB"
   },
   "outputs": [],
   "source": []
  }
 ],
 "metadata": {
  "accelerator": "GPU",
  "colab": {
   "gpuType": "T4",
   "provenance": []
  },
  "kernelspec": {
   "display_name": "Python 3 (ipykernel)",
   "language": "python",
   "name": "python3"
  },
  "language_info": {
   "codemirror_mode": {
    "name": "ipython",
    "version": 3
   },
   "file_extension": ".py",
   "mimetype": "text/x-python",
   "name": "python",
   "nbconvert_exporter": "python",
   "pygments_lexer": "ipython3",
   "version": "3.9.6"
  }
 },
 "nbformat": 4,
 "nbformat_minor": 4
}
