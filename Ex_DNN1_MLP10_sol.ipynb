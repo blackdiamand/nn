{
 "cells": [
  {
   "cell_type": "code",
   "execution_count": 11,
   "id": "717a35ac",
   "metadata": {
    "executionInfo": {
     "elapsed": 5415,
     "status": "ok",
     "timestamp": 1666549966843,
     "user": {
      "displayName": "YU HEN HU",
      "userId": "04083449072545068296"
     },
     "user_tz": 300
    },
    "id": "717a35ac"
   },
   "outputs": [],
   "source": [
    "# part of the code also refers to:\n",
    "# https://machinelearningmastery.com/tutorial-first-neural-network-python-keras/\n",
    "# !pip install d2l==0.17.0\n",
    "import tensorflow as tf\n",
    "import numpy as np\n",
    "#from google.colab import drive\n",
    "from tensorflow import keras\n",
    "from sklearn.model_selection import train_test_split"
   ]
  },
  {
   "cell_type": "code",
   "execution_count": 12,
   "id": "71cfbd08",
   "metadata": {
    "colab": {
     "base_uri": "https://localhost:8080/"
    },
    "executionInfo": {
     "elapsed": 18324,
     "status": "ok",
     "timestamp": 1666549985160,
     "user": {
      "displayName": "YU HEN HU",
      "userId": "04083449072545068296"
     },
     "user_tz": 300
    },
    "id": "71cfbd08",
    "outputId": "440a9243-b203-43dd-bb7b-700e6c0a36c0"
   },
   "outputs": [],
   "source": [
    "# import data\n",
    "#drive.mount('/content/drive')\n",
    "with open('iris.csv', 'r') as f: \n",
    "  data = np.genfromtxt(f, dtype='f4', delimiter=',')\n",
    "X = data[:,:4]\n",
    "# y = [data[:,4] == 1, data[:,4] == 2, data[:,4] == 3]\n",
    "y = data[:,4]"
   ]
  },
  {
   "cell_type": "code",
   "execution_count": 13,
   "id": "7501ce39",
   "metadata": {
    "executionInfo": {
     "elapsed": 6,
     "status": "ok",
     "timestamp": 1666549985161,
     "user": {
      "displayName": "YU HEN HU",
      "userId": "04083449072545068296"
     },
     "user_tz": 300
    },
    "id": "7501ce39"
   },
   "outputs": [],
   "source": [
    "# partition into training and validation set at 80/20 division\n",
    "X_train, X_test, y_train, y_test = train_test_split(X, y, test_size=0.20)\n",
    "# Converting y_r and y_t into one-hot encoding using a keras utility\n",
    "#  to_categorical\n",
    "# The class vector to be converted into a matrix is assumed to contain\n",
    "#  integers from 0 to num_classes. The label in iris.csv is 1, 2, 3\n",
    "#  Hence we subtract it by 1 before conversion\n",
    "y_train = keras.utils.to_categorical(y_train-1)\n",
    "y_test = keras.utils.to_categorical(y_test-1)"
   ]
  },
  {
   "cell_type": "code",
   "execution_count": 14,
   "id": "57fa02c9",
   "metadata": {
    "executionInfo": {
     "elapsed": 180,
     "status": "ok",
     "timestamp": 1666549985337,
     "user": {
      "displayName": "YU HEN HU",
      "userId": "04083449072545068296"
     },
     "user_tz": 300
    },
    "id": "57fa02c9"
   },
   "outputs": [],
   "source": [
    "# define the keras model\n",
    "# 4-3-3-3-3-3-3-3-3-3 configuration, relu and softmax activation for the \n",
    "# hidden layer and output layer respectively\n",
    "net = tf.keras.models.Sequential([\n",
    "    tf.keras.layers.Dense(3, input_dim=4, activation = 'relu'),\n",
    "    tf.keras.layers.Dense(3, activation = 'relu'),\n",
    "    tf.keras.layers.Dense(3, activation = 'relu'),\n",
    "    tf.keras.layers.Dense(3, activation = 'relu'),\n",
    "    tf.keras.layers.Dense(3, activation = 'relu'),\n",
    "    tf.keras.layers.Dense(3, activation = 'relu'),\n",
    "    tf.keras.layers.Dense(3, activation = 'relu'),\n",
    "    tf.keras.layers.Dense(3, activation = 'relu'),\n",
    "    tf.keras.layers.Dense(3, activation='softmax')])"
   ]
  },
  {
   "cell_type": "code",
   "execution_count": 15,
   "id": "2f08f1cb",
   "metadata": {
    "executionInfo": {
     "elapsed": 181,
     "status": "ok",
     "timestamp": 1666549985515,
     "user": {
      "displayName": "YU HEN HU",
      "userId": "04083449072545068296"
     },
     "user_tz": 300
    },
    "id": "2f08f1cb"
   },
   "outputs": [],
   "source": [
    "# compile the keras model\n",
    "net.compile(loss='binary_crossentropy', optimizer='adam', \n",
    "              metrics=['accuracy'])"
   ]
  },
  {
   "cell_type": "code",
   "execution_count": 16,
   "id": "cb0ad23a",
   "metadata": {
    "colab": {
     "base_uri": "https://localhost:8080/"
    },
    "executionInfo": {
     "elapsed": 6372,
     "status": "ok",
     "timestamp": 1666549991885,
     "user": {
      "displayName": "YU HEN HU",
      "userId": "04083449072545068296"
     },
     "user_tz": 300
    },
    "id": "cb0ad23a",
    "outputId": "e0ebb79d-bf4d-4495-a0cc-6ec47885e516"
   },
   "outputs": [
    {
     "name": "stdout",
     "output_type": "stream",
     "text": [
      "Epoch 1/150\n",
      "12/12 [==============================] - 0s 773us/step - loss: 0.6925 - accuracy: 0.3250\n",
      "Epoch 2/150\n",
      "12/12 [==============================] - 0s 766us/step - loss: 0.6909 - accuracy: 0.3667\n",
      "Epoch 3/150\n",
      "12/12 [==============================] - 0s 761us/step - loss: 0.6894 - accuracy: 0.3667\n",
      "Epoch 4/150\n",
      "12/12 [==============================] - 0s 807us/step - loss: 0.6879 - accuracy: 0.3667\n",
      "Epoch 5/150\n",
      "12/12 [==============================] - 0s 904us/step - loss: 0.6865 - accuracy: 0.3667\n",
      "Epoch 6/150\n",
      "12/12 [==============================] - 0s 816us/step - loss: 0.6851 - accuracy: 0.3667\n",
      "Epoch 7/150\n",
      "12/12 [==============================] - 0s 846us/step - loss: 0.6838 - accuracy: 0.3667\n",
      "Epoch 8/150\n",
      "12/12 [==============================] - 0s 719us/step - loss: 0.6825 - accuracy: 0.3667\n",
      "Epoch 9/150\n",
      "12/12 [==============================] - 0s 791us/step - loss: 0.6812 - accuracy: 0.3667\n",
      "Epoch 10/150\n",
      "12/12 [==============================] - 0s 792us/step - loss: 0.6800 - accuracy: 0.3667\n",
      "Epoch 11/150\n",
      "12/12 [==============================] - 0s 691us/step - loss: 0.6788 - accuracy: 0.3667\n",
      "Epoch 12/150\n",
      "12/12 [==============================] - 0s 680us/step - loss: 0.6777 - accuracy: 0.3667\n",
      "Epoch 13/150\n",
      "12/12 [==============================] - 0s 705us/step - loss: 0.6765 - accuracy: 0.3667\n",
      "Epoch 14/150\n",
      "12/12 [==============================] - 0s 729us/step - loss: 0.6754 - accuracy: 0.3667\n",
      "Epoch 15/150\n",
      "12/12 [==============================] - 0s 804us/step - loss: 0.6743 - accuracy: 0.3667\n",
      "Epoch 16/150\n",
      "12/12 [==============================] - 0s 691us/step - loss: 0.6732 - accuracy: 0.3667\n",
      "Epoch 17/150\n",
      "12/12 [==============================] - 0s 739us/step - loss: 0.6722 - accuracy: 0.3667\n",
      "Epoch 18/150\n",
      "12/12 [==============================] - 0s 753us/step - loss: 0.6712 - accuracy: 0.3667\n",
      "Epoch 19/150\n",
      "12/12 [==============================] - 0s 779us/step - loss: 0.6702 - accuracy: 0.3667\n",
      "Epoch 20/150\n",
      "12/12 [==============================] - 0s 760us/step - loss: 0.6692 - accuracy: 0.3667\n",
      "Epoch 21/150\n",
      "12/12 [==============================] - 0s 690us/step - loss: 0.6683 - accuracy: 0.3667\n",
      "Epoch 22/150\n",
      "12/12 [==============================] - 0s 754us/step - loss: 0.6674 - accuracy: 0.3667\n",
      "Epoch 23/150\n",
      "12/12 [==============================] - 0s 700us/step - loss: 0.6665 - accuracy: 0.3667\n",
      "Epoch 24/150\n",
      "12/12 [==============================] - 0s 765us/step - loss: 0.6656 - accuracy: 0.3667\n",
      "Epoch 25/150\n",
      "12/12 [==============================] - 0s 773us/step - loss: 0.6647 - accuracy: 0.3667\n",
      "Epoch 26/150\n",
      "12/12 [==============================] - 0s 780us/step - loss: 0.6639 - accuracy: 0.3667\n",
      "Epoch 27/150\n",
      "12/12 [==============================] - 0s 611us/step - loss: 0.6631 - accuracy: 0.3667\n",
      "Epoch 28/150\n",
      "12/12 [==============================] - 0s 682us/step - loss: 0.6622 - accuracy: 0.3667\n",
      "Epoch 29/150\n",
      "12/12 [==============================] - 0s 779us/step - loss: 0.6615 - accuracy: 0.3667\n",
      "Epoch 30/150\n",
      "12/12 [==============================] - 0s 719us/step - loss: 0.6607 - accuracy: 0.3667\n",
      "Epoch 31/150\n",
      "12/12 [==============================] - 0s 673us/step - loss: 0.6600 - accuracy: 0.3667\n",
      "Epoch 32/150\n",
      "12/12 [==============================] - 0s 689us/step - loss: 0.6593 - accuracy: 0.3667\n",
      "Epoch 33/150\n",
      "12/12 [==============================] - 0s 765us/step - loss: 0.6586 - accuracy: 0.3667\n",
      "Epoch 34/150\n",
      "12/12 [==============================] - 0s 693us/step - loss: 0.6579 - accuracy: 0.3667\n",
      "Epoch 35/150\n",
      "12/12 [==============================] - 0s 735us/step - loss: 0.6572 - accuracy: 0.3667\n",
      "Epoch 36/150\n",
      "12/12 [==============================] - 0s 655us/step - loss: 0.6566 - accuracy: 0.3667\n",
      "Epoch 37/150\n",
      "12/12 [==============================] - 0s 712us/step - loss: 0.6560 - accuracy: 0.3667\n",
      "Epoch 38/150\n",
      "12/12 [==============================] - 0s 668us/step - loss: 0.6554 - accuracy: 0.3667\n",
      "Epoch 39/150\n",
      "12/12 [==============================] - 0s 752us/step - loss: 0.6548 - accuracy: 0.3667\n",
      "Epoch 40/150\n",
      "12/12 [==============================] - 0s 765us/step - loss: 0.6542 - accuracy: 0.3667\n",
      "Epoch 41/150\n",
      "12/12 [==============================] - 0s 690us/step - loss: 0.6537 - accuracy: 0.3667\n",
      "Epoch 42/150\n",
      "12/12 [==============================] - 0s 700us/step - loss: 0.6531 - accuracy: 0.3667\n",
      "Epoch 43/150\n",
      "12/12 [==============================] - 0s 775us/step - loss: 0.6526 - accuracy: 0.3667\n",
      "Epoch 44/150\n",
      "12/12 [==============================] - 0s 751us/step - loss: 0.6521 - accuracy: 0.3667\n",
      "Epoch 45/150\n",
      "12/12 [==============================] - 0s 759us/step - loss: 0.6516 - accuracy: 0.3667\n",
      "Epoch 46/150\n",
      "12/12 [==============================] - 0s 820us/step - loss: 0.6511 - accuracy: 0.3667\n",
      "Epoch 47/150\n",
      "12/12 [==============================] - 0s 727us/step - loss: 0.6506 - accuracy: 0.3667\n",
      "Epoch 48/150\n",
      "12/12 [==============================] - 0s 731us/step - loss: 0.6501 - accuracy: 0.3667\n",
      "Epoch 49/150\n",
      "12/12 [==============================] - 0s 709us/step - loss: 0.6497 - accuracy: 0.3667\n",
      "Epoch 50/150\n",
      "12/12 [==============================] - 0s 633us/step - loss: 0.6493 - accuracy: 0.3667\n",
      "Epoch 51/150\n",
      "12/12 [==============================] - 0s 643us/step - loss: 0.6488 - accuracy: 0.3667\n",
      "Epoch 52/150\n",
      "12/12 [==============================] - 0s 704us/step - loss: 0.6484 - accuracy: 0.3667\n",
      "Epoch 53/150\n",
      "12/12 [==============================] - 0s 753us/step - loss: 0.6480 - accuracy: 0.3667\n",
      "Epoch 54/150\n",
      "12/12 [==============================] - 0s 714us/step - loss: 0.6476 - accuracy: 0.3667\n",
      "Epoch 55/150\n",
      "12/12 [==============================] - 0s 688us/step - loss: 0.6472 - accuracy: 0.3667\n",
      "Epoch 56/150\n",
      "12/12 [==============================] - 0s 788us/step - loss: 0.6469 - accuracy: 0.3667\n",
      "Epoch 57/150\n",
      "12/12 [==============================] - 0s 705us/step - loss: 0.6465 - accuracy: 0.3667\n",
      "Epoch 58/150\n",
      "12/12 [==============================] - 0s 591us/step - loss: 0.6462 - accuracy: 0.3667\n",
      "Epoch 59/150\n",
      "12/12 [==============================] - 0s 663us/step - loss: 0.6458 - accuracy: 0.3667\n",
      "Epoch 60/150\n",
      "12/12 [==============================] - 0s 624us/step - loss: 0.6455 - accuracy: 0.3667\n",
      "Epoch 61/150\n",
      "12/12 [==============================] - 0s 699us/step - loss: 0.6452 - accuracy: 0.3667\n",
      "Epoch 62/150\n",
      "12/12 [==============================] - 0s 586us/step - loss: 0.6449 - accuracy: 0.3667\n",
      "Epoch 63/150\n",
      "12/12 [==============================] - 0s 642us/step - loss: 0.6445 - accuracy: 0.3667\n",
      "Epoch 64/150\n",
      "12/12 [==============================] - 0s 612us/step - loss: 0.6443 - accuracy: 0.3667\n",
      "Epoch 65/150\n",
      "12/12 [==============================] - 0s 577us/step - loss: 0.6440 - accuracy: 0.3667\n",
      "Epoch 66/150\n",
      "12/12 [==============================] - 0s 638us/step - loss: 0.6437 - accuracy: 0.3667\n",
      "Epoch 67/150\n",
      "12/12 [==============================] - 0s 792us/step - loss: 0.6434 - accuracy: 0.3667\n",
      "Epoch 68/150\n",
      "12/12 [==============================] - 0s 660us/step - loss: 0.6432 - accuracy: 0.3667\n",
      "Epoch 69/150\n",
      "12/12 [==============================] - 0s 678us/step - loss: 0.6429 - accuracy: 0.3667\n",
      "Epoch 70/150\n",
      "12/12 [==============================] - 0s 744us/step - loss: 0.6427 - accuracy: 0.3667\n",
      "Epoch 71/150\n",
      "12/12 [==============================] - 0s 846us/step - loss: 0.6425 - accuracy: 0.3667\n",
      "Epoch 72/150\n",
      "12/12 [==============================] - 0s 762us/step - loss: 0.6422 - accuracy: 0.3667\n",
      "Epoch 73/150\n",
      "12/12 [==============================] - 0s 753us/step - loss: 0.6420 - accuracy: 0.3667\n",
      "Epoch 74/150\n",
      "12/12 [==============================] - 0s 803us/step - loss: 0.6418 - accuracy: 0.3667\n",
      "Epoch 75/150\n",
      "12/12 [==============================] - 0s 619us/step - loss: 0.6416 - accuracy: 0.3667\n",
      "Epoch 76/150\n",
      "12/12 [==============================] - 0s 671us/step - loss: 0.6414 - accuracy: 0.3667\n",
      "Epoch 77/150\n",
      "12/12 [==============================] - 0s 704us/step - loss: 0.6412 - accuracy: 0.3667\n",
      "Epoch 78/150\n",
      "12/12 [==============================] - 0s 627us/step - loss: 0.6410 - accuracy: 0.3667\n",
      "Epoch 79/150\n",
      "12/12 [==============================] - 0s 706us/step - loss: 0.6408 - accuracy: 0.3667\n",
      "Epoch 80/150\n",
      "12/12 [==============================] - 0s 739us/step - loss: 0.6406 - accuracy: 0.3667\n",
      "Epoch 81/150\n",
      "12/12 [==============================] - 0s 724us/step - loss: 0.6404 - accuracy: 0.3667\n",
      "Epoch 82/150\n",
      "12/12 [==============================] - 0s 730us/step - loss: 0.6403 - accuracy: 0.3667\n",
      "Epoch 83/150\n",
      "12/12 [==============================] - 0s 644us/step - loss: 0.6401 - accuracy: 0.3667\n",
      "Epoch 84/150\n",
      "12/12 [==============================] - 0s 619us/step - loss: 0.6399 - accuracy: 0.3667\n",
      "Epoch 85/150\n",
      "12/12 [==============================] - 0s 654us/step - loss: 0.6398 - accuracy: 0.3667\n",
      "Epoch 86/150\n",
      "12/12 [==============================] - 0s 676us/step - loss: 0.6396 - accuracy: 0.3667\n",
      "Epoch 87/150\n",
      "12/12 [==============================] - 0s 648us/step - loss: 0.6395 - accuracy: 0.3667\n",
      "Epoch 88/150\n",
      "12/12 [==============================] - 0s 624us/step - loss: 0.6394 - accuracy: 0.3667\n",
      "Epoch 89/150\n",
      "12/12 [==============================] - 0s 632us/step - loss: 0.6393 - accuracy: 0.3667\n",
      "Epoch 90/150\n",
      "12/12 [==============================] - 0s 674us/step - loss: 0.6391 - accuracy: 0.3667\n",
      "Epoch 91/150\n",
      "12/12 [==============================] - 0s 657us/step - loss: 0.6390 - accuracy: 0.3667\n",
      "Epoch 92/150\n",
      "12/12 [==============================] - 0s 612us/step - loss: 0.6388 - accuracy: 0.3667\n",
      "Epoch 93/150\n",
      "12/12 [==============================] - 0s 613us/step - loss: 0.6387 - accuracy: 0.3667\n",
      "Epoch 94/150\n",
      "12/12 [==============================] - 0s 683us/step - loss: 0.6386 - accuracy: 0.3667\n",
      "Epoch 95/150\n",
      "12/12 [==============================] - 0s 592us/step - loss: 0.6385 - accuracy: 0.3667\n",
      "Epoch 96/150\n",
      "12/12 [==============================] - 0s 601us/step - loss: 0.6384 - accuracy: 0.3667\n",
      "Epoch 97/150\n",
      "12/12 [==============================] - 0s 706us/step - loss: 0.6383 - accuracy: 0.3667\n",
      "Epoch 98/150\n",
      "12/12 [==============================] - 0s 617us/step - loss: 0.6382 - accuracy: 0.3667\n",
      "Epoch 99/150\n",
      "12/12 [==============================] - 0s 703us/step - loss: 0.6381 - accuracy: 0.3667\n",
      "Epoch 100/150\n",
      "12/12 [==============================] - 0s 633us/step - loss: 0.6380 - accuracy: 0.3667\n",
      "Epoch 101/150\n",
      "12/12 [==============================] - 0s 626us/step - loss: 0.6379 - accuracy: 0.3667\n",
      "Epoch 102/150\n",
      "12/12 [==============================] - 0s 663us/step - loss: 0.6378 - accuracy: 0.3667\n",
      "Epoch 103/150\n",
      "12/12 [==============================] - 0s 625us/step - loss: 0.6377 - accuracy: 0.3667\n",
      "Epoch 104/150\n",
      "12/12 [==============================] - 0s 568us/step - loss: 0.6376 - accuracy: 0.3667\n",
      "Epoch 105/150\n",
      "12/12 [==============================] - 0s 700us/step - loss: 0.6376 - accuracy: 0.3667\n",
      "Epoch 106/150\n",
      "12/12 [==============================] - 0s 690us/step - loss: 0.6375 - accuracy: 0.3667\n",
      "Epoch 107/150\n",
      "12/12 [==============================] - 0s 714us/step - loss: 0.6374 - accuracy: 0.3667\n",
      "Epoch 108/150\n",
      "12/12 [==============================] - 0s 652us/step - loss: 0.6373 - accuracy: 0.3667\n",
      "Epoch 109/150\n",
      "12/12 [==============================] - 0s 736us/step - loss: 0.6373 - accuracy: 0.3667\n",
      "Epoch 110/150\n",
      "12/12 [==============================] - 0s 723us/step - loss: 0.6372 - accuracy: 0.3667\n",
      "Epoch 111/150\n",
      "12/12 [==============================] - 0s 737us/step - loss: 0.6371 - accuracy: 0.3667\n",
      "Epoch 112/150\n",
      "12/12 [==============================] - 0s 705us/step - loss: 0.6371 - accuracy: 0.3667\n",
      "Epoch 113/150\n",
      "12/12 [==============================] - 0s 691us/step - loss: 0.6370 - accuracy: 0.3667\n",
      "Epoch 114/150\n",
      "12/12 [==============================] - 0s 668us/step - loss: 0.6369 - accuracy: 0.3667\n",
      "Epoch 115/150\n",
      "12/12 [==============================] - 0s 651us/step - loss: 0.6369 - accuracy: 0.3667\n",
      "Epoch 116/150\n",
      "12/12 [==============================] - 0s 602us/step - loss: 0.6368 - accuracy: 0.3667\n",
      "Epoch 117/150\n",
      "12/12 [==============================] - 0s 576us/step - loss: 0.6368 - accuracy: 0.3667\n",
      "Epoch 118/150\n",
      "12/12 [==============================] - 0s 627us/step - loss: 0.6367 - accuracy: 0.3667\n",
      "Epoch 119/150\n",
      "12/12 [==============================] - 0s 673us/step - loss: 0.6367 - accuracy: 0.3667\n",
      "Epoch 120/150\n",
      "12/12 [==============================] - 0s 695us/step - loss: 0.6366 - accuracy: 0.3667\n",
      "Epoch 121/150\n",
      "12/12 [==============================] - 0s 675us/step - loss: 0.6366 - accuracy: 0.3667\n",
      "Epoch 122/150\n",
      "12/12 [==============================] - 0s 644us/step - loss: 0.6365 - accuracy: 0.3667\n",
      "Epoch 123/150\n",
      "12/12 [==============================] - 0s 669us/step - loss: 0.6365 - accuracy: 0.3667\n",
      "Epoch 124/150\n",
      "12/12 [==============================] - 0s 696us/step - loss: 0.6364 - accuracy: 0.3667\n",
      "Epoch 125/150\n",
      "12/12 [==============================] - 0s 626us/step - loss: 0.6364 - accuracy: 0.3667\n",
      "Epoch 126/150\n",
      "12/12 [==============================] - 0s 643us/step - loss: 0.6364 - accuracy: 0.3667\n",
      "Epoch 127/150\n",
      "12/12 [==============================] - 0s 774us/step - loss: 0.6363 - accuracy: 0.3667\n",
      "Epoch 128/150\n",
      "12/12 [==============================] - 0s 726us/step - loss: 0.6363 - accuracy: 0.3667\n",
      "Epoch 129/150\n",
      "12/12 [==============================] - 0s 583us/step - loss: 0.6362 - accuracy: 0.3667\n",
      "Epoch 130/150\n",
      "12/12 [==============================] - 0s 577us/step - loss: 0.6362 - accuracy: 0.3667\n",
      "Epoch 131/150\n",
      "12/12 [==============================] - 0s 610us/step - loss: 0.6362 - accuracy: 0.3667\n",
      "Epoch 132/150\n",
      "12/12 [==============================] - 0s 699us/step - loss: 0.6361 - accuracy: 0.3667\n",
      "Epoch 133/150\n",
      "12/12 [==============================] - 0s 672us/step - loss: 0.6361 - accuracy: 0.3667\n",
      "Epoch 134/150\n",
      "12/12 [==============================] - 0s 696us/step - loss: 0.6361 - accuracy: 0.3667\n",
      "Epoch 135/150\n",
      "12/12 [==============================] - 0s 588us/step - loss: 0.6360 - accuracy: 0.3667\n",
      "Epoch 136/150\n",
      "12/12 [==============================] - 0s 706us/step - loss: 0.6360 - accuracy: 0.3667\n",
      "Epoch 137/150\n",
      "12/12 [==============================] - 0s 623us/step - loss: 0.6360 - accuracy: 0.3667\n",
      "Epoch 138/150\n",
      "12/12 [==============================] - 0s 632us/step - loss: 0.6360 - accuracy: 0.3667\n",
      "Epoch 139/150\n",
      "12/12 [==============================] - 0s 572us/step - loss: 0.6359 - accuracy: 0.3667\n",
      "Epoch 140/150\n",
      "12/12 [==============================] - 0s 743us/step - loss: 0.6359 - accuracy: 0.3667\n",
      "Epoch 141/150\n",
      "12/12 [==============================] - 0s 683us/step - loss: 0.6359 - accuracy: 0.3667\n",
      "Epoch 142/150\n",
      "12/12 [==============================] - 0s 640us/step - loss: 0.6359 - accuracy: 0.3667\n",
      "Epoch 143/150\n",
      "12/12 [==============================] - 0s 702us/step - loss: 0.6358 - accuracy: 0.3667\n",
      "Epoch 144/150\n",
      "12/12 [==============================] - 0s 669us/step - loss: 0.6358 - accuracy: 0.3667\n",
      "Epoch 145/150\n",
      "12/12 [==============================] - 0s 612us/step - loss: 0.6358 - accuracy: 0.3667\n",
      "Epoch 146/150\n",
      "12/12 [==============================] - 0s 637us/step - loss: 0.6358 - accuracy: 0.3667\n",
      "Epoch 147/150\n",
      "12/12 [==============================] - 0s 665us/step - loss: 0.6358 - accuracy: 0.3667\n",
      "Epoch 148/150\n",
      "12/12 [==============================] - 0s 674us/step - loss: 0.6357 - accuracy: 0.3667\n",
      "Epoch 149/150\n",
      "12/12 [==============================] - 0s 612us/step - loss: 0.6357 - accuracy: 0.3667\n",
      "Epoch 150/150\n",
      "12/12 [==============================] - 0s 547us/step - loss: 0.6357 - accuracy: 0.3667\n"
     ]
    },
    {
     "data": {
      "text/plain": [
       "<keras.src.callbacks.History at 0x2a07b5130>"
      ]
     },
     "execution_count": 16,
     "metadata": {},
     "output_type": "execute_result"
    }
   ],
   "source": [
    "# fit the keras model on the dataset\n",
    "net.fit(X_train, y_train, epochs=150, batch_size=10)"
   ]
  },
  {
   "cell_type": "code",
   "execution_count": 17,
   "id": "3261fe2f",
   "metadata": {
    "colab": {
     "base_uri": "https://localhost:8080/"
    },
    "executionInfo": {
     "elapsed": 148,
     "status": "ok",
     "timestamp": 1666549992030,
     "user": {
      "displayName": "YU HEN HU",
      "userId": "04083449072545068296"
     },
     "user_tz": 300
    },
    "id": "3261fe2f",
    "outputId": "4ac02800-a7f4-47e7-a246-d097ce96322b"
   },
   "outputs": [
    {
     "name": "stdout",
     "output_type": "stream",
     "text": [
      "Test loss: 0.6468\n",
      "Test accuracy: 0.20000000298023224\n"
     ]
    }
   ],
   "source": [
    "# Evaluate the trained model using keras built-in function\n",
    "score = net.evaluate(X_test, y_test, verbose=0)\n",
    "print(\"Test loss:\", format(score[0],\".4f\"))\n",
    "print(\"Test accuracy:\", score[1])"
   ]
  },
  {
   "cell_type": "code",
   "execution_count": 18,
   "id": "f2d65598",
   "metadata": {
    "colab": {
     "base_uri": "https://localhost:8080/"
    },
    "executionInfo": {
     "elapsed": 326,
     "status": "ok",
     "timestamp": 1666549992354,
     "user": {
      "displayName": "YU HEN HU",
      "userId": "04083449072545068296"
     },
     "user_tz": 300
    },
    "id": "f2d65598",
    "outputId": "c1bcc460-36b1-4732-8189-16dc034f0f1d"
   },
   "outputs": [
    {
     "name": "stdout",
     "output_type": "stream",
     "text": [
      "1/1 [==============================] - 0s 36ms/step\n",
      "tf.Tensor(\n",
      "[[ 0 13  0]\n",
      " [ 0  6  0]\n",
      " [ 0 11  0]], shape=(3, 3), dtype=int32)\n"
     ]
    }
   ],
   "source": [
    "# Evaluate predicted testing output\n",
    "# Since softmax output is used, these outputs are probability \n",
    "# vectors of value between 0 and 1 and values of each output \n",
    "# vector added to 1\n",
    "y_softmax = net.predict(X_test)\n",
    "# y_pc gives the indices (strating from 0) of the max elements\n",
    "y_pc = np.argmax(y_softmax, axis = -1)\n",
    "# convert y_pc into one-hot encoding\n",
    "y_pred = keras.utils.to_categorical(y_pc)\n",
    "\n",
    "Cmat = tf.math.confusion_matrix(y_test.argmax(axis=-1),y_pred.argmax(axis=-1))\n",
    "print(Cmat)"
   ]
  },
  {
   "cell_type": "code",
   "execution_count": 19,
   "id": "aGIafJJe-V3p",
   "metadata": {
    "executionInfo": {
     "elapsed": 1203,
     "status": "ok",
     "timestamp": 1666549993555,
     "user": {
      "displayName": "YU HEN HU",
      "userId": "04083449072545068296"
     },
     "user_tz": 300
    },
    "id": "aGIafJJe-V3p"
   },
   "outputs": [
    {
     "ename": "NameError",
     "evalue": "name 'drive' is not defined",
     "output_type": "error",
     "traceback": [
      "\u001b[0;31m---------------------------------------------------------------------------\u001b[0m",
      "\u001b[0;31mNameError\u001b[0m                                 Traceback (most recent call last)",
      "Cell \u001b[0;32mIn[19], line 1\u001b[0m\n\u001b[0;32m----> 1\u001b[0m \u001b[43mdrive\u001b[49m\u001b[38;5;241m.\u001b[39mflush_and_unmount()\n",
      "\u001b[0;31mNameError\u001b[0m: name 'drive' is not defined"
     ]
    }
   ],
   "source": [
    "drive.flush_and_unmount()"
   ]
  }
 ],
 "metadata": {
  "colab": {
   "collapsed_sections": [],
   "provenance": []
  },
  "kernelspec": {
   "display_name": "Python 3 (ipykernel)",
   "language": "python",
   "name": "python3"
  },
  "language_info": {
   "codemirror_mode": {
    "name": "ipython",
    "version": 3
   },
   "file_extension": ".py",
   "mimetype": "text/x-python",
   "name": "python",
   "nbconvert_exporter": "python",
   "pygments_lexer": "ipython3",
   "version": "3.9.6"
  }
 },
 "nbformat": 4,
 "nbformat_minor": 5
}
