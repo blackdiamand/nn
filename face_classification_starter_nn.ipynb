{
 "cells": [
  {
   "cell_type": "code",
   "execution_count": 31,
   "metadata": {
    "ExecuteTime": {
     "end_time": "2024-05-03T15:14:09.772572Z",
     "start_time": "2024-05-03T15:14:08.541779Z"
    },
    "colab": {
     "base_uri": "https://localhost:8080/"
    },
    "id": "MOOJbknmDvYn",
    "outputId": "853baab2-a8fd-4a15-8af7-9c2b14011c8d",
    "scrolled": true
   },
   "outputs": [],
   "source": [
    "import numpy as np\n",
    "import matplotlib.pyplot as plt\n",
    "from scipy.io import loadmat\n",
    "#from google.colab import drive\n",
    "import tensorflow as tf\n",
    "import keras\n",
    "#drive.mount('/content/drive')\n",
    "\n",
    "dataset = loadmat('data/face_emotion_data.mat')\n",
    "\n",
    "X, Y = dataset['X'], dataset['y']\n",
    "n, p = np.shape(X)\n",
    "\n",
    "Y[Y == -1] = 0 #Set -1 labels to 0 (for logistic/sigmoid activation)\n",
    "\n",
    "#X = np.hstack((np.ones((n,1)), X))\n",
    "#Do not append a column of ones since we already have biases in the net"
   ]
  },
  {
   "cell_type": "code",
   "execution_count": 32,
   "metadata": {
    "id": "hBC_yEJ0oeVl"
   },
   "outputs": [
    {
     "name": "stderr",
     "output_type": "stream",
     "text": [
      "WARNING:absl:At this time, the v2.11+ optimizer `tf.keras.optimizers.SGD` runs slowly on M1/M2 Macs, please use the legacy Keras optimizer instead, located at `tf.keras.optimizers.legacy.SGD`.\n"
     ]
    }
   ],
   "source": [
    "model = tf.keras.models.Sequential([\n",
    "  tf.keras.layers.Dense(units=9, input_shape=(9,)),\n",
    "  tf.keras.layers.Dense(32, activation='sigmoid'),\n",
    "  tf.keras.layers.Dense(1, activation='sigmoid')\n",
    "])\n",
    "\n",
    "sgd = tf.keras.optimizers.SGD(learning_rate=0.05)\n",
    "model.compile(optimizer=sgd,\n",
    "              loss=\"mean_squared_error\",\n",
    "              metrics=['accuracy'])\n"
   ]
  },
  {
   "cell_type": "code",
   "execution_count": 33,
   "metadata": {
    "colab": {
     "base_uri": "https://localhost:8080/"
    },
    "id": "CBO42VUIr1XZ",
    "outputId": "8ca04226-1799-4e5d-8cb3-9cd91f3d055c"
   },
   "outputs": [],
   "source": [
    "history = model.fit(X, Y, epochs=1000, verbose=0)"
   ]
  },
  {
   "cell_type": "code",
   "execution_count": 34,
   "metadata": {
    "colab": {
     "base_uri": "https://localhost:8080/"
    },
    "id": "LMsw2TPMsEGN",
    "outputId": "057e4793-0ec9-40b4-a905-4b2827160db0"
   },
   "outputs": [
    {
     "name": "stdout",
     "output_type": "stream",
     "text": [
      "4/4 - 0s - loss: 0.0054 - accuracy: 1.0000 - 67ms/epoch - 17ms/step\n",
      "4/4 [==============================] - 0s 757us/step\n"
     ]
    }
   ],
   "source": [
    "# Does your classifier achieve 0% training error? Yes.\n",
    "# If so, how many epoch does it take for your classifier to achieve perfect classification on the training set? 200-700 epochs\n",
    "model.evaluate(X,  Y, verbose=2)\n",
    "y_pred = model.predict(X)"
   ]
  },
  {
   "cell_type": "code",
   "execution_count": 35,
   "metadata": {
    "colab": {
     "base_uri": "https://localhost:8080/",
     "height": 472
    },
    "id": "t4sJR-cExcFV",
    "outputId": "5acb24d6-872e-4118-ccdd-6f9bad65dd51"
   },
   "outputs": [
    {
     "data": {
      "image/png": "[encoded data removed]",
      "text/plain": [
       "<Figure size 640x480 with 1 Axes>"
      ]
     },
     "metadata": {},
     "output_type": "display_data"
    }
   ],
   "source": [
    "plt.plot(history.history['accuracy'])\n",
    "plt.title('model accuracy')\n",
    "plt.ylabel('accuracy')\n",
    "plt.xlabel('epochs')\n",
    "plt.legend(['train', 'val'], loc='upper left')\n",
    "plt.show()\n"
   ]
  },
  {
   "cell_type": "code",
   "execution_count": 36,
   "metadata": {
    "colab": {
     "base_uri": "https://localhost:8080/"
    },
    "id": "35QHhI5lyMsB",
    "outputId": "26ba1bbe-97dd-48da-e396-56e5a8c87f18"
   },
   "outputs": [
    {
     "name": "stderr",
     "output_type": "stream",
     "text": [
      "WARNING:absl:At this time, the v2.11+ optimizer `tf.keras.optimizers.SGD` runs slowly on M1/M2 Macs, please use the legacy Keras optimizer instead, located at `tf.keras.optimizers.legacy.SGD`.\n"
     ]
    },
    {
     "name": "stdout",
     "output_type": "stream",
     "text": [
      "1/1 [==============================] - 0s 25ms/step\n"
     ]
    },
    {
     "name": "stderr",
     "output_type": "stream",
     "text": [
      "WARNING:absl:At this time, the v2.11+ optimizer `tf.keras.optimizers.SGD` runs slowly on M1/M2 Macs, please use the legacy Keras optimizer instead, located at `tf.keras.optimizers.legacy.SGD`.\n"
     ]
    },
    {
     "name": "stdout",
     "output_type": "stream",
     "text": [
      "1/1 [==============================] - 0s 24ms/step\n"
     ]
    },
    {
     "name": "stderr",
     "output_type": "stream",
     "text": [
      "WARNING:absl:At this time, the v2.11+ optimizer `tf.keras.optimizers.SGD` runs slowly on M1/M2 Macs, please use the legacy Keras optimizer instead, located at `tf.keras.optimizers.legacy.SGD`.\n"
     ]
    },
    {
     "name": "stdout",
     "output_type": "stream",
     "text": [
      "1/1 [==============================] - 0s 24ms/step\n"
     ]
    },
    {
     "name": "stderr",
     "output_type": "stream",
     "text": [
      "WARNING:absl:At this time, the v2.11+ optimizer `tf.keras.optimizers.SGD` runs slowly on M1/M2 Macs, please use the legacy Keras optimizer instead, located at `tf.keras.optimizers.legacy.SGD`.\n"
     ]
    },
    {
     "name": "stdout",
     "output_type": "stream",
     "text": [
      "1/1 [==============================] - 0s 23ms/step\n"
     ]
    },
    {
     "name": "stderr",
     "output_type": "stream",
     "text": [
      "WARNING:absl:At this time, the v2.11+ optimizer `tf.keras.optimizers.SGD` runs slowly on M1/M2 Macs, please use the legacy Keras optimizer instead, located at `tf.keras.optimizers.legacy.SGD`.\n"
     ]
    },
    {
     "name": "stdout",
     "output_type": "stream",
     "text": [
      "1/1 [==============================] - 0s 27ms/step\n"
     ]
    },
    {
     "name": "stderr",
     "output_type": "stream",
     "text": [
      "WARNING:absl:At this time, the v2.11+ optimizer `tf.keras.optimizers.SGD` runs slowly on M1/M2 Macs, please use the legacy Keras optimizer instead, located at `tf.keras.optimizers.legacy.SGD`.\n"
     ]
    },
    {
     "name": "stdout",
     "output_type": "stream",
     "text": [
      "1/1 [==============================] - 0s 32ms/step\n"
     ]
    },
    {
     "name": "stderr",
     "output_type": "stream",
     "text": [
      "WARNING:absl:At this time, the v2.11+ optimizer `tf.keras.optimizers.SGD` runs slowly on M1/M2 Macs, please use the legacy Keras optimizer instead, located at `tf.keras.optimizers.legacy.SGD`.\n"
     ]
    },
    {
     "name": "stdout",
     "output_type": "stream",
     "text": [
      "1/1 [==============================] - 0s 27ms/step\n"
     ]
    },
    {
     "name": "stderr",
     "output_type": "stream",
     "text": [
      "WARNING:absl:At this time, the v2.11+ optimizer `tf.keras.optimizers.SGD` runs slowly on M1/M2 Macs, please use the legacy Keras optimizer instead, located at `tf.keras.optimizers.legacy.SGD`.\n"
     ]
    },
    {
     "name": "stdout",
     "output_type": "stream",
     "text": [
      "1/1 [==============================] - 0s 26ms/step\n"
     ]
    }
   ],
   "source": [
    "folds = 8\n",
    "accuracy = 0\n",
    "for i in range(folds):\n",
    "    bin_size = int(n/folds)\n",
    "    X_test = X[bin_size*i:bin_size*(i+1)]\n",
    "    X_train = np.vstack((X[0:bin_size*i], X[bin_size*(i+1):]))\n",
    "\n",
    "    y_vertical = Y.flatten()\n",
    "    y_test = y_vertical[bin_size*i:bin_size*(i+1)].reshape((-1,1))\n",
    "\n",
    "    y_train = np.hstack((y_vertical[0:bin_size*i], y_vertical[bin_size*(i+1):])).reshape((-1,1))\n",
    "    model2 = tf.keras.models.Sequential([\n",
    "      tf.keras.layers.Dense(units=9, input_shape=(9,)),\n",
    "      tf.keras.layers.Dense(32, activation='sigmoid'),\n",
    "      tf.keras.layers.Dense(1, activation='sigmoid')\n",
    "    ])\n",
    "\n",
    "    sgd = tf.keras.optimizers.SGD(learning_rate=0.05)\n",
    "    model2.compile(optimizer=sgd,\n",
    "                  loss=\"mean_squared_error\",\n",
    "                  metrics=['accuracy'])\n",
    "    history = model2.fit(X_train, y_train, epochs=200, verbose=0)\n",
    "    y_pred = model2.predict(X_test)\n",
    "    y_pred[y_pred > 0.5] = 1\n",
    "    y_pred[y_pred <= 0.5] = 0\n",
    "    accuracy += np.sum(y_pred == y_test) / y_pred.shape[0]\n",
    "    tf.keras.backend.clear_session()\n"
   ]
  },
  {
   "cell_type": "code",
   "execution_count": 37,
   "metadata": {
    "colab": {
     "base_uri": "https://localhost:8080/",
     "height": 1000
    },
    "id": "x3bbZMFo4_OC",
    "outputId": "d65d2405-af64-44e4-ae37-ec51655e0da1"
   },
   "outputs": [
    {
     "name": "stdout",
     "output_type": "stream",
     "text": [
      "1/1 [==============================] - 0s 16ms/step\n",
      "[[0.8885694 ]\n",
      " [0.12183485]\n",
      " [0.5747872 ]\n",
      " [0.04433724]\n",
      " [0.6260945 ]\n",
      " [0.95593315]\n",
      " [0.22050337]\n",
      " [0.13660543]\n",
      " [0.96239555]\n",
      " [0.8974238 ]\n",
      " [0.9336953 ]\n",
      " [0.41564563]\n",
      " [0.8729707 ]\n",
      " [0.6425971 ]\n",
      " [0.9147969 ]\n",
      " [0.97255915]]\n",
      "[[1]\n",
      " [0]\n",
      " [1]\n",
      " [0]\n",
      " [1]\n",
      " [1]\n",
      " [0]\n",
      " [0]\n",
      " [1]\n",
      " [1]\n",
      " [1]\n",
      " [0]\n",
      " [1]\n",
      " [1]\n",
      " [1]\n",
      " [1]]\n"
     ]
    },
    {
     "data": {
      "image/png": "[encoded data removed]",
      "text/plain": [
       "<Figure size 640x480 with 1 Axes>"
      ]
     },
     "metadata": {},
     "output_type": "display_data"
    }
   ],
   "source": [
    "y_pred = model2.predict(X_test)\n",
    "print(y_pred)\n",
    "print(y_test)\n",
    "\n",
    "plt.plot(history.history['accuracy'])\n",
    "plt.title('model accuracy (Training data)')\n",
    "plt.ylabel('accuracy')\n",
    "plt.xlabel('epochs')\n",
    "plt.legend(['train', 'val'], loc='upper left')\n",
    "plt.show()\n"
   ]
  },
  {
   "cell_type": "code",
   "execution_count": 39,
   "metadata": {},
   "outputs": [
    {
     "name": "stdout",
     "output_type": "stream",
     "text": [
      "Average accuracy (testing data)\n",
      "0.9453125\n"
     ]
    }
   ],
   "source": [
    "#Can you achieve perfect test accuracy? No, 95% avg accuracy\n",
    "print(\"Average accuracy (testing data)\")\n",
    "print(accuracy/folds)"
   ]
  }
 ],
 "metadata": {
  "colab": {
   "provenance": []
  },
  "kernelspec": {
   "display_name": "Python 3 (ipykernel)",
   "language": "python",
   "name": "python3"
  },
  "language_info": {
   "codemirror_mode": {
    "name": "ipython",
    "version": 3
   },
   "file_extension": ".py",
   "mimetype": "text/x-python",
   "name": "python",
   "nbconvert_exporter": "python",
   "pygments_lexer": "ipython3",
   "version": "3.9.6"
  }
 },
 "nbformat": 4,
 "nbformat_minor": 4
}
