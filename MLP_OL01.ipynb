{
 "cells": [
  {
   "cell_type": "code",
   "execution_count": 39,
   "id": "initial_id",
   "metadata": {
    "ExecuteTime": {
     "end_time": "2024-03-10T03:05:55.448825Z",
     "start_time": "2024-03-10T03:05:55.288350Z"
    }
   },
   "outputs": [
    {
     "name": "stdout",
     "output_type": "stream",
     "text": [
      "[[0.98634634]\n",
      " [0.61063923]\n",
      " [0.95212031]]\n",
      "[[-0.01365366]\n",
      " [ 0.61063923]\n",
      " [ 0.95212031]]\n",
      "0.5655969813933606\n"
     ]
    }
   ],
   "source": [
    "import numpy as np\n",
    "import math\n",
    "\n",
    "def sigmoid(x):\n",
    "  return 1 / (1 + math.exp(-x))\n",
    "\n",
    "X = np.array([[1,0.92,0.34], [1,0.19,0.25], [1,0.61,0.47]])\n",
    "y = np.array([[1],[0],[0]])\n",
    "w = np.array([[-1],[5],[2]])\n",
    "z = np.vectorize(sigmoid)(X @ w)\n",
    "print(z)\n",
    "e = z - y\n",
    "print(e)\n",
    "loss = 0.5 * np.linalg.norm(e)\n",
    "print(loss)"
   ]
  },
  {
   "cell_type": "code",
   "execution_count": 40,
   "id": "ee5960111f23920d",
   "metadata": {
    "collapsed": false,
    "jupyter": {
     "outputs_hidden": false
    }
   },
   "outputs": [
    {
     "name": "stdout",
     "output_type": "stream",
     "text": [
      "[[0.01346724]\n",
      " [0.23775896]\n",
      " [0.04558723]]\n",
      "[[0.06280187]\n",
      " [0.01796424]\n",
      " [0.01887795]]\n"
     ]
    }
   ],
   "source": [
    "#p = f'(u(k)), deriv of activation function applied to data\n",
    "p = z * (1-z)\n",
    "print(p)\n",
    "\n",
    "#K = minibatch size\n",
    "K = 3\n",
    "\n",
    "grad = (1/K)*X.T@(e*p)\n",
    "print(grad)"
   ]
  },
  {
   "cell_type": "code",
   "execution_count": 41,
   "id": "61027d97-13a7-423d-8efb-fc3484b5a2a3",
   "metadata": {},
   "outputs": [
    {
     "name": "stdout",
     "output_type": "stream",
     "text": [
      "[[-1.00628019]\n",
      " [ 4.99820358]\n",
      " [ 1.99811221]]\n",
      "[[0.98623038]\n",
      " [0.60895138]\n",
      " [0.9517422 ]]\n",
      "0.5649833196097985\n"
     ]
    }
   ],
   "source": [
    "alpha = 0.1\n",
    "w_new = w - alpha*grad\n",
    "print(w_new)\n",
    "z_new = np.vectorize(sigmoid)(X @ w_new)\n",
    "print(z_new)\n",
    "loss = 0.5 * np.linalg.norm(z_new - y)\n",
    "print(loss)"
   ]
  }
 ],
 "metadata": {
  "kernelspec": {
   "display_name": "Python 3 (ipykernel)",
   "language": "python",
   "name": "python3"
  },
  "language_info": {
   "codemirror_mode": {
    "name": "ipython",
    "version": 3
   },
   "file_extension": ".py",
   "mimetype": "text/x-python",
   "name": "python",
   "nbconvert_exporter": "python",
   "pygments_lexer": "ipython3",
   "version": "3.9.6"
  }
 },
 "nbformat": 4,
 "nbformat_minor": 5
}
