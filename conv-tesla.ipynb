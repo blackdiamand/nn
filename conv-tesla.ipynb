{
 "cells": [
  {
   "cell_type": "code",
   "execution_count": 33,
   "id": "initial_id",
   "metadata": {
    "ExecuteTime": {
     "end_time": "2024-03-18T16:38:23.125632Z",
     "start_time": "2024-03-18T16:38:23.123873Z"
    }
   },
   "outputs": [
    {
     "name": "stdout",
     "output_type": "stream",
     "text": [
      "(1, 7, 6, 1)\n"
     ]
    }
   ],
   "source": [
    "import numpy as np\n",
    "\n",
    "with open('Amat.csv', 'r') as f:\n",
    "  a = np.genfromtxt(f,delimiter=',')\n",
    "a = tf.reshape(a, [1,7,6,1])\n",
    "a = tf.cast(a, tf.float32)\n",
    "print(a.shape)\n",
    "b = tf.constant([[0,-1,0], [-1,4,-1], [0,-1,0]], dtype=tf.float32)\n",
    "b = tf.reshape(b,[3,3,1,1])"
   ]
  },
  {
   "cell_type": "code",
   "execution_count": 34,
   "id": "675bd0b0b3c3d8be",
   "metadata": {
    "collapsed": false,
    "jupyter": {
     "outputs_hidden": false
    }
   },
   "outputs": [],
   "source": [
    "S = 2\n",
    "P = 1"
   ]
  },
  {
   "cell_type": "code",
   "execution_count": 43,
   "id": "26c5db22-6044-45b6-a2e5-e40f72c22fe5",
   "metadata": {},
   "outputs": [
    {
     "name": "stdout",
     "output_type": "stream",
     "text": [
      "tf.Tensor(\n",
      "[[[[ 31.]\n",
      "   [ 70.]\n",
      "   [ 39.]]\n",
      "\n",
      "  [[-99.]\n",
      "   [-44.]\n",
      "   [ 49.]]\n",
      "\n",
      "  [[  2.]\n",
      "   [-15.]\n",
      "   [  9.]]\n",
      "\n",
      "  [[-14.]\n",
      "   [ 10.]\n",
      "   [-34.]]]], shape=(1, 4, 3, 1), dtype=float32)\n",
      "tf.Tensor(\n",
      "[[ 31.  70.  39.]\n",
      " [-99. -44.  49.]\n",
      " [  2. -15.   9.]\n",
      " [-14.  10. -34.]], shape=(4, 3), dtype=float32)\n"
     ]
    }
   ],
   "source": [
    "import tensorflow as tf\n",
    "c = tf.nn.conv2d(a, b, strides=S, padding=[[0, 0], [P, P], [P, P], [0, 0]])\n",
    "print(c)\n",
    "print(tf.reshape(c, (4,3)))"
   ]
  },
  {
   "cell_type": "code",
   "execution_count": 45,
   "id": "3476f1fa-1bb2-4706-8bb7-a34d7e19c0b8",
   "metadata": {},
   "outputs": [
    {
     "name": "stdout",
     "output_type": "stream",
     "text": [
      "tf.Tensor(\n",
      "[[[[0.   ]]\n",
      "\n",
      "  [[0.125]]\n",
      "\n",
      "  [[0.   ]]]\n",
      "\n",
      "\n",
      " [[[0.125]]\n",
      "\n",
      "  [[0.5  ]]\n",
      "\n",
      "  [[0.125]]]\n",
      "\n",
      "\n",
      " [[[0.   ]]\n",
      "\n",
      "  [[0.125]]\n",
      "\n",
      "  [[0.   ]]]], shape=(3, 3, 1, 1), dtype=float32)\n"
     ]
    }
   ],
   "source": [
    "a = tf.constant([[5,-1,7,6], [2,4,-2, 10], [11,-3,3, 11]], dtype=tf.float32)\n",
    "a = tf.reshape(a, [1,3,4,1])\n",
    "a = tf.cast(a, tf.float32)\n",
    "\n",
    "b = tf.constant([[0,1,0], [1,4,1], [0,1,0]], dtype=tf.float32)\n",
    "b = b * (1/8)\n",
    "b = tf.reshape(b, [3,3,1,1])\n",
    "b = tf.cast(b, tf.float32)\n",
    "print(b)"
   ]
  },
  {
   "cell_type": "code",
   "execution_count": 49,
   "id": "1859d71a-0a6b-4d68-bfac-020cc464b8ad",
   "metadata": {},
   "outputs": [
    {
     "name": "stdout",
     "output_type": "stream",
     "text": [
      "tf.Tensor(\n",
      "[[[[ 2.5  ]\n",
      "   [ 0.5  ]\n",
      "   [-0.5  ]\n",
      "   [ 0.75 ]\n",
      "   [ 3.5  ]\n",
      "   [ 1.625]\n",
      "   [ 3.   ]]\n",
      "\n",
      "  [[ 0.875]\n",
      "   [ 0.   ]\n",
      "   [ 0.375]\n",
      "   [ 0.   ]\n",
      "   [ 0.625]\n",
      "   [ 0.   ]\n",
      "   [ 2.   ]]\n",
      "\n",
      "  [[ 1.   ]\n",
      "   [ 0.75 ]\n",
      "   [ 2.   ]\n",
      "   [ 0.25 ]\n",
      "   [-1.   ]\n",
      "   [ 1.   ]\n",
      "   [ 5.   ]]\n",
      "\n",
      "  [[ 1.625]\n",
      "   [ 0.   ]\n",
      "   [ 0.125]\n",
      "   [ 0.   ]\n",
      "   [ 0.125]\n",
      "   [ 0.   ]\n",
      "   [ 2.625]]\n",
      "\n",
      "  [[ 5.5  ]\n",
      "   [ 1.   ]\n",
      "   [-1.5  ]\n",
      "   [ 0.   ]\n",
      "   [ 1.5  ]\n",
      "   [ 1.75 ]\n",
      "   [ 5.5  ]]]], shape=(1, 5, 7, 1), dtype=float32)\n",
      "tf.Tensor(\n",
      "[[ 2.5    0.5   -0.5    0.75   3.5    1.625  3.   ]\n",
      " [ 0.875  0.     0.375  0.     0.625  0.     2.   ]\n",
      " [ 1.     0.75   2.     0.25  -1.     1.     5.   ]\n",
      " [ 1.625  0.     0.125  0.     0.125  0.     2.625]\n",
      " [ 5.5    1.    -1.5    0.     1.5    1.75   5.5  ]], shape=(5, 7), dtype=float32)\n"
     ]
    }
   ],
   "source": [
    "S = 2\n",
    "P = 1\n",
    "c = tf.nn.conv2d_transpose(a, b, (5,7), strides=S, padding=[[0, 0], [P, P], [P, P], [0, 0]])\n",
    "print(c)\n",
    "print(tf.reshape(c,(5,7)))"
   ]
  }
 ],
 "metadata": {
  "kernelspec": {
   "display_name": "Python 3 (ipykernel)",
   "language": "python",
   "name": "python3"
  },
  "language_info": {
   "codemirror_mode": {
    "name": "ipython",
    "version": 3
   },
   "file_extension": ".py",
   "mimetype": "text/x-python",
   "name": "python",
   "nbconvert_exporter": "python",
   "pygments_lexer": "ipython3",
   "version": "3.9.6"
  }
 },
 "nbformat": 4,
 "nbformat_minor": 5
}
