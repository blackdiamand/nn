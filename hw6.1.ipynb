{
 "cells": [
  {
   "cell_type": "code",
   "execution_count": 1,
   "id": "initial_id",
   "metadata": {
    "ExecuteTime": {
     "end_time": "2024-02-29T21:02:59.605858Z",
     "start_time": "2024-02-29T21:02:59.600071Z"
    }
   },
   "outputs": [
    {
     "name": "stdout",
     "output_type": "stream",
     "text": [
      "(1599, 11)\n",
      "(1599,)\n",
      "[3. 4. 5. 6. 7. 8.]\n"
     ]
    }
   ],
   "source": [
    "import numpy as np\n",
    "import pandas as pd\n",
    "import collections\n",
    "\n",
    "\n",
    "with open('winequality-red.csv', 'r', encoding='utf-8-sig') as f:\n",
    "  df = pd.read_csv(f)\n",
    "\n",
    "data = df.to_numpy()\n",
    "\n",
    "X = data[:, :-1]\n",
    "y = data[:, -1]\n",
    "#Print the shapes of X and y\n",
    "print(X.shape)\n",
    "print(y.shape)\n",
    "#list all distinct class labels\n",
    "print(np.unique(y))\n",
    "# split X and y into training and testing sets\n",
    "from sklearn.model_selection import train_test_split\n",
    "X_train, X_test, y_train, y_test = train_test_split(X, y, test_size=0.2, stratify=y)"
   ]
  },
  {
   "cell_type": "code",
   "execution_count": 2,
   "id": "37491b54783683ec",
   "metadata": {
    "collapsed": false,
    "jupyter": {
     "outputs_hidden": false
    }
   },
   "outputs": [
    {
     "name": "stdout",
     "output_type": "stream",
     "text": [
      "(1279,)\n",
      "(1279, 11)\n"
     ]
    }
   ],
   "source": [
    "from sklearn.linear_model import LogisticRegression\n",
    "# Create an instance of Logistic Regression Classifier and fit the data.\n",
    "logreg = LogisticRegression(multi_class='auto', max_iter=10000)\n",
    "clf = logreg.fit(X_train, y_train)\n",
    "print(y_train.shape)\n",
    "print(X_train.shape)\n",
    "#print(clf.coef_, clf.intercept_)"
   ]
  },
  {
   "cell_type": "code",
   "execution_count": 3,
   "id": "73278ac9-2bf6-4738-ae3d-b582e860164b",
   "metadata": {},
   "outputs": [
    {
     "name": "stdout",
     "output_type": "stream",
     "text": [
      "Confusion Matrix: \n",
      "[[  0   0   2   0   0   0]\n",
      " [  0   0   8   3   0   0]\n",
      " [  0   0 104  31   1   0]\n",
      " [  0   0  41  78   9   0]\n",
      " [  0   0   2  29   9   0]\n",
      " [  0   0   0   2   1   0]]\n",
      "Accuracy: 59.688%\n"
     ]
    }
   ],
   "source": [
    "# Confusion matrix of the testing dataset\n",
    "y_hat = clf.predict(X_test)\n",
    "from sklearn.metrics import confusion_matrix\n",
    "\n",
    "Cmat = confusion_matrix(y_test, y_hat)\n",
    "acc = clf.score(X_test,y_test)\n",
    "\n",
    "print(\"Confusion Matrix: \")\n",
    "print(Cmat)\n",
    "print(\"Accuracy: \" + str(format(acc*100,'.3f')) + '%')"
   ]
  },
  {
   "cell_type": "code",
   "execution_count": 4,
   "id": "70bc4ab4-13f9-40f6-ac35-801a1b4d430a",
   "metadata": {},
   "outputs": [
    {
     "name": "stdout",
     "output_type": "stream",
     "text": [
      "[[-6.7093776  -3.2645776  -1.63794664 -0.5337606  -2.0005106  -3.11166122]\n",
      " [-8.64098559 -3.17130815 -0.59255815 -1.00780082 -3.26602399 -6.32840746]\n",
      " [-4.80236331 -2.9639407  -1.41691678 -0.57355    -2.10546891 -4.38971983]\n",
      " ...\n",
      " [-5.67090823 -4.36170062 -0.37346257 -1.27736596 -4.15501982 -6.91203299]\n",
      " [-4.64484217 -2.43325824 -1.25372997 -0.62685229 -2.55184332 -5.29999649]\n",
      " [-4.39940076 -2.59812484 -0.70973733 -0.94247408 -3.50662868 -6.28261724]]\n"
     ]
    }
   ],
   "source": [
    "print(clf.predict_log_proba(X_test))"
   ]
  },
  {
   "cell_type": "code",
   "execution_count": 5,
   "id": "18811760-8fb0-4a8a-a484-4da2ee707f2b",
   "metadata": {},
   "outputs": [
    {
     "name": "stdout",
     "output_type": "stream",
     "text": [
      "[6. 5. 6. 5. 7. 6. 5. 5. 6. 5. 5. 6. 7. 5. 7. 5. 5. 5. 6. 6. 6. 6. 5. 6.\n",
      " 6. 5. 6. 6. 6. 5. 6. 5. 5. 5. 5. 5. 6. 6. 7. 5. 6. 5. 5. 6. 5. 7. 5. 6.\n",
      " 6. 6. 6. 5. 6. 5. 6. 6. 5. 5. 6. 5. 5. 6. 6. 6. 6. 7. 6. 3. 7. 6. 5. 5.\n",
      " 6. 7. 5. 6. 5. 5. 4. 6. 6. 5. 6. 6. 6. 7. 6. 8. 6. 5. 7. 5. 5. 6. 7. 6.\n",
      " 7. 7. 6. 7. 5. 7. 5. 5. 6. 6. 6. 6. 5. 5. 5. 7. 6. 5. 6. 5. 5. 6. 6. 6.\n",
      " 7. 5. 6. 6. 6. 4. 4. 5. 4. 5. 6. 5. 5. 7. 5. 5. 6. 5. 7. 5. 6. 6. 5. 6.\n",
      " 6. 5. 7. 5. 7. 6. 4. 5. 6. 5. 6. 6. 6. 6. 5. 5. 5. 5. 5. 6. 6. 5. 5. 6.\n",
      " 6. 5. 6. 7. 4. 7. 5. 6. 5. 5. 5. 6. 6. 5. 6. 6. 5. 5. 6. 5. 5. 5. 6. 7.\n",
      " 5. 6. 6. 5. 7. 6. 5. 7. 5. 5. 5. 5. 6. 5. 5. 6. 5. 5. 7. 5. 6. 6. 5. 6.\n",
      " 5. 5. 6. 5. 5. 5. 6. 5. 6. 7. 6. 7. 7. 6. 3. 5. 5. 6. 5. 6. 5. 6. 5. 5.\n",
      " 6. 6. 5. 5. 6. 5. 7. 5. 6. 5. 6. 8. 5. 5. 5. 6. 4. 5. 4. 5. 5. 7. 5. 4.\n",
      " 6. 7. 5. 6. 5. 6. 6. 6. 4. 6. 6. 6. 7. 5. 6. 6. 7. 5. 8. 6. 6. 6. 5. 5.\n",
      " 6. 5. 7. 6. 6. 5. 7. 5. 5. 7. 6. 6. 5. 7. 6. 6. 5. 6. 5. 5. 7. 5. 4. 6.\n",
      " 5. 6. 6. 6. 5. 5. 5. 5.]\n",
      "[0 0 0 0 0 0 0 0 0 0 0 0 0 0 0 0 0 0 0 0 0 0 0 0 0 0 0 0 0 0 0 0 0 0 0 0 0\n",
      " 0 0 0 0 0 0 0 0 0 0 0 0 0 0 0 0 0 0 0 0 0 0 0 0 0 0 0 0 0 0 0 0 0 0 0 0 0\n",
      " 0 0 0 0 1 0 0 0 0 0 0 0 0 0 0 0 0 0 0 0 0 0 0 0 0 0 0 0 0 0 0 0 0 0 0 0 0\n",
      " 0 0 0 0 0 0 0 0 0 0 0 0 0 0 1 1 0 1 0 0 0 0 0 0 0 0 0 0 0 0 0 0 0 0 0 0 0\n",
      " 0 0 1 0 0 0 0 0 0 0 0 0 0 0 0 0 0 0 0 0 0 0 0 0 1 0 0 0 0 0 0 0 0 0 0 0 0\n",
      " 0 0 0 0 0 0 0 0 0 0 0 0 0 0 0 0 0 0 0 0 0 0 0 0 0 0 0 0 0 0 0 0 0 0 0 0 0\n",
      " 0 0 0 0 0 0 0 0 0 0 0 0 0 0 0 0 0 0 0 0 0 0 0 0 0 0 0 0 0 0 0 0 0 0 1 0 1\n",
      " 0 0 0 0 1 0 0 0 0 0 0 0 0 1 0 0 0 0 0 0 0 0 0 0 0 0 0 0 0 0 0 0 0 0 0 0 0\n",
      " 0 0 0 0 0 0 0 0 0 0 0 0 0 0 1 0 0 0 0 0 0 0 0 0]\n"
     ]
    }
   ],
   "source": [
    "#args\n",
    "print(y_test)\n",
    "y_test_4 = np.array([1 if y == 4. else 0 for y in y_test])\n",
    "print(y_test_4)"
   ]
  },
  {
   "cell_type": "code",
   "execution_count": 6,
   "id": "6a1b2719-9e25-46f9-a9b2-d1823a9f65fb",
   "metadata": {
    "ExecuteTime": {
     "end_time": "2024-03-01T21:26:32.022480Z",
     "start_time": "2024-03-01T21:26:30.479682Z"
    }
   },
   "outputs": [
    {
     "data": {
      "image/png": "[encoded data removed]",
      "text/plain": [
       "<Figure size 640x480 with 1 Axes>"
      ]
     },
     "metadata": {},
     "output_type": "display_data"
    }
   ],
   "source": [
    "import sklearn.metrics as metrics\n",
    "probs = clf.predict_proba(X_test)\n",
    "preds = probs[:,1]\n",
    "fpr, tpr, threshold = metrics.roc_curve(y_test_4, preds)\n",
    "roc_auc = metrics.auc(fpr, tpr)\n",
    "\n",
    "import matplotlib.pyplot as plt\n",
    "plt.plot(fpr,tpr,label=\"label: 4, auc=\"+str(roc_auc))\n",
    "plt.legend(loc=4)\n",
    "plt.show()\n"
   ]
  },
  {
   "cell_type": "code",
   "execution_count": null,
   "id": "6cbf2abe88224e94",
   "metadata": {
    "collapsed": false,
    "jupyter": {
     "outputs_hidden": false
    }
   },
   "outputs": [],
   "source": []
  }
 ],
 "metadata": {
  "kernelspec": {
   "display_name": "Python 3 (ipykernel)",
   "language": "python",
   "name": "python3"
  },
  "language_info": {
   "codemirror_mode": {
    "name": "ipython",
    "version": 3
   },
   "file_extension": ".py",
   "mimetype": "text/x-python",
   "name": "python",
   "nbconvert_exporter": "python",
   "pygments_lexer": "ipython3",
   "version": "3.9.6"
  }
 },
 "nbformat": 4,
 "nbformat_minor": 5
}
