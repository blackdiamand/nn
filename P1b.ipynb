{
 "cells": [
  {
   "cell_type": "code",
   "execution_count": 3,
   "id": "initial_id",
   "metadata": {
    "ExecuteTime": {
     "end_time": "2024-03-25T16:08:07.031929Z",
     "start_time": "2024-03-25T16:08:06.841010Z"
    }
   },
   "outputs": [],
   "source": [
    "import numpy as np\n",
    "import tensorflow as tf\n",
    "\n",
    "A = tf.constant([[9,4,7,1,5], \n",
    "              [7,3,7,7,0], \n",
    "              [3,10,10,2,8],\n",
    "              [2,5,7,1,6]], dtype=tf.float32)\n",
    "A = tf.reshape(A, [1,4,5,1])\n",
    "B = tf.constant([[0,-1,0],\n",
    "              [-1,4,-1],\n",
    "              [0,-1,0]], dtype=tf.float32)\n",
    "B = tf.reshape(B, [3,3,1,1])"
   ]
  },
  {
   "cell_type": "code",
   "execution_count": 5,
   "id": "6af40f6b83dacdf5",
   "metadata": {
    "collapsed": false,
    "jupyter": {
     "outputs_hidden": false
    }
   },
   "outputs": [
    {
     "name": "stdout",
     "output_type": "stream",
     "text": [
      "tf.Tensor(\n",
      "[[[[ 25.]\n",
      "   [ -3.]\n",
      "   [ 16.]\n",
      "   [-15.]\n",
      "   [ 19.]]\n",
      "\n",
      "  [[ 13.]\n",
      "   [-16.]\n",
      "   [  1.]\n",
      "   [ 18.]\n",
      "   [-20.]]\n",
      "\n",
      "  [[ -7.]\n",
      "   [ 19.]\n",
      "   [ 14.]\n",
      "   [-18.]\n",
      "   [ 24.]]\n",
      "\n",
      "  [[  0.]\n",
      "   [  1.]\n",
      "   [ 12.]\n",
      "   [-11.]\n",
      "   [ 15.]]]], shape=(1, 4, 5, 1), dtype=float32)\n"
     ]
    }
   ],
   "source": [
    "c = tf.nn.conv2d(A, B, strides=1, padding=\"SAME\")\n",
    "print(c)"
   ]
  },
  {
   "cell_type": "code",
   "execution_count": 18,
   "id": "e01fb822-c578-46c0-8a8b-0baa7e06b464",
   "metadata": {},
   "outputs": [
    {
     "name": "stdout",
     "output_type": "stream",
     "text": [
      "tf.Tensor(\n",
      "[[ 36. -13.  16. -11.  28.  -8.   4.  -6.  20.  -5.]\n",
      " [-16.   0.  -7.   0. -14.   0.  -8.   0.  -5.   0.]\n",
      " [ 28. -10.  12. -10.  28. -14.  28.  -7.   0.   0.]\n",
      " [-10.   0. -13.   0. -17.   0.  -9.   0.  -8.   0.]\n",
      " [ 12. -13.  40. -20.  40. -12.   8. -10.  32.  -8.]\n",
      " [ -5.   0. -15.   0. -17.   0.  -3.   0. -14.   0.]\n",
      " [  8.  -7.  20. -12.  28.  -8.   4.  -7.  24.  -6.]\n",
      " [ -2.   0.  -5.   0.  -7.   0.  -1.   0.  -6.   0.]], shape=(8, 10), dtype=float32)\n"
     ]
    }
   ],
   "source": [
    "S = 2\n",
    "P = 1\n",
    "c = tf.nn.conv2d_transpose(A, B, (8,10), strides=S, padding=[[0, 0], [P, P], [P, P], [0, 0]])\n",
    "print(tf.reshape(c,(8,10)))"
   ]
  }
 ],
 "metadata": {
  "kernelspec": {
   "display_name": "Python 3 (ipykernel)",
   "language": "python",
   "name": "python3"
  },
  "language_info": {
   "codemirror_mode": {
    "name": "ipython",
    "version": 3
   },
   "file_extension": ".py",
   "mimetype": "text/x-python",
   "name": "python",
   "nbconvert_exporter": "python",
   "pygments_lexer": "ipython3",
   "version": "3.9.6"
  }
 },
 "nbformat": 4,
 "nbformat_minor": 5
}
