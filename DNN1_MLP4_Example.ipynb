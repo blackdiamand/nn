{
 "cells": [
  {
   "cell_type": "code",
   "execution_count": 1,
   "id": "717a35ac",
   "metadata": {
    "ExecuteTime": {
     "end_time": "2024-03-15T19:17:20.388359Z",
     "start_time": "2024-03-15T19:17:16.334927Z"
    },
    "executionInfo": {
     "elapsed": 5883,
     "status": "ok",
     "timestamp": 1666549341350,
     "user": {
      "displayName": "YU HEN HU",
      "userId": "04083449072545068296"
     },
     "user_tz": 300
    },
    "id": "717a35ac"
   },
   "outputs": [
    {
     "name": "stderr",
     "output_type": "stream",
     "text": [
      "/Users/admin/GitHub/nn/.venv/lib/python3.9/site-packages/urllib3/__init__.py:35: NotOpenSSLWarning: urllib3 v2 only supports OpenSSL 1.1.1+, currently the 'ssl' module is compiled with 'LibreSSL 2.8.3'. See: https://github.com/urllib3/urllib3/issues/3020\n",
      "  warnings.warn(\n"
     ]
    }
   ],
   "source": [
    "# part of the code also refers to:\n",
    "# https://machinelearningmastery.com/tutorial-first-neural-network-python-keras/\n",
    "# !pip install d2l==0.17.0\n",
    "import tensorflow as tf\n",
    "import numpy as np\n",
    "#from google.colab import drive\n",
    "from tensorflow import keras\n",
    "from sklearn.model_selection import train_test_split"
   ]
  },
  {
   "cell_type": "code",
   "execution_count": 2,
   "id": "71cfbd08",
   "metadata": {
    "colab": {
     "base_uri": "https://localhost:8080/"
    },
    "executionInfo": {
     "elapsed": 18107,
     "status": "ok",
     "timestamp": 1666549359448,
     "user": {
      "displayName": "YU HEN HU",
      "userId": "04083449072545068296"
     },
     "user_tz": 300
    },
    "id": "71cfbd08",
    "outputId": "6b425965-90f4-456f-8b89-c0d1dc565080"
   },
   "outputs": [],
   "source": [
    "# import data\n",
    "#drive.mount('/content/drive')\n",
    "with open('iris.csv', 'r') as f: \n",
    "  data = np.genfromtxt(f, dtype='f4', delimiter=',')\n",
    "X = data[:,:4]\n",
    "# y = [data[:,4] == 1, data[:,4] == 2, data[:,4] == 3]\n",
    "y = data[:,4]"
   ]
  },
  {
   "cell_type": "code",
   "execution_count": 3,
   "id": "7501ce39",
   "metadata": {
    "executionInfo": {
     "elapsed": 3,
     "status": "ok",
     "timestamp": 1666549359448,
     "user": {
      "displayName": "YU HEN HU",
      "userId": "04083449072545068296"
     },
     "user_tz": 300
    },
    "id": "7501ce39"
   },
   "outputs": [],
   "source": [
    "# partition into training and validation set at 80/20 division\n",
    "X_train, X_test, y_train, y_test = train_test_split(X, y, test_size=0.20)\n",
    "# Converting y_r and y_t into one-hot encoding using a keras utility\n",
    "#  to_categorical\n",
    "# The class vector to be converted into a matrix is assumed to contain\n",
    "#  integers from 0 to num_classes. The label in iris.csv is 1, 2, 3\n",
    "#  Hence we subtract it by 1 before conversion\n",
    "y_train = keras.utils.to_categorical(y_train-1)\n",
    "y_test = keras.utils.to_categorical(y_test-1)"
   ]
  },
  {
   "cell_type": "code",
   "execution_count": 4,
   "id": "57fa02c9",
   "metadata": {
    "executionInfo": {
     "elapsed": 398,
     "status": "ok",
     "timestamp": 1666549359844,
     "user": {
      "displayName": "YU HEN HU",
      "userId": "04083449072545068296"
     },
     "user_tz": 300
    },
    "id": "57fa02c9"
   },
   "outputs": [],
   "source": [
    "# define the keras model\n",
    "# 4-10-10-10-3 configuration, relu and softmax activation for the \n",
    "# hidden layer and output layer respectively\n",
    "net = tf.keras.models.Sequential([\n",
    "    tf.keras.layers.Dense(3, input_dim=4, activation = 'relu'),\n",
    "    tf.keras.layers.Dense(3, activation = 'relu'),\n",
    "    tf.keras.layers.Dense(3, activation = 'relu'),\n",
    "    tf.keras.layers.Dense(3, activation = 'relu'),\n",
    "    tf.keras.layers.Dense(3, activation = 'relu'),\n",
    "    tf.keras.layers.Dense(3, activation = 'relu'),\n",
    "    tf.keras.layers.Dense(3, activation = 'relu'),\n",
    "    tf.keras.layers.Dense(3, activation = 'relu'),\n",
    "    tf.keras.layers.Dense(3, activation='softmax')])"
   ]
  },
  {
   "cell_type": "code",
   "execution_count": 5,
   "id": "2f08f1cb",
   "metadata": {
    "executionInfo": {
     "elapsed": 6,
     "status": "ok",
     "timestamp": 1666549359844,
     "user": {
      "displayName": "YU HEN HU",
      "userId": "04083449072545068296"
     },
     "user_tz": 300
    },
    "id": "2f08f1cb"
   },
   "outputs": [],
   "source": [
    "# compile the keras model\n",
    "net.compile(loss='binary_crossentropy', optimizer='adam', \n",
    "              metrics=['accuracy'])"
   ]
  },
  {
   "cell_type": "code",
   "execution_count": 6,
   "id": "cb0ad23a",
   "metadata": {
    "colab": {
     "base_uri": "https://localhost:8080/"
    },
    "executionInfo": {
     "elapsed": 7690,
     "status": "ok",
     "timestamp": 1666549367530,
     "user": {
      "displayName": "YU HEN HU",
      "userId": "04083449072545068296"
     },
     "user_tz": 300
    },
    "id": "cb0ad23a",
    "outputId": "9859c0bd-8b8b-4850-9899-62e931d6ffe4"
   },
   "outputs": [
    {
     "name": "stdout",
     "output_type": "stream",
     "text": [
      "Epoch 1/150\n",
      "12/12 [==============================] - 0s 885us/step - loss: 0.9576 - accuracy: 0.3000\n",
      "Epoch 2/150\n",
      "12/12 [==============================] - 0s 700us/step - loss: 0.8677 - accuracy: 0.3000\n",
      "Epoch 3/150\n",
      "12/12 [==============================] - 0s 673us/step - loss: 0.8115 - accuracy: 0.3000\n",
      "Epoch 4/150\n",
      "12/12 [==============================] - 0s 911us/step - loss: 0.7742 - accuracy: 0.3000\n",
      "Epoch 5/150\n",
      "12/12 [==============================] - 0s 914us/step - loss: 0.7501 - accuracy: 0.3000\n",
      "Epoch 6/150\n",
      "12/12 [==============================] - 0s 777us/step - loss: 0.7360 - accuracy: 0.3000\n",
      "Epoch 7/150\n",
      "12/12 [==============================] - 0s 798us/step - loss: 0.7248 - accuracy: 0.3000\n",
      "Epoch 8/150\n",
      "12/12 [==============================] - 0s 971us/step - loss: 0.7181 - accuracy: 0.3000\n",
      "Epoch 9/150\n",
      "12/12 [==============================] - 0s 903us/step - loss: 0.7121 - accuracy: 0.3000\n",
      "Epoch 10/150\n",
      "12/12 [==============================] - 0s 816us/step - loss: 0.7078 - accuracy: 0.3000\n",
      "Epoch 11/150\n",
      "12/12 [==============================] - 0s 899us/step - loss: 0.7038 - accuracy: 0.3000\n",
      "Epoch 12/150\n",
      "12/12 [==============================] - 0s 920us/step - loss: 0.7010 - accuracy: 0.3000\n",
      "Epoch 13/150\n",
      "12/12 [==============================] - 0s 969us/step - loss: 0.6984 - accuracy: 0.3000\n",
      "Epoch 14/150\n",
      "12/12 [==============================] - 0s 992us/step - loss: 0.6960 - accuracy: 0.3000\n",
      "Epoch 15/150\n",
      "12/12 [==============================] - 0s 1ms/step - loss: 0.6937 - accuracy: 0.3000\n",
      "Epoch 16/150\n",
      "12/12 [==============================] - 0s 849us/step - loss: 0.6917 - accuracy: 0.3000\n",
      "Epoch 17/150\n",
      "12/12 [==============================] - 0s 781us/step - loss: 0.6897 - accuracy: 0.2917\n",
      "Epoch 18/150\n",
      "12/12 [==============================] - 0s 832us/step - loss: 0.6880 - accuracy: 0.2917\n",
      "Epoch 19/150\n",
      "12/12 [==============================] - 0s 811us/step - loss: 0.6863 - accuracy: 0.2750\n",
      "Epoch 20/150\n",
      "12/12 [==============================] - 0s 702us/step - loss: 0.6846 - accuracy: 0.2750\n",
      "Epoch 21/150\n",
      "12/12 [==============================] - 0s 674us/step - loss: 0.6830 - accuracy: 0.2417\n",
      "Epoch 22/150\n",
      "12/12 [==============================] - 0s 734us/step - loss: 0.6815 - accuracy: 0.2167\n",
      "Epoch 23/150\n",
      "12/12 [==============================] - 0s 689us/step - loss: 0.6799 - accuracy: 0.1833\n",
      "Epoch 24/150\n",
      "12/12 [==============================] - 0s 906us/step - loss: 0.6785 - accuracy: 0.1333\n",
      "Epoch 25/150\n",
      "12/12 [==============================] - 0s 725us/step - loss: 0.6771 - accuracy: 0.0917\n",
      "Epoch 26/150\n",
      "12/12 [==============================] - 0s 928us/step - loss: 0.6756 - accuracy: 0.0917\n",
      "Epoch 27/150\n",
      "12/12 [==============================] - 0s 837us/step - loss: 0.6743 - accuracy: 0.0667\n",
      "Epoch 28/150\n",
      "12/12 [==============================] - 0s 862us/step - loss: 0.6731 - accuracy: 0.1333\n",
      "Epoch 29/150\n",
      "12/12 [==============================] - 0s 870us/step - loss: 0.6717 - accuracy: 0.1750\n",
      "Epoch 30/150\n",
      "12/12 [==============================] - 0s 1ms/step - loss: 0.6705 - accuracy: 0.1250\n",
      "Epoch 31/150\n",
      "12/12 [==============================] - 0s 1ms/step - loss: 0.6692 - accuracy: 0.0583\n",
      "Epoch 32/150\n",
      "12/12 [==============================] - 0s 1ms/step - loss: 0.6679 - accuracy: 0.0250\n",
      "Epoch 33/150\n",
      "12/12 [==============================] - 0s 1ms/step - loss: 0.6668 - accuracy: 0.0250\n",
      "Epoch 34/150\n",
      "12/12 [==============================] - 0s 1ms/step - loss: 0.6656 - accuracy: 0.0250\n",
      "Epoch 35/150\n",
      "12/12 [==============================] - 0s 906us/step - loss: 0.6645 - accuracy: 0.0083\n",
      "Epoch 36/150\n",
      "12/12 [==============================] - 0s 846us/step - loss: 0.6634 - accuracy: 0.0083\n",
      "Epoch 37/150\n",
      "12/12 [==============================] - 0s 658us/step - loss: 0.6623 - accuracy: 0.0083\n",
      "Epoch 38/150\n",
      "12/12 [==============================] - 0s 610us/step - loss: 0.6612 - accuracy: 0.0000e+00\n",
      "Epoch 39/150\n",
      "12/12 [==============================] - 0s 808us/step - loss: 0.6602 - accuracy: 0.0000e+00\n",
      "Epoch 40/150\n",
      "12/12 [==============================] - 0s 808us/step - loss: 0.6592 - accuracy: 0.0083\n",
      "Epoch 41/150\n",
      "12/12 [==============================] - 0s 797us/step - loss: 0.6582 - accuracy: 0.0083\n",
      "Epoch 42/150\n",
      "12/12 [==============================] - 0s 629us/step - loss: 0.6572 - accuracy: 0.0000e+00\n",
      "Epoch 43/150\n",
      "12/12 [==============================] - 0s 746us/step - loss: 0.6563 - accuracy: 0.0000e+00\n",
      "Epoch 44/150\n",
      "12/12 [==============================] - 0s 737us/step - loss: 0.6553 - accuracy: 0.0000e+00\n",
      "Epoch 45/150\n",
      "12/12 [==============================] - 0s 728us/step - loss: 0.6543 - accuracy: 0.0000e+00\n",
      "Epoch 46/150\n",
      "12/12 [==============================] - 0s 691us/step - loss: 0.6535 - accuracy: 0.0750\n",
      "Epoch 47/150\n",
      "12/12 [==============================] - 0s 792us/step - loss: 0.6525 - accuracy: 0.1417\n",
      "Epoch 48/150\n",
      "12/12 [==============================] - 0s 803us/step - loss: 0.6516 - accuracy: 0.2333\n",
      "Epoch 49/150\n",
      "12/12 [==============================] - 0s 697us/step - loss: 0.6508 - accuracy: 0.3500\n",
      "Epoch 50/150\n",
      "12/12 [==============================] - 0s 787us/step - loss: 0.6499 - accuracy: 0.3500\n",
      "Epoch 51/150\n",
      "12/12 [==============================] - 0s 790us/step - loss: 0.6491 - accuracy: 0.3500\n",
      "Epoch 52/150\n",
      "12/12 [==============================] - 0s 788us/step - loss: 0.6482 - accuracy: 0.3500\n",
      "Epoch 53/150\n",
      "12/12 [==============================] - 0s 651us/step - loss: 0.6473 - accuracy: 0.3500\n",
      "Epoch 54/150\n",
      "12/12 [==============================] - 0s 744us/step - loss: 0.6465 - accuracy: 0.3500\n",
      "Epoch 55/150\n",
      "12/12 [==============================] - 0s 770us/step - loss: 0.6456 - accuracy: 0.3500\n",
      "Epoch 56/150\n",
      "12/12 [==============================] - 0s 743us/step - loss: 0.6448 - accuracy: 0.3500\n",
      "Epoch 57/150\n",
      "12/12 [==============================] - 0s 644us/step - loss: 0.6439 - accuracy: 0.3500\n",
      "Epoch 58/150\n",
      "12/12 [==============================] - 0s 785us/step - loss: 0.6431 - accuracy: 0.3500\n",
      "Epoch 59/150\n",
      "12/12 [==============================] - 0s 721us/step - loss: 0.6423 - accuracy: 0.3500\n",
      "Epoch 60/150\n",
      "12/12 [==============================] - 0s 761us/step - loss: 0.6414 - accuracy: 0.3583\n",
      "Epoch 61/150\n",
      "12/12 [==============================] - 0s 709us/step - loss: 0.6406 - accuracy: 0.3667\n",
      "Epoch 62/150\n",
      "12/12 [==============================] - 0s 629us/step - loss: 0.6397 - accuracy: 0.3750\n",
      "Epoch 63/150\n",
      "12/12 [==============================] - 0s 688us/step - loss: 0.6388 - accuracy: 0.3833\n",
      "Epoch 64/150\n",
      "12/12 [==============================] - 0s 721us/step - loss: 0.6379 - accuracy: 0.4000\n",
      "Epoch 65/150\n",
      "12/12 [==============================] - 0s 733us/step - loss: 0.6371 - accuracy: 0.4000\n",
      "Epoch 66/150\n",
      "12/12 [==============================] - 0s 702us/step - loss: 0.6362 - accuracy: 0.4500\n",
      "Epoch 67/150\n",
      "12/12 [==============================] - 0s 698us/step - loss: 0.6354 - accuracy: 0.5333\n",
      "Epoch 68/150\n",
      "12/12 [==============================] - 0s 677us/step - loss: 0.6344 - accuracy: 0.5917\n",
      "Epoch 69/150\n",
      "12/12 [==============================] - 0s 736us/step - loss: 0.6335 - accuracy: 0.6083\n",
      "Epoch 70/150\n",
      "12/12 [==============================] - 0s 731us/step - loss: 0.6326 - accuracy: 0.6417\n",
      "Epoch 71/150\n",
      "12/12 [==============================] - 0s 732us/step - loss: 0.6317 - accuracy: 0.6417\n",
      "Epoch 72/150\n",
      "12/12 [==============================] - 0s 666us/step - loss: 0.6308 - accuracy: 0.6417\n",
      "Epoch 73/150\n",
      "12/12 [==============================] - 0s 642us/step - loss: 0.6298 - accuracy: 0.6500\n",
      "Epoch 74/150\n",
      "12/12 [==============================] - 0s 656us/step - loss: 0.6289 - accuracy: 0.6500\n",
      "Epoch 75/150\n",
      "12/12 [==============================] - 0s 753us/step - loss: 0.6280 - accuracy: 0.6500\n",
      "Epoch 76/150\n",
      "12/12 [==============================] - 0s 675us/step - loss: 0.6270 - accuracy: 0.6500\n",
      "Epoch 77/150\n",
      "12/12 [==============================] - 0s 633us/step - loss: 0.6260 - accuracy: 0.6500\n",
      "Epoch 78/150\n",
      "12/12 [==============================] - 0s 700us/step - loss: 0.6250 - accuracy: 0.6667\n",
      "Epoch 79/150\n",
      "12/12 [==============================] - 0s 709us/step - loss: 0.6240 - accuracy: 0.6667\n",
      "Epoch 80/150\n",
      "12/12 [==============================] - 0s 603us/step - loss: 0.6230 - accuracy: 0.6500\n",
      "Epoch 81/150\n",
      "12/12 [==============================] - 0s 665us/step - loss: 0.6218 - accuracy: 0.6583\n",
      "Epoch 82/150\n",
      "12/12 [==============================] - 0s 647us/step - loss: 0.6207 - accuracy: 0.6667\n",
      "Epoch 83/150\n",
      "12/12 [==============================] - 0s 713us/step - loss: 0.6195 - accuracy: 0.6500\n",
      "Epoch 84/150\n",
      "12/12 [==============================] - 0s 680us/step - loss: 0.6183 - accuracy: 0.6667\n",
      "Epoch 85/150\n",
      "12/12 [==============================] - 0s 727us/step - loss: 0.6171 - accuracy: 0.6667\n",
      "Epoch 86/150\n",
      "12/12 [==============================] - 0s 700us/step - loss: 0.6158 - accuracy: 0.6750\n",
      "Epoch 87/150\n",
      "12/12 [==============================] - 0s 762us/step - loss: 0.6144 - accuracy: 0.6917\n",
      "Epoch 88/150\n",
      "12/12 [==============================] - 0s 706us/step - loss: 0.6130 - accuracy: 0.6917\n",
      "Epoch 89/150\n",
      "12/12 [==============================] - 0s 708us/step - loss: 0.6116 - accuracy: 0.7250\n",
      "Epoch 90/150\n",
      "12/12 [==============================] - 0s 672us/step - loss: 0.6099 - accuracy: 0.7417\n",
      "Epoch 91/150\n",
      "12/12 [==============================] - 0s 675us/step - loss: 0.6082 - accuracy: 0.7500\n",
      "Epoch 92/150\n",
      "12/12 [==============================] - 0s 614us/step - loss: 0.6065 - accuracy: 0.7417\n",
      "Epoch 93/150\n",
      "12/12 [==============================] - 0s 609us/step - loss: 0.6047 - accuracy: 0.7333\n",
      "Epoch 94/150\n",
      "12/12 [==============================] - 0s 589us/step - loss: 0.6030 - accuracy: 0.7250\n",
      "Epoch 95/150\n",
      "12/12 [==============================] - 0s 618us/step - loss: 0.6012 - accuracy: 0.7500\n",
      "Epoch 96/150\n",
      "12/12 [==============================] - 0s 645us/step - loss: 0.5996 - accuracy: 0.7333\n",
      "Epoch 97/150\n",
      "12/12 [==============================] - 0s 595us/step - loss: 0.5980 - accuracy: 0.7250\n",
      "Epoch 98/150\n",
      "12/12 [==============================] - 0s 576us/step - loss: 0.5964 - accuracy: 0.7167\n",
      "Epoch 99/150\n",
      "12/12 [==============================] - 0s 618us/step - loss: 0.5948 - accuracy: 0.7083\n",
      "Epoch 100/150\n",
      "12/12 [==============================] - 0s 615us/step - loss: 0.5933 - accuracy: 0.7250\n",
      "Epoch 101/150\n",
      "12/12 [==============================] - 0s 817us/step - loss: 0.5916 - accuracy: 0.7167\n",
      "Epoch 102/150\n",
      "12/12 [==============================] - 0s 723us/step - loss: 0.5900 - accuracy: 0.7083\n",
      "Epoch 103/150\n",
      "12/12 [==============================] - 0s 621us/step - loss: 0.5884 - accuracy: 0.7083\n",
      "Epoch 104/150\n",
      "12/12 [==============================] - 0s 635us/step - loss: 0.5868 - accuracy: 0.7167\n",
      "Epoch 105/150\n",
      "12/12 [==============================] - 0s 687us/step - loss: 0.5852 - accuracy: 0.6917\n",
      "Epoch 106/150\n",
      "12/12 [==============================] - 0s 633us/step - loss: 0.5833 - accuracy: 0.7000\n",
      "Epoch 107/150\n",
      "12/12 [==============================] - 0s 671us/step - loss: 0.5817 - accuracy: 0.6917\n",
      "Epoch 108/150\n",
      "12/12 [==============================] - 0s 576us/step - loss: 0.5798 - accuracy: 0.6833\n",
      "Epoch 109/150\n",
      "12/12 [==============================] - 0s 699us/step - loss: 0.5780 - accuracy: 0.6917\n",
      "Epoch 110/150\n",
      "12/12 [==============================] - 0s 677us/step - loss: 0.5761 - accuracy: 0.6917\n",
      "Epoch 111/150\n",
      "12/12 [==============================] - 0s 633us/step - loss: 0.5740 - accuracy: 0.6833\n",
      "Epoch 112/150\n",
      "12/12 [==============================] - 0s 609us/step - loss: 0.5721 - accuracy: 0.6750\n",
      "Epoch 113/150\n",
      "12/12 [==============================] - 0s 656us/step - loss: 0.5700 - accuracy: 0.6917\n",
      "Epoch 114/150\n",
      "12/12 [==============================] - 0s 559us/step - loss: 0.5679 - accuracy: 0.6833\n",
      "Epoch 115/150\n",
      "12/12 [==============================] - 0s 620us/step - loss: 0.5659 - accuracy: 0.6833\n",
      "Epoch 116/150\n",
      "12/12 [==============================] - 0s 672us/step - loss: 0.5637 - accuracy: 0.6833\n",
      "Epoch 117/150\n",
      "12/12 [==============================] - 0s 694us/step - loss: 0.5615 - accuracy: 0.6750\n",
      "Epoch 118/150\n",
      "12/12 [==============================] - 0s 598us/step - loss: 0.5591 - accuracy: 0.6750\n",
      "Epoch 119/150\n",
      "12/12 [==============================] - 0s 605us/step - loss: 0.5567 - accuracy: 0.6750\n",
      "Epoch 120/150\n",
      "12/12 [==============================] - 0s 578us/step - loss: 0.5545 - accuracy: 0.6583\n",
      "Epoch 121/150\n",
      "12/12 [==============================] - 0s 672us/step - loss: 0.5519 - accuracy: 0.6583\n",
      "Epoch 122/150\n",
      "12/12 [==============================] - 0s 642us/step - loss: 0.5494 - accuracy: 0.6583\n",
      "Epoch 123/150\n",
      "12/12 [==============================] - 0s 673us/step - loss: 0.5470 - accuracy: 0.6583\n",
      "Epoch 124/150\n",
      "12/12 [==============================] - 0s 646us/step - loss: 0.5445 - accuracy: 0.6583\n",
      "Epoch 125/150\n",
      "12/12 [==============================] - 0s 563us/step - loss: 0.5421 - accuracy: 0.6583\n",
      "Epoch 126/150\n",
      "12/12 [==============================] - 0s 622us/step - loss: 0.5393 - accuracy: 0.6583\n",
      "Epoch 127/150\n",
      "12/12 [==============================] - 0s 637us/step - loss: 0.5367 - accuracy: 0.6583\n",
      "Epoch 128/150\n",
      "12/12 [==============================] - 0s 578us/step - loss: 0.5343 - accuracy: 0.6500\n",
      "Epoch 129/150\n",
      "12/12 [==============================] - 0s 649us/step - loss: 0.5317 - accuracy: 0.6500\n",
      "Epoch 130/150\n",
      "12/12 [==============================] - 0s 616us/step - loss: 0.5288 - accuracy: 0.6500\n",
      "Epoch 131/150\n",
      "12/12 [==============================] - 0s 750us/step - loss: 0.5261 - accuracy: 0.6500\n",
      "Epoch 132/150\n",
      "12/12 [==============================] - 0s 761us/step - loss: 0.5236 - accuracy: 0.6500\n",
      "Epoch 133/150\n",
      "12/12 [==============================] - 0s 670us/step - loss: 0.5209 - accuracy: 0.6500\n",
      "Epoch 134/150\n",
      "12/12 [==============================] - 0s 670us/step - loss: 0.5186 - accuracy: 0.6500\n",
      "Epoch 135/150\n",
      "12/12 [==============================] - 0s 693us/step - loss: 0.5154 - accuracy: 0.6500\n",
      "Epoch 136/150\n",
      "12/12 [==============================] - 0s 647us/step - loss: 0.5126 - accuracy: 0.6500\n",
      "Epoch 137/150\n",
      "12/12 [==============================] - 0s 579us/step - loss: 0.5100 - accuracy: 0.6500\n",
      "Epoch 138/150\n",
      "12/12 [==============================] - 0s 683us/step - loss: 0.5071 - accuracy: 0.6500\n",
      "Epoch 139/150\n",
      "12/12 [==============================] - 0s 677us/step - loss: 0.5045 - accuracy: 0.6500\n",
      "Epoch 140/150\n",
      "12/12 [==============================] - 0s 601us/step - loss: 0.5017 - accuracy: 0.6500\n",
      "Epoch 141/150\n",
      "12/12 [==============================] - 0s 569us/step - loss: 0.4993 - accuracy: 0.6500\n",
      "Epoch 142/150\n",
      "12/12 [==============================] - 0s 693us/step - loss: 0.4964 - accuracy: 0.6500\n",
      "Epoch 143/150\n",
      "12/12 [==============================] - 0s 699us/step - loss: 0.4937 - accuracy: 0.6500\n",
      "Epoch 144/150\n",
      "12/12 [==============================] - 0s 591us/step - loss: 0.4912 - accuracy: 0.6500\n",
      "Epoch 145/150\n",
      "12/12 [==============================] - 0s 612us/step - loss: 0.4884 - accuracy: 0.6500\n",
      "Epoch 146/150\n",
      "12/12 [==============================] - 0s 655us/step - loss: 0.4858 - accuracy: 0.6500\n",
      "Epoch 147/150\n",
      "12/12 [==============================] - 0s 601us/step - loss: 0.4831 - accuracy: 0.6500\n",
      "Epoch 148/150\n",
      "12/12 [==============================] - 0s 645us/step - loss: 0.4807 - accuracy: 0.6500\n",
      "Epoch 149/150\n",
      "12/12 [==============================] - 0s 646us/step - loss: 0.4779 - accuracy: 0.6500\n",
      "Epoch 150/150\n",
      "12/12 [==============================] - 0s 708us/step - loss: 0.4753 - accuracy: 0.6500\n"
     ]
    },
    {
     "data": {
      "text/plain": [
       "<keras.src.callbacks.History at 0x2963bd730>"
      ]
     },
     "execution_count": 6,
     "metadata": {},
     "output_type": "execute_result"
    }
   ],
   "source": [
    "# fit the keras model on the dataset\n",
    "net.fit(X_train, y_train, epochs=150, batch_size=10)"
   ]
  },
  {
   "cell_type": "code",
   "execution_count": 7,
   "id": "3261fe2f",
   "metadata": {
    "colab": {
     "base_uri": "https://localhost:8080/"
    },
    "executionInfo": {
     "elapsed": 181,
     "status": "ok",
     "timestamp": 1666549367708,
     "user": {
      "displayName": "YU HEN HU",
      "userId": "04083449072545068296"
     },
     "user_tz": 300
    },
    "id": "3261fe2f",
    "outputId": "8864e175-b7ba-4997-bc38-98d239984175"
   },
   "outputs": [
    {
     "name": "stdout",
     "output_type": "stream",
     "text": [
      "Test loss: 0.4129\n",
      "Test accuracy: 0.7333333492279053\n"
     ]
    }
   ],
   "source": [
    "# Evaluate the trained model using keras built-in function\n",
    "score = net.evaluate(X_test, y_test, verbose=0)\n",
    "print(\"Test loss:\", format(score[0],\".4f\"))\n",
    "print(\"Test accuracy:\", score[1])"
   ]
  },
  {
   "cell_type": "code",
   "execution_count": 8,
   "id": "f2d65598",
   "metadata": {
    "colab": {
     "base_uri": "https://localhost:8080/"
    },
    "executionInfo": {
     "elapsed": 173,
     "status": "ok",
     "timestamp": 1666549367879,
     "user": {
      "displayName": "YU HEN HU",
      "userId": "04083449072545068296"
     },
     "user_tz": 300
    },
    "id": "f2d65598",
    "outputId": "f6120937-e479-4f01-db49-c3a55861815a"
   },
   "outputs": [
    {
     "name": "stdout",
     "output_type": "stream",
     "text": [
      "1/1 [==============================] - 0s 46ms/step\n",
      "tf.Tensor(\n",
      "[[14  0  0]\n",
      " [ 0  0  8]\n",
      " [ 0  0  8]], shape=(3, 3), dtype=int32)\n"
     ]
    }
   ],
   "source": [
    "# Evaluate predicted testing output\n",
    "# Since softmax output is used, these outputs are probability \n",
    "# vectors of value between 0 and 1 and values of each output \n",
    "# vector added to 1\n",
    "y_softmax = net.predict(X_test)\n",
    "# y_pc gives the indices (strating from 0) of the max elements\n",
    "y_pc = np.argmax(y_softmax, axis = -1)\n",
    "# convert y_pc into one-hot encoding\n",
    "y_pred = keras.utils.to_categorical(y_pc)\n",
    "\n",
    "Cmat = tf.math.confusion_matrix(y_test.argmax(axis=-1),y_pred.argmax(axis=-1))\n",
    "print(Cmat)"
   ]
  },
  {
   "cell_type": "code",
   "execution_count": 9,
   "id": "aGIafJJe-V3p",
   "metadata": {
    "executionInfo": {
     "elapsed": 1829,
     "status": "ok",
     "timestamp": 1666549369706,
     "user": {
      "displayName": "YU HEN HU",
      "userId": "04083449072545068296"
     },
     "user_tz": 300
    },
    "id": "aGIafJJe-V3p"
   },
   "outputs": [],
   "source": [
    "#drive.flush_and_unmount()"
   ]
  },
  {
   "cell_type": "code",
   "execution_count": 10,
   "id": "46e67d0b-1e1d-412c-8d5c-1f5dc426fb41",
   "metadata": {},
   "outputs": [],
   "source": [
    "#Observation: Not enough neurons and learning per layer, too low dimension?"
   ]
  }
 ],
 "metadata": {
  "colab": {
   "collapsed_sections": [],
   "provenance": []
  },
  "kernelspec": {
   "display_name": "Python 3 (ipykernel)",
   "language": "python",
   "name": "python3"
  },
  "language_info": {
   "codemirror_mode": {
    "name": "ipython",
    "version": 3
   },
   "file_extension": ".py",
   "mimetype": "text/x-python",
   "name": "python",
   "nbconvert_exporter": "python",
   "pygments_lexer": "ipython3",
   "version": "3.9.6"
  }
 },
 "nbformat": 4,
 "nbformat_minor": 5
}
