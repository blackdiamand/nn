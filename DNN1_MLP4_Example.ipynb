{
 "cells": [
  {
   "cell_type": "code",
   "execution_count": 105,
   "id": "717a35ac",
   "metadata": {
    "ExecuteTime": {
     "end_time": "2024-03-15T19:17:20.388359Z",
     "start_time": "2024-03-15T19:17:16.334927Z"
    },
    "executionInfo": {
     "elapsed": 5883,
     "status": "ok",
     "timestamp": 1666549341350,
     "user": {
      "displayName": "YU HEN HU",
      "userId": "04083449072545068296"
     },
     "user_tz": 300
    },
    "id": "717a35ac"
   },
   "outputs": [],
   "source": [
    "# part of the code also refers to:\n",
    "# https://machinelearningmastery.com/tutorial-first-neural-network-python-keras/\n",
    "# !pip install d2l==0.17.0\n",
    "import tensorflow as tf\n",
    "import numpy as np\n",
    "#from google.colab import drive\n",
    "from tensorflow import keras\n",
    "from sklearn.model_selection import train_test_split"
   ]
  },
  {
   "cell_type": "code",
   "execution_count": 106,
   "id": "71cfbd08",
   "metadata": {
    "colab": {
     "base_uri": "https://localhost:8080/"
    },
    "executionInfo": {
     "elapsed": 18107,
     "status": "ok",
     "timestamp": 1666549359448,
     "user": {
      "displayName": "YU HEN HU",
      "userId": "04083449072545068296"
     },
     "user_tz": 300
    },
    "id": "71cfbd08",
    "outputId": "6b425965-90f4-456f-8b89-c0d1dc565080"
   },
   "outputs": [],
   "source": [
    "# import data\n",
    "#drive.mount('/content/drive')\n",
    "with open('iris.csv', 'r') as f: \n",
    "  data = np.genfromtxt(f, dtype='f4', delimiter=',')\n",
    "X = data[:,:4]\n",
    "# y = [data[:,4] == 1, data[:,4] == 2, data[:,4] == 3]\n",
    "y = data[:,4]"
   ]
  },
  {
   "cell_type": "code",
   "execution_count": 107,
   "id": "7501ce39",
   "metadata": {
    "executionInfo": {
     "elapsed": 3,
     "status": "ok",
     "timestamp": 1666549359448,
     "user": {
      "displayName": "YU HEN HU",
      "userId": "04083449072545068296"
     },
     "user_tz": 300
    },
    "id": "7501ce39"
   },
   "outputs": [],
   "source": [
    "# partition into training and validation set at 80/20 division\n",
    "X_train, X_test, y_train, y_test = train_test_split(X, y, test_size=0.20)\n",
    "# Converting y_r and y_t into one-hot encoding using a keras utility\n",
    "#  to_categorical\n",
    "# The class vector to be converted into a matrix is assumed to contain\n",
    "#  integers from 0 to num_classes. The label in iris.csv is 1, 2, 3\n",
    "#  Hence we subtract it by 1 before conversion\n",
    "y_train = keras.utils.to_categorical(y_train-1)\n",
    "y_test = keras.utils.to_categorical(y_test-1)"
   ]
  },
  {
   "cell_type": "code",
   "execution_count": 108,
   "id": "57fa02c9",
   "metadata": {
    "executionInfo": {
     "elapsed": 398,
     "status": "ok",
     "timestamp": 1666549359844,
     "user": {
      "displayName": "YU HEN HU",
      "userId": "04083449072545068296"
     },
     "user_tz": 300
    },
    "id": "57fa02c9"
   },
   "outputs": [],
   "source": [
    "# define the keras model\n",
    "# 4-10-10-10-3 configuration, relu and softmax activation for the \n",
    "# hidden layer and output layer respectively\n",
    "net = tf.keras.models.Sequential([\n",
    "    tf.keras.layers.Dense(10, input_dim=4, activation = 'relu'),\n",
    "    tf.keras.layers.Dense(3, activation = 'relu'),\n",
    "    tf.keras.layers.Dense(3, activation = 'relu'),\n",
    "    tf.keras.layers.Dense(3, activation = 'relu'),\n",
    "    tf.keras.layers.Dense(3, activation = 'relu'),\n",
    "    tf.keras.layers.Dense(3, activation = 'relu'),\n",
    "    tf.keras.layers.Dense(3, activation = 'relu'),\n",
    "    tf.keras.layers.Dense(3, activation = 'relu'),\n",
    "    tf.keras.layers.Dense(3, activation = 'relu'),\n",
    "    tf.keras.layers.Dense(3, activation='softmax')])"
   ]
  },
  {
   "cell_type": "code",
   "execution_count": 109,
   "id": "2f08f1cb",
   "metadata": {
    "executionInfo": {
     "elapsed": 6,
     "status": "ok",
     "timestamp": 1666549359844,
     "user": {
      "displayName": "YU HEN HU",
      "userId": "04083449072545068296"
     },
     "user_tz": 300
    },
    "id": "2f08f1cb"
   },
   "outputs": [],
   "source": [
    "# compile the keras model\n",
    "net.compile(loss='binary_crossentropy', optimizer='adam', \n",
    "              metrics=['accuracy'])"
   ]
  },
  {
   "cell_type": "code",
   "execution_count": 110,
   "id": "cb0ad23a",
   "metadata": {
    "colab": {
     "base_uri": "https://localhost:8080/"
    },
    "executionInfo": {
     "elapsed": 7690,
     "status": "ok",
     "timestamp": 1666549367530,
     "user": {
      "displayName": "YU HEN HU",
      "userId": "04083449072545068296"
     },
     "user_tz": 300
    },
    "id": "cb0ad23a",
    "outputId": "9859c0bd-8b8b-4850-9899-62e931d6ffe4"
   },
   "outputs": [
    {
     "name": "stdout",
     "output_type": "stream",
     "text": [
      "Epoch 1/150\n",
      "12/12 [==============================] - 0s 860us/step - loss: 0.6874 - accuracy: 0.2667\n",
      "Epoch 2/150\n",
      "12/12 [==============================] - 0s 788us/step - loss: 0.6792 - accuracy: 0.3750\n",
      "Epoch 3/150\n",
      "12/12 [==============================] - 0s 857us/step - loss: 0.6703 - accuracy: 0.3750\n",
      "Epoch 4/150\n",
      "12/12 [==============================] - 0s 910us/step - loss: 0.6607 - accuracy: 0.3750\n",
      "Epoch 5/150\n",
      "12/12 [==============================] - 0s 962us/step - loss: 0.6513 - accuracy: 0.3750\n",
      "Epoch 6/150\n",
      "12/12 [==============================] - 0s 979us/step - loss: 0.6438 - accuracy: 0.3750\n",
      "Epoch 7/150\n",
      "12/12 [==============================] - 0s 946us/step - loss: 0.6401 - accuracy: 0.3750\n",
      "Epoch 8/150\n",
      "12/12 [==============================] - 0s 751us/step - loss: 0.6392 - accuracy: 0.3750\n",
      "Epoch 9/150\n",
      "12/12 [==============================] - 0s 761us/step - loss: 0.6386 - accuracy: 0.3750\n",
      "Epoch 10/150\n",
      "12/12 [==============================] - 0s 802us/step - loss: 0.6382 - accuracy: 0.3750\n",
      "Epoch 11/150\n",
      "12/12 [==============================] - 0s 686us/step - loss: 0.6379 - accuracy: 0.3750\n",
      "Epoch 12/150\n",
      "12/12 [==============================] - 0s 860us/step - loss: 0.6375 - accuracy: 0.3750\n",
      "Epoch 13/150\n",
      "12/12 [==============================] - 0s 802us/step - loss: 0.6372 - accuracy: 0.3750\n",
      "Epoch 14/150\n",
      "12/12 [==============================] - 0s 814us/step - loss: 0.6369 - accuracy: 0.3750\n",
      "Epoch 15/150\n",
      "12/12 [==============================] - 0s 854us/step - loss: 0.6368 - accuracy: 0.3750\n",
      "Epoch 16/150\n",
      "12/12 [==============================] - 0s 860us/step - loss: 0.6365 - accuracy: 0.3750\n",
      "Epoch 17/150\n",
      "12/12 [==============================] - 0s 720us/step - loss: 0.6363 - accuracy: 0.3750\n",
      "Epoch 18/150\n",
      "12/12 [==============================] - 0s 746us/step - loss: 0.6361 - accuracy: 0.3750\n",
      "Epoch 19/150\n",
      "12/12 [==============================] - 0s 806us/step - loss: 0.6359 - accuracy: 0.3750\n",
      "Epoch 20/150\n",
      "12/12 [==============================] - 0s 679us/step - loss: 0.6358 - accuracy: 0.3750\n",
      "Epoch 21/150\n",
      "12/12 [==============================] - 0s 751us/step - loss: 0.6358 - accuracy: 0.3750\n",
      "Epoch 22/150\n",
      "12/12 [==============================] - 0s 789us/step - loss: 0.6355 - accuracy: 0.3750\n",
      "Epoch 23/150\n",
      "12/12 [==============================] - 0s 758us/step - loss: 0.6354 - accuracy: 0.3750\n",
      "Epoch 24/150\n",
      "12/12 [==============================] - 0s 654us/step - loss: 0.6353 - accuracy: 0.3750\n",
      "Epoch 25/150\n",
      "12/12 [==============================] - 0s 811us/step - loss: 0.6352 - accuracy: 0.3833\n",
      "Epoch 26/150\n",
      "12/12 [==============================] - 0s 832us/step - loss: 0.6351 - accuracy: 0.4083\n",
      "Epoch 27/150\n",
      "12/12 [==============================] - 0s 726us/step - loss: 0.6350 - accuracy: 0.4167\n",
      "Epoch 28/150\n",
      "12/12 [==============================] - 0s 891us/step - loss: 0.6349 - accuracy: 0.4417\n",
      "Epoch 29/150\n",
      "12/12 [==============================] - 0s 884us/step - loss: 0.6349 - accuracy: 0.4583\n",
      "Epoch 30/150\n",
      "12/12 [==============================] - 0s 800us/step - loss: 0.6348 - accuracy: 0.5417\n",
      "Epoch 31/150\n",
      "12/12 [==============================] - 0s 850us/step - loss: 0.6347 - accuracy: 0.4750\n",
      "Epoch 32/150\n",
      "12/12 [==============================] - 0s 796us/step - loss: 0.6346 - accuracy: 0.4333\n",
      "Epoch 33/150\n",
      "12/12 [==============================] - 0s 776us/step - loss: 0.6346 - accuracy: 0.4000\n",
      "Epoch 34/150\n",
      "12/12 [==============================] - 0s 855us/step - loss: 0.6346 - accuracy: 0.4000\n",
      "Epoch 35/150\n",
      "12/12 [==============================] - 0s 901us/step - loss: 0.6345 - accuracy: 0.4833\n",
      "Epoch 36/150\n",
      "12/12 [==============================] - 0s 944us/step - loss: 0.6344 - accuracy: 0.4417\n",
      "Epoch 37/150\n",
      "12/12 [==============================] - 0s 934us/step - loss: 0.6343 - accuracy: 0.4750\n",
      "Epoch 38/150\n",
      "12/12 [==============================] - 0s 810us/step - loss: 0.6343 - accuracy: 0.5750\n",
      "Epoch 39/150\n",
      "12/12 [==============================] - 0s 857us/step - loss: 0.6342 - accuracy: 0.6083\n",
      "Epoch 40/150\n",
      "12/12 [==============================] - 0s 749us/step - loss: 0.6342 - accuracy: 0.5167\n",
      "Epoch 41/150\n",
      "12/12 [==============================] - 0s 907us/step - loss: 0.6341 - accuracy: 0.4083\n",
      "Epoch 42/150\n",
      "12/12 [==============================] - 0s 940us/step - loss: 0.6341 - accuracy: 0.4167\n",
      "Epoch 43/150\n",
      "12/12 [==============================] - 0s 871us/step - loss: 0.6340 - accuracy: 0.4333\n",
      "Epoch 44/150\n",
      "12/12 [==============================] - 0s 890us/step - loss: 0.6339 - accuracy: 0.4667\n",
      "Epoch 45/150\n",
      "12/12 [==============================] - 0s 822us/step - loss: 0.6339 - accuracy: 0.4667\n",
      "Epoch 46/150\n",
      "12/12 [==============================] - 0s 632us/step - loss: 0.6338 - accuracy: 0.5333\n",
      "Epoch 47/150\n",
      "12/12 [==============================] - 0s 766us/step - loss: 0.6338 - accuracy: 0.4917\n",
      "Epoch 48/150\n",
      "12/12 [==============================] - 0s 694us/step - loss: 0.6339 - accuracy: 0.5583\n",
      "Epoch 49/150\n",
      "12/12 [==============================] - 0s 784us/step - loss: 0.6337 - accuracy: 0.5417\n",
      "Epoch 50/150\n",
      "12/12 [==============================] - 0s 783us/step - loss: 0.6336 - accuracy: 0.5417\n",
      "Epoch 51/150\n",
      "12/12 [==============================] - 0s 752us/step - loss: 0.6335 - accuracy: 0.5750\n",
      "Epoch 52/150\n",
      "12/12 [==============================] - 0s 831us/step - loss: 0.6335 - accuracy: 0.5917\n",
      "Epoch 53/150\n",
      "12/12 [==============================] - 0s 853us/step - loss: 0.6336 - accuracy: 0.6583\n",
      "Epoch 54/150\n",
      "12/12 [==============================] - 0s 730us/step - loss: 0.6333 - accuracy: 0.6500\n",
      "Epoch 55/150\n",
      "12/12 [==============================] - 0s 860us/step - loss: 0.6333 - accuracy: 0.6333\n",
      "Epoch 56/150\n",
      "12/12 [==============================] - 0s 764us/step - loss: 0.6332 - accuracy: 0.6917\n",
      "Epoch 57/150\n",
      "12/12 [==============================] - 0s 718us/step - loss: 0.6331 - accuracy: 0.6917\n",
      "Epoch 58/150\n",
      "12/12 [==============================] - 0s 807us/step - loss: 0.6330 - accuracy: 0.6917\n",
      "Epoch 59/150\n",
      "12/12 [==============================] - 0s 758us/step - loss: 0.6329 - accuracy: 0.6917\n",
      "Epoch 60/150\n",
      "12/12 [==============================] - 0s 602us/step - loss: 0.6329 - accuracy: 0.7000\n",
      "Epoch 61/150\n",
      "12/12 [==============================] - 0s 743us/step - loss: 0.6327 - accuracy: 0.7083\n",
      "Epoch 62/150\n",
      "12/12 [==============================] - 0s 773us/step - loss: 0.6326 - accuracy: 0.7083\n",
      "Epoch 63/150\n",
      "12/12 [==============================] - 0s 756us/step - loss: 0.6326 - accuracy: 0.7083\n",
      "Epoch 64/150\n",
      "12/12 [==============================] - 0s 697us/step - loss: 0.6324 - accuracy: 0.7083\n",
      "Epoch 65/150\n",
      "12/12 [==============================] - 0s 708us/step - loss: 0.6323 - accuracy: 0.7083\n",
      "Epoch 66/150\n",
      "12/12 [==============================] - 0s 638us/step - loss: 0.6321 - accuracy: 0.7083\n",
      "Epoch 67/150\n",
      "12/12 [==============================] - 0s 778us/step - loss: 0.6319 - accuracy: 0.7083\n",
      "Epoch 68/150\n",
      "12/12 [==============================] - 0s 779us/step - loss: 0.6318 - accuracy: 0.7083\n",
      "Epoch 69/150\n",
      "12/12 [==============================] - 0s 886us/step - loss: 0.6316 - accuracy: 0.7083\n",
      "Epoch 70/150\n",
      "12/12 [==============================] - 0s 962us/step - loss: 0.6313 - accuracy: 0.7083\n",
      "Epoch 71/150\n",
      "12/12 [==============================] - 0s 866us/step - loss: 0.6311 - accuracy: 0.7083\n",
      "Epoch 72/150\n",
      "12/12 [==============================] - 0s 815us/step - loss: 0.6308 - accuracy: 0.7083\n",
      "Epoch 73/150\n",
      "12/12 [==============================] - 0s 775us/step - loss: 0.6306 - accuracy: 0.7083\n",
      "Epoch 74/150\n",
      "12/12 [==============================] - 0s 892us/step - loss: 0.6303 - accuracy: 0.7000\n",
      "Epoch 75/150\n",
      "12/12 [==============================] - 0s 803us/step - loss: 0.6298 - accuracy: 0.7083\n",
      "Epoch 76/150\n",
      "12/12 [==============================] - 0s 739us/step - loss: 0.6294 - accuracy: 0.7083\n",
      "Epoch 77/150\n",
      "12/12 [==============================] - 0s 793us/step - loss: 0.6290 - accuracy: 0.7083\n",
      "Epoch 78/150\n",
      "12/12 [==============================] - 0s 727us/step - loss: 0.6285 - accuracy: 0.7083\n",
      "Epoch 79/150\n",
      "12/12 [==============================] - 0s 666us/step - loss: 0.6279 - accuracy: 0.7083\n",
      "Epoch 80/150\n",
      "12/12 [==============================] - 0s 778us/step - loss: 0.6273 - accuracy: 0.7083\n",
      "Epoch 81/150\n",
      "12/12 [==============================] - 0s 753us/step - loss: 0.6266 - accuracy: 0.7083\n",
      "Epoch 82/150\n",
      "12/12 [==============================] - 0s 743us/step - loss: 0.6259 - accuracy: 0.7083\n",
      "Epoch 83/150\n",
      "12/12 [==============================] - 0s 721us/step - loss: 0.6249 - accuracy: 0.7083\n",
      "Epoch 84/150\n",
      "12/12 [==============================] - 0s 735us/step - loss: 0.6238 - accuracy: 0.7083\n",
      "Epoch 85/150\n",
      "12/12 [==============================] - 0s 747us/step - loss: 0.6228 - accuracy: 0.7083\n",
      "Epoch 86/150\n",
      "12/12 [==============================] - 0s 787us/step - loss: 0.6214 - accuracy: 0.7083\n",
      "Epoch 87/150\n",
      "12/12 [==============================] - 0s 793us/step - loss: 0.6201 - accuracy: 0.7083\n",
      "Epoch 88/150\n",
      "12/12 [==============================] - 0s 674us/step - loss: 0.6184 - accuracy: 0.7083\n",
      "Epoch 89/150\n",
      "12/12 [==============================] - 0s 779us/step - loss: 0.6165 - accuracy: 0.7083\n",
      "Epoch 90/150\n",
      "12/12 [==============================] - 0s 726us/step - loss: 0.6144 - accuracy: 0.7083\n",
      "Epoch 91/150\n",
      "12/12 [==============================] - 0s 663us/step - loss: 0.6120 - accuracy: 0.7083\n",
      "Epoch 92/150\n",
      "12/12 [==============================] - 0s 700us/step - loss: 0.6095 - accuracy: 0.7083\n",
      "Epoch 93/150\n",
      "12/12 [==============================] - 0s 693us/step - loss: 0.6068 - accuracy: 0.7083\n",
      "Epoch 94/150\n",
      "12/12 [==============================] - 0s 726us/step - loss: 0.6038 - accuracy: 0.7083\n",
      "Epoch 95/150\n",
      "12/12 [==============================] - 0s 657us/step - loss: 0.6005 - accuracy: 0.7083\n",
      "Epoch 96/150\n",
      "12/12 [==============================] - 0s 675us/step - loss: 0.5975 - accuracy: 0.7083\n",
      "Epoch 97/150\n",
      "12/12 [==============================] - 0s 782us/step - loss: 0.5938 - accuracy: 0.7083\n",
      "Epoch 98/150\n",
      "12/12 [==============================] - 0s 690us/step - loss: 0.5902 - accuracy: 0.7083\n",
      "Epoch 99/150\n",
      "12/12 [==============================] - 0s 780us/step - loss: 0.5865 - accuracy: 0.7083\n",
      "Epoch 100/150\n",
      "12/12 [==============================] - 0s 705us/step - loss: 0.5827 - accuracy: 0.7083\n",
      "Epoch 101/150\n",
      "12/12 [==============================] - 0s 740us/step - loss: 0.5788 - accuracy: 0.7083\n",
      "Epoch 102/150\n",
      "12/12 [==============================] - 0s 736us/step - loss: 0.5750 - accuracy: 0.7083\n",
      "Epoch 103/150\n",
      "12/12 [==============================] - 0s 720us/step - loss: 0.5710 - accuracy: 0.7083\n",
      "Epoch 104/150\n",
      "12/12 [==============================] - 0s 639us/step - loss: 0.5671 - accuracy: 0.7083\n",
      "Epoch 105/150\n",
      "12/12 [==============================] - 0s 704us/step - loss: 0.5633 - accuracy: 0.7083\n",
      "Epoch 106/150\n",
      "12/12 [==============================] - 0s 661us/step - loss: 0.5590 - accuracy: 0.7083\n",
      "Epoch 107/150\n",
      "12/12 [==============================] - 0s 739us/step - loss: 0.5545 - accuracy: 0.7083\n",
      "Epoch 108/150\n",
      "12/12 [==============================] - 0s 722us/step - loss: 0.5501 - accuracy: 0.7083\n",
      "Epoch 109/150\n",
      "12/12 [==============================] - 0s 644us/step - loss: 0.5457 - accuracy: 0.7083\n",
      "Epoch 110/150\n",
      "12/12 [==============================] - 0s 762us/step - loss: 0.5414 - accuracy: 0.7083\n",
      "Epoch 111/150\n",
      "12/12 [==============================] - 0s 746us/step - loss: 0.5368 - accuracy: 0.7083\n",
      "Epoch 112/150\n",
      "12/12 [==============================] - 0s 697us/step - loss: 0.5314 - accuracy: 0.7083\n",
      "Epoch 113/150\n",
      "12/12 [==============================] - 0s 701us/step - loss: 0.5267 - accuracy: 0.7083\n",
      "Epoch 114/150\n",
      "12/12 [==============================] - 0s 697us/step - loss: 0.5218 - accuracy: 0.7083\n",
      "Epoch 115/150\n",
      "12/12 [==============================] - 0s 595us/step - loss: 0.5146 - accuracy: 0.7083\n",
      "Epoch 116/150\n",
      "12/12 [==============================] - 0s 632us/step - loss: 0.5100 - accuracy: 0.7083\n",
      "Epoch 117/150\n",
      "12/12 [==============================] - 0s 757us/step - loss: 0.5044 - accuracy: 0.7083\n",
      "Epoch 118/150\n",
      "12/12 [==============================] - 0s 719us/step - loss: 0.4972 - accuracy: 0.7083\n",
      "Epoch 119/150\n",
      "12/12 [==============================] - 0s 853us/step - loss: 0.4900 - accuracy: 0.7083\n",
      "Epoch 120/150\n",
      "12/12 [==============================] - 0s 640us/step - loss: 0.4848 - accuracy: 0.7083\n",
      "Epoch 121/150\n",
      "12/12 [==============================] - 0s 733us/step - loss: 0.4776 - accuracy: 0.7083\n",
      "Epoch 122/150\n",
      "12/12 [==============================] - 0s 809us/step - loss: 0.4728 - accuracy: 0.7083\n",
      "Epoch 123/150\n",
      "12/12 [==============================] - 0s 787us/step - loss: 0.4647 - accuracy: 0.7083\n",
      "Epoch 124/150\n",
      "12/12 [==============================] - 0s 631us/step - loss: 0.4588 - accuracy: 0.7083\n",
      "Epoch 125/150\n",
      "12/12 [==============================] - 0s 638us/step - loss: 0.4537 - accuracy: 0.7083\n",
      "Epoch 126/150\n",
      "12/12 [==============================] - 0s 629us/step - loss: 0.4478 - accuracy: 0.7083\n",
      "Epoch 127/150\n",
      "12/12 [==============================] - 0s 653us/step - loss: 0.4429 - accuracy: 0.7083\n",
      "Epoch 128/150\n",
      "12/12 [==============================] - 0s 701us/step - loss: 0.4381 - accuracy: 0.7083\n",
      "Epoch 129/150\n",
      "12/12 [==============================] - 0s 689us/step - loss: 0.4343 - accuracy: 0.7083\n",
      "Epoch 130/150\n",
      "12/12 [==============================] - 0s 668us/step - loss: 0.4348 - accuracy: 0.7083\n",
      "Epoch 131/150\n",
      "12/12 [==============================] - 0s 610us/step - loss: 0.4291 - accuracy: 0.7083\n",
      "Epoch 132/150\n",
      "12/12 [==============================] - 0s 775us/step - loss: 0.4255 - accuracy: 0.7167\n",
      "Epoch 133/150\n",
      "12/12 [==============================] - 0s 726us/step - loss: 0.4293 - accuracy: 0.7083\n",
      "Epoch 134/150\n",
      "12/12 [==============================] - 0s 784us/step - loss: 0.4289 - accuracy: 0.7083\n",
      "Epoch 135/150\n",
      "12/12 [==============================] - 0s 676us/step - loss: 0.4238 - accuracy: 0.7083\n",
      "Epoch 136/150\n",
      "12/12 [==============================] - 0s 758us/step - loss: 0.4200 - accuracy: 0.7167\n",
      "Epoch 137/150\n",
      "12/12 [==============================] - 0s 689us/step - loss: 0.4141 - accuracy: 0.7083\n",
      "Epoch 138/150\n",
      "12/12 [==============================] - 0s 612us/step - loss: 0.4217 - accuracy: 0.7333\n",
      "Epoch 139/150\n",
      "12/12 [==============================] - 0s 569us/step - loss: 0.4147 - accuracy: 0.7417\n",
      "Epoch 140/150\n",
      "12/12 [==============================] - 0s 740us/step - loss: 0.4083 - accuracy: 0.7250\n",
      "Epoch 141/150\n",
      "12/12 [==============================] - 0s 714us/step - loss: 0.4158 - accuracy: 0.7083\n",
      "Epoch 142/150\n",
      "12/12 [==============================] - 0s 747us/step - loss: 0.4066 - accuracy: 0.7167\n",
      "Epoch 143/150\n",
      "12/12 [==============================] - 0s 684us/step - loss: 0.4063 - accuracy: 0.7250\n",
      "Epoch 144/150\n",
      "12/12 [==============================] - 0s 741us/step - loss: 0.4033 - accuracy: 0.7417\n",
      "Epoch 145/150\n",
      "12/12 [==============================] - 0s 683us/step - loss: 0.4005 - accuracy: 0.7417\n",
      "Epoch 146/150\n",
      "12/12 [==============================] - 0s 666us/step - loss: 0.3987 - accuracy: 0.7417\n",
      "Epoch 147/150\n",
      "12/12 [==============================] - 0s 774us/step - loss: 0.3975 - accuracy: 0.7417\n",
      "Epoch 148/150\n",
      "12/12 [==============================] - 0s 646us/step - loss: 0.3952 - accuracy: 0.7500\n",
      "Epoch 149/150\n",
      "12/12 [==============================] - 0s 626us/step - loss: 0.3949 - accuracy: 0.7500\n",
      "Epoch 150/150\n",
      "12/12 [==============================] - 0s 630us/step - loss: 0.3930 - accuracy: 0.7583\n"
     ]
    },
    {
     "data": {
      "text/plain": [
       "<keras.src.callbacks.History at 0x2c66d07c0>"
      ]
     },
     "execution_count": 110,
     "metadata": {},
     "output_type": "execute_result"
    }
   ],
   "source": [
    "# fit the keras model on the dataset\n",
    "net.fit(X_train, y_train, epochs=150, batch_size=10)"
   ]
  },
  {
   "cell_type": "code",
   "execution_count": 111,
   "id": "3261fe2f",
   "metadata": {
    "colab": {
     "base_uri": "https://localhost:8080/"
    },
    "executionInfo": {
     "elapsed": 181,
     "status": "ok",
     "timestamp": 1666549367708,
     "user": {
      "displayName": "YU HEN HU",
      "userId": "04083449072545068296"
     },
     "user_tz": 300
    },
    "id": "3261fe2f",
    "outputId": "8864e175-b7ba-4997-bc38-98d239984175"
   },
   "outputs": [
    {
     "name": "stdout",
     "output_type": "stream",
     "text": [
      "Test loss: 0.4668\n",
      "Test accuracy: 0.5666666626930237\n"
     ]
    }
   ],
   "source": [
    "# Evaluate the trained model using keras built-in function\n",
    "score = net.evaluate(X_test, y_test, verbose=0)\n",
    "print(\"Test loss:\", format(score[0],\".4f\"))\n",
    "print(\"Test accuracy:\", score[1])"
   ]
  },
  {
   "cell_type": "code",
   "execution_count": 112,
   "id": "f2d65598",
   "metadata": {
    "colab": {
     "base_uri": "https://localhost:8080/"
    },
    "executionInfo": {
     "elapsed": 173,
     "status": "ok",
     "timestamp": 1666549367879,
     "user": {
      "displayName": "YU HEN HU",
      "userId": "04083449072545068296"
     },
     "user_tz": 300
    },
    "id": "f2d65598",
    "outputId": "f6120937-e479-4f01-db49-c3a55861815a"
   },
   "outputs": [
    {
     "name": "stdout",
     "output_type": "stream",
     "text": [
      "1/1 [==============================] - 0s 35ms/step\n",
      "tf.Tensor(\n",
      "[[ 5  0  0]\n",
      " [ 4  2  9]\n",
      " [ 0  0 10]], shape=(3, 3), dtype=int32)\n"
     ]
    }
   ],
   "source": [
    "# Evaluate predicted testing output\n",
    "# Since softmax output is used, these outputs are probability \n",
    "# vectors of value between 0 and 1 and values of each output \n",
    "# vector added to 1\n",
    "y_softmax = net.predict(X_test)\n",
    "# y_pc gives the indices (strating from 0) of the max elements\n",
    "y_pc = np.argmax(y_softmax, axis = -1)\n",
    "# convert y_pc into one-hot encoding\n",
    "y_pred = keras.utils.to_categorical(y_pc)\n",
    "\n",
    "Cmat = tf.math.confusion_matrix(y_test.argmax(axis=-1),y_pred.argmax(axis=-1))\n",
    "print(Cmat)"
   ]
  },
  {
   "cell_type": "code",
   "execution_count": 113,
   "id": "aGIafJJe-V3p",
   "metadata": {
    "executionInfo": {
     "elapsed": 1829,
     "status": "ok",
     "timestamp": 1666549369706,
     "user": {
      "displayName": "YU HEN HU",
      "userId": "04083449072545068296"
     },
     "user_tz": 300
    },
    "id": "aGIafJJe-V3p"
   },
   "outputs": [],
   "source": [
    "#drive.flush_and_unmount()"
   ]
  },
  {
   "cell_type": "code",
   "execution_count": 114,
   "id": "46e67d0b-1e1d-412c-8d5c-1f5dc426fb41",
   "metadata": {},
   "outputs": [],
   "source": [
    "#Observation: Not enough neurons and learning per layer, too low dimension?"
   ]
  }
 ],
 "metadata": {
  "colab": {
   "collapsed_sections": [],
   "provenance": []
  },
  "kernelspec": {
   "display_name": "Python 3 (ipykernel)",
   "language": "python",
   "name": "python3"
  },
  "language_info": {
   "codemirror_mode": {
    "name": "ipython",
    "version": 3
   },
   "file_extension": ".py",
   "mimetype": "text/x-python",
   "name": "python",
   "nbconvert_exporter": "python",
   "pygments_lexer": "ipython3",
   "version": "3.9.6"
  }
 },
 "nbformat": 4,
 "nbformat_minor": 5
}
